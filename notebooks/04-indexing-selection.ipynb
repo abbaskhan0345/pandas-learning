{
 "cells": [
  {
   "cell_type": "markdown",
   "id": "9d64d34b",
   "metadata": {},
   "source": [
    "# Pandas Indexing and Selection\n",
    "**`04-indexing-selection.ipynb`**\n",
    "\n",
    "In this notebook, we learn how to **access, select, and filter data** in a Pandas DataFrame or Series.  \n",
    "Proper indexing is critical for **data analysis and manipulation**.\n",
    "\n",
    "---"
   ]
  },
  {
   "cell_type": "markdown",
   "id": "fd37b0a8",
   "metadata": {},
   "source": [
    "## Step 1: Import Libraries"
   ]
  },
  {
   "cell_type": "code",
   "execution_count": 1,
   "id": "bdfeedc6",
   "metadata": {},
   "outputs": [],
   "source": [
    "import pandas as pd\n",
    "import numpy as np"
   ]
  },
  {
   "cell_type": "markdown",
   "id": "b434480f",
   "metadata": {},
   "source": [
    "\n",
    "---"
   ]
  },
  {
   "cell_type": "markdown",
   "id": "78fe7132",
   "metadata": {},
   "source": [
    "## Step 2: Creating a Sample DataFrame"
   ]
  },
  {
   "cell_type": "code",
   "execution_count": 2,
   "id": "aa608f33",
   "metadata": {},
   "outputs": [
    {
     "name": "stdout",
     "output_type": "stream",
     "text": [
      "      Name  Age         City  Salary\n",
      "0    Alice   25     New York   50000\n",
      "1      Bob   30  Los Angeles   60000\n",
      "2  Charlie   22      Chicago   55000\n",
      "3    David   28      Houston   65000\n"
     ]
    }
   ],
   "source": [
    "data = {\n",
    "    \"Name\": [\"Alice\", \"Bob\", \"Charlie\", \"David\"],\n",
    "    \"Age\": [25, 30, 22, 28],\n",
    "    \"City\": [\"New York\", \"Los Angeles\", \"Chicago\", \"Houston\"],\n",
    "    \"Salary\": [50000, 60000, 55000, 65000]\n",
    "}\n",
    "\n",
    "df = pd.DataFrame(data)\n",
    "print(df)"
   ]
  },
  {
   "cell_type": "markdown",
   "id": "957e4a99",
   "metadata": {},
   "source": [
    "---"
   ]
  },
  {
   "cell_type": "markdown",
   "id": "2462a711",
   "metadata": {},
   "source": [
    "## Step 3: Accessing Columns"
   ]
  },
  {
   "cell_type": "code",
   "execution_count": 3,
   "id": "c7cf453b",
   "metadata": {},
   "outputs": [
    {
     "name": "stdout",
     "output_type": "stream",
     "text": [
      "0      Alice\n",
      "1        Bob\n",
      "2    Charlie\n",
      "3      David\n",
      "Name: Name, dtype: object\n",
      "      Name  Salary\n",
      "0    Alice   50000\n",
      "1      Bob   60000\n",
      "2  Charlie   55000\n",
      "3    David   65000\n"
     ]
    }
   ],
   "source": [
    "# Single column\n",
    "print(df['Name'])\n",
    "\n",
    "# Multiple columns\n",
    "print(df[['Name', 'Salary']])"
   ]
  },
  {
   "cell_type": "markdown",
   "id": "e3654b86",
   "metadata": {},
   "source": [
    "\n",
    "---"
   ]
  },
  {
   "cell_type": "markdown",
   "id": "416c98f3",
   "metadata": {},
   "source": [
    "## Step 4: Accessing Rows\n",
    "\n",
    "### By Integer Location (`iloc`)"
   ]
  },
  {
   "cell_type": "code",
   "execution_count": 4,
   "id": "2a2f99ec",
   "metadata": {},
   "outputs": [
    {
     "name": "stdout",
     "output_type": "stream",
     "text": [
      "Name         Alice\n",
      "Age             25\n",
      "City      New York\n",
      "Salary       50000\n",
      "Name: 0, dtype: object\n",
      "    Name  Age         City  Salary\n",
      "0  Alice   25     New York   50000\n",
      "1    Bob   30  Los Angeles   60000\n",
      "Los Angeles\n"
     ]
    }
   ],
   "source": [
    "# First row\n",
    "print(df.iloc[0])\n",
    "\n",
    "# First two rows\n",
    "print(df.iloc[0:2])\n",
    "\n",
    "# Specific row and column\n",
    "print(df.iloc[1, 2])  # Row 1, column 2 (City)"
   ]
  },
  {
   "cell_type": "markdown",
   "id": "53a73443",
   "metadata": {},
   "source": [
    "### By Label (`loc`)"
   ]
  },
  {
   "cell_type": "code",
   "execution_count": 5,
   "id": "24fa351a",
   "metadata": {},
   "outputs": [
    {
     "name": "stdout",
     "output_type": "stream",
     "text": [
      "         Age         City  Salary\n",
      "Name                             \n",
      "Alice     25     New York   50000\n",
      "Bob       30  Los Angeles   60000\n",
      "Charlie   22      Chicago   55000\n",
      "David     28      Houston   65000\n",
      "Age                30\n",
      "City      Los Angeles\n",
      "Salary          60000\n",
      "Name: Bob, dtype: object\n",
      "       Age      City  Salary\n",
      "Name                        \n",
      "Alice   25  New York   50000\n",
      "David   28   Houston   65000\n"
     ]
    }
   ],
   "source": [
    "# Set 'Name' as index\n",
    "df_indexed = df.set_index('Name')\n",
    "print(df_indexed)\n",
    "\n",
    "# Access row by index label\n",
    "print(df_indexed.loc['Bob'])\n",
    "\n",
    "# Access multiple rows\n",
    "print(df_indexed.loc[['Alice', 'David']])"
   ]
  },
  {
   "cell_type": "markdown",
   "id": "3748ab5a",
   "metadata": {},
   "source": [
    "---"
   ]
  },
  {
   "cell_type": "markdown",
   "id": "3b1e6e87",
   "metadata": {},
   "source": [
    "## Step 5: Accessing Rows and Columns Together"
   ]
  },
  {
   "cell_type": "code",
   "execution_count": 6,
   "id": "d505e731",
   "metadata": {},
   "outputs": [
    {
     "name": "stdout",
     "output_type": "stream",
     "text": [
      "55000\n",
      "Age          22\n",
      "Salary    55000\n",
      "Name: Charlie, dtype: object\n",
      "           City  Salary\n",
      "Name                   \n",
      "Alice  New York   50000\n",
      "David   Houston   65000\n"
     ]
    }
   ],
   "source": [
    "# Single value\n",
    "print(df_indexed.loc['Charlie', 'Salary'])\n",
    "\n",
    "# Multiple columns\n",
    "print(df_indexed.loc['Charlie', ['Age', 'Salary']])\n",
    "\n",
    "# Multiple rows and columns\n",
    "print(df_indexed.loc[['Alice', 'David'], ['City', 'Salary']])"
   ]
  },
  {
   "cell_type": "markdown",
   "id": "d6bc904f",
   "metadata": {},
   "source": [
    "\n",
    "---\n"
   ]
  },
  {
   "cell_type": "markdown",
   "id": "07b605f4",
   "metadata": {},
   "source": [
    "\n",
    "## Step 6: Boolean Indexing / Conditional Selection\n"
   ]
  },
  {
   "cell_type": "code",
   "execution_count": 7,
   "id": "3b18a442",
   "metadata": {},
   "outputs": [
    {
     "name": "stdout",
     "output_type": "stream",
     "text": [
      "    Name  Age         City  Salary\n",
      "1    Bob   30  Los Angeles   60000\n",
      "3  David   28      Houston   65000\n",
      "    Name  Age     City  Salary\n",
      "3  David   28  Houston   65000\n",
      "    Name  Age     City  Salary\n",
      "3  David   28  Houston   65000\n"
     ]
    }
   ],
   "source": [
    "# Filter rows where Age > 25\n",
    "print(df[df['Age'] > 25])\n",
    "\n",
    "# Multiple conditions\n",
    "print(df[(df['Age'] > 25) & (df['City'] == 'Houston')])\n",
    "\n",
    "# Using query method\n",
    "print(df.query(\"Age > 25 & City == 'Houston'\"))\n"
   ]
  },
  {
   "cell_type": "markdown",
   "id": "80e48e42",
   "metadata": {},
   "source": [
    "\n",
    "---\n"
   ]
  },
  {
   "cell_type": "markdown",
   "id": "5ec08c38",
   "metadata": {},
   "source": [
    "\n",
    "## Step 7: Selecting by Position with `iloc`\n"
   ]
  },
  {
   "cell_type": "code",
   "execution_count": 8,
   "id": "2b9d0198",
   "metadata": {},
   "outputs": [
    {
     "name": "stdout",
     "output_type": "stream",
     "text": [
      "    Name  Age         City\n",
      "0  Alice   25     New York\n",
      "1    Bob   30  Los Angeles\n",
      "   Age  Salary\n",
      "0   25   50000\n",
      "2   22   55000\n"
     ]
    }
   ],
   "source": [
    "# First two rows and first three columns\n",
    "print(df.iloc[0:2, 0:3])\n",
    "\n",
    "# Specific rows and columns\n",
    "print(df.iloc[[0,2],[1,3]])  # Rows 0 & 2, Columns 1 & 3"
   ]
  },
  {
   "cell_type": "markdown",
   "id": "5bf8ad98",
   "metadata": {},
   "source": [
    "\n",
    "---\n"
   ]
  },
  {
   "cell_type": "markdown",
   "id": "36166ce2",
   "metadata": {},
   "source": [
    "\n",
    "## Step 8: Selecting by Label with `loc`"
   ]
  },
  {
   "cell_type": "code",
   "execution_count": 9,
   "id": "ef69f498",
   "metadata": {},
   "outputs": [
    {
     "name": "stdout",
     "output_type": "stream",
     "text": [
      "       Age  Salary\n",
      "Name              \n",
      "Alice   25   50000\n",
      "Bob     30   60000\n"
     ]
    }
   ],
   "source": [
    "# Select rows with index 0,1 and columns 'Name' and 'Salary'\n",
    "df2 = df.set_index('Name')\n",
    "print(df2.loc[['Alice','Bob'], ['Age', 'Salary']])\n"
   ]
  },
  {
   "cell_type": "markdown",
   "id": "8dae979a",
   "metadata": {},
   "source": [
    "\n",
    "---"
   ]
  },
  {
   "cell_type": "markdown",
   "id": "e051b619",
   "metadata": {},
   "source": [
    "\n",
    "## Step 9: Setting and Resetting Index\n"
   ]
  },
  {
   "cell_type": "code",
   "execution_count": 10,
   "id": "331b658b",
   "metadata": {},
   "outputs": [
    {
     "name": "stdout",
     "output_type": "stream",
     "text": [
      "      Name  Age         City  Salary\n",
      "0    Alice   25     New York   50000\n",
      "1      Bob   30  Los Angeles   60000\n",
      "2  Charlie   22      Chicago   55000\n",
      "3    David   28      Houston   65000\n",
      "                Name  Age  Salary\n",
      "City                             \n",
      "New York       Alice   25   50000\n",
      "Los Angeles      Bob   30   60000\n",
      "Chicago      Charlie   22   55000\n",
      "Houston        David   28   65000\n",
      "          City     Name  Age  Salary\n",
      "0     New York    Alice   25   50000\n",
      "1  Los Angeles      Bob   30   60000\n",
      "2      Chicago  Charlie   22   55000\n",
      "3      Houston    David   28   65000\n"
     ]
    }
   ],
   "source": [
    "# Current DataFrame\n",
    "print(df)\n",
    "\n",
    "# Set 'City' as index\n",
    "df_city = df.set_index('City')\n",
    "print(df_city)\n",
    "\n",
    "# Reset index\n",
    "df_reset = df_city.reset_index()\n",
    "print(df_reset)"
   ]
  },
  {
   "cell_type": "markdown",
   "id": "68a8df4d",
   "metadata": {},
   "source": [
    "\n",
    "---\n"
   ]
  },
  {
   "cell_type": "markdown",
   "id": "ca8b83fb",
   "metadata": {},
   "source": [
    "\n",
    "## Step 10: Using `.at` and `.iat` for Fast Access"
   ]
  },
  {
   "cell_type": "code",
   "execution_count": 11,
   "id": "39355bf6",
   "metadata": {},
   "outputs": [
    {
     "name": "stdout",
     "output_type": "stream",
     "text": [
      "65000\n",
      "55000\n"
     ]
    }
   ],
   "source": [
    "# .at (label-based)\n",
    "print(df_indexed.at['David', 'Salary'])\n",
    "\n",
    "# .iat (position-based)\n",
    "print(df_indexed.iat[2, 2])  # Row 2, Column 2\n"
   ]
  },
  {
   "cell_type": "markdown",
   "id": "cc17757e",
   "metadata": {},
   "source": [
    "\n",
    "---\n"
   ]
  },
  {
   "cell_type": "markdown",
   "id": "5f7b1ab5",
   "metadata": {},
   "source": [
    "\n",
    "## Step 11: Slicing DataFrames"
   ]
  },
  {
   "cell_type": "code",
   "execution_count": 12,
   "id": "2ac95c04",
   "metadata": {},
   "outputs": [
    {
     "name": "stdout",
     "output_type": "stream",
     "text": [
      "       Age         City  Salary\n",
      "Name                           \n",
      "Alice   25     New York   50000\n",
      "Bob     30  Los Angeles   60000\n",
      "         Age         City  Salary\n",
      "Name                             \n",
      "Alice     25     New York   50000\n",
      "Bob       30  Los Angeles   60000\n",
      "Charlie   22      Chicago   55000\n",
      "David     28      Houston   65000\n"
     ]
    }
   ],
   "source": [
    "# Slice rows\n",
    "print(df_indexed[0:2])\n",
    "\n",
    "# Slice columns\n",
    "print(df_indexed.loc[:, 'Age':'Salary'])\n"
   ]
  },
  {
   "cell_type": "markdown",
   "id": "dd8fd857",
   "metadata": {},
   "source": [
    "\n",
    "---"
   ]
  },
  {
   "cell_type": "markdown",
   "id": "7c81e273",
   "metadata": {},
   "source": [
    "\n",
    "## Step 12: Accessing Elements in a Series"
   ]
  },
  {
   "cell_type": "code",
   "execution_count": 13,
   "id": "db891fbb",
   "metadata": {},
   "outputs": [
    {
     "name": "stdout",
     "output_type": "stream",
     "text": [
      "200\n",
      "200\n",
      "b    200\n",
      "c    300\n",
      "d    400\n",
      "dtype: int64\n"
     ]
    },
    {
     "name": "stderr",
     "output_type": "stream",
     "text": [
      "C:\\Users\\hakha\\AppData\\Local\\Temp\\ipykernel_6024\\2016659350.py:4: FutureWarning: Series.__getitem__ treating keys as positions is deprecated. In a future version, integer keys will always be treated as labels (consistent with DataFrame behavior). To access a value by position, use `ser.iloc[pos]`\n",
      "  print(s[1])        # Access by position\n"
     ]
    }
   ],
   "source": [
    "# Create a Series\n",
    "s = pd.Series([100, 200, 300, 400], index=['a', 'b', 'c', 'd'])\n",
    "print(s['b'])      # Access by label\n",
    "print(s[1])        # Access by position\n",
    "print(s['b':'d'])  # Slice by label\n"
   ]
  },
  {
   "cell_type": "markdown",
   "id": "c97802b6",
   "metadata": {},
   "source": [
    "\n",
    "---\n"
   ]
  },
  {
   "cell_type": "markdown",
   "id": "ea696410",
   "metadata": {},
   "source": [
    "\n",
    "## Step 13: Practical Example"
   ]
  },
  {
   "cell_type": "code",
   "execution_count": 14,
   "id": "811aeac3",
   "metadata": {},
   "outputs": [
    {
     "name": "stdout",
     "output_type": "stream",
     "text": [
      "               Name Department  Salary\n",
      "EmployeeID                            \n",
      "101           Alice         HR   50000\n",
      "102             Bob         IT   60000\n",
      "103         Charlie    Finance   55000\n",
      "104           David         IT   65000\n",
      "             Name Department  Salary\n",
      "EmployeeID                          \n",
      "102           Bob         IT   60000\n",
      "104         David         IT   65000\n",
      "55000\n"
     ]
    }
   ],
   "source": [
    "# Employee DataFrame\n",
    "employees = pd.DataFrame({\n",
    "    \"EmployeeID\": [101, 102, 103, 104],\n",
    "    \"Name\": [\"Alice\", \"Bob\", \"Charlie\", \"David\"],\n",
    "    \"Department\": [\"HR\", \"IT\", \"Finance\", \"IT\"],\n",
    "    \"Salary\": [50000, 60000, 55000, 65000]\n",
    "})\n",
    "\n",
    "# Set index as EmployeeID\n",
    "employees = employees.set_index('EmployeeID')\n",
    "print(employees)\n",
    "\n",
    "# Employees in IT department\n",
    "it_employees = employees[employees['Department'] == 'IT']\n",
    "print(it_employees)\n",
    "\n",
    "# Salary of employee 103\n",
    "print(employees.at[103, 'Salary'])"
   ]
  },
  {
   "cell_type": "markdown",
   "id": "2cd5c950",
   "metadata": {},
   "source": [
    "\n",
    "---"
   ]
  },
  {
   "cell_type": "markdown",
   "id": "c52a0d7d",
   "metadata": {},
   "source": [
    "\n",
    "## ✅ Summary\n",
    "\n",
    "* **Columns**: Access using `[]` or dot notation.\n",
    "* **Rows**: Access using `.loc` (label) or `.iloc` (position).\n",
    "* **Boolean indexing**: Filter data based on conditions.\n",
    "* **Slicing**: Works on rows or columns.\n",
    "* `.at` and `.iat` provide fast access to single values.\n",
    "* Proper indexing and selection are essential for **data analysis and cleaning**.\n",
    "\n",
    "---\n"
   ]
  }
 ],
 "metadata": {
  "kernelspec": {
   "display_name": "Python 3",
   "language": "python",
   "name": "python3"
  },
  "language_info": {
   "codemirror_mode": {
    "name": "ipython",
    "version": 3
   },
   "file_extension": ".py",
   "mimetype": "text/x-python",
   "name": "python",
   "nbconvert_exporter": "python",
   "pygments_lexer": "ipython3",
   "version": "3.10.11"
  }
 },
 "nbformat": 4,
 "nbformat_minor": 5
}
