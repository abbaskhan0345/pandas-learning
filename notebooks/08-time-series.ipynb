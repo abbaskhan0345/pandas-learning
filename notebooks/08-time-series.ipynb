{
 "cells": [
  {
   "cell_type": "markdown",
   "id": "7bb1ff66",
   "metadata": {},
   "source": [
    "---\n",
    "\n",
    "# Pandas Time Series\n",
    "**`08-time-series.ipynb`**\n",
    "\n",
    "In this notebook, we learn how to handle **time series data** using Pandas.  \n",
    "Time series are sequences of data points **indexed by time**. Common operations include **date parsing, resampling, shifting, and rolling calculations**.\n",
    "\n",
    "---"
   ]
  },
  {
   "cell_type": "markdown",
   "id": "303add62",
   "metadata": {},
   "source": [
    "## Step 1: Import Libraries"
   ]
  },
  {
   "cell_type": "code",
   "execution_count": 1,
   "id": "8510d6fe",
   "metadata": {},
   "outputs": [],
   "source": [
    "import pandas as pd\n",
    "import numpy as np"
   ]
  },
  {
   "cell_type": "markdown",
   "id": "b5738c95",
   "metadata": {},
   "source": [
    "\n",
    "---\n"
   ]
  },
  {
   "cell_type": "markdown",
   "id": "e2cd7ef0",
   "metadata": {},
   "source": [
    "\n",
    "## Step 2: Creating a Time Series"
   ]
  },
  {
   "cell_type": "code",
   "execution_count": 2,
   "id": "8ddad115",
   "metadata": {},
   "outputs": [
    {
     "name": "stdout",
     "output_type": "stream",
     "text": [
      "2025-01-01    10\n",
      "2025-01-02    12\n",
      "2025-01-03    14\n",
      "2025-01-04    13\n",
      "2025-01-05    15\n",
      "2025-01-06    16\n",
      "2025-01-07    18\n",
      "Freq: D, dtype: int64\n"
     ]
    }
   ],
   "source": [
    "# Create a simple time series\n",
    "dates = pd.date_range(start='2025-01-01', periods=7, freq='D')\n",
    "data = [10, 12, 14, 13, 15, 16, 18]\n",
    "\n",
    "ts = pd.Series(data, index=dates)\n",
    "print(ts)"
   ]
  },
  {
   "cell_type": "markdown",
   "id": "4e63bca9",
   "metadata": {},
   "source": [
    "\n",
    "---\n",
    "\n"
   ]
  },
  {
   "cell_type": "markdown",
   "id": "ee91eaf1",
   "metadata": {},
   "source": [
    "## Step 3: Inspecting Time Series\n",
    "\n"
   ]
  },
  {
   "cell_type": "code",
   "execution_count": 3,
   "id": "35001527",
   "metadata": {},
   "outputs": [
    {
     "name": "stdout",
     "output_type": "stream",
     "text": [
      "Index type: DatetimeIndex(['2025-01-01', '2025-01-02', '2025-01-03', '2025-01-04',\n",
      "               '2025-01-05', '2025-01-06', '2025-01-07'],\n",
      "              dtype='datetime64[ns]', freq='D')\n",
      "2025-01-01    10\n",
      "2025-01-02    12\n",
      "2025-01-03    14\n",
      "2025-01-04    13\n",
      "2025-01-05    15\n",
      "Freq: D, dtype: int64\n",
      "2025-01-03    14\n",
      "2025-01-04    13\n",
      "2025-01-05    15\n",
      "2025-01-06    16\n",
      "2025-01-07    18\n",
      "Freq: D, dtype: int64\n"
     ]
    }
   ],
   "source": [
    "# Index type\n",
    "print(\"Index type:\", ts.index)\n",
    "\n",
    "# First few values\n",
    "print(ts.head())\n",
    "\n",
    "# Last few values\n",
    "print(ts.tail())\n",
    "\n"
   ]
  },
  {
   "cell_type": "markdown",
   "id": "2fa22e88",
   "metadata": {},
   "source": [
    "---\n"
   ]
  },
  {
   "cell_type": "markdown",
   "id": "fd028580",
   "metadata": {},
   "source": [
    "\n",
    "## Step 4: Date Ranges"
   ]
  },
  {
   "cell_type": "code",
   "execution_count": 4,
   "id": "62de3fcf",
   "metadata": {},
   "outputs": [
    {
     "name": "stdout",
     "output_type": "stream",
     "text": [
      "Daily:\n",
      " DatetimeIndex(['2025-01-01', '2025-01-02', '2025-01-03', '2025-01-04',\n",
      "               '2025-01-05', '2025-01-06', '2025-01-07', '2025-01-08',\n",
      "               '2025-01-09', '2025-01-10'],\n",
      "              dtype='datetime64[ns]', freq='D')\n",
      "Monthly:\n",
      " DatetimeIndex(['2025-01-31', '2025-02-28', '2025-03-31', '2025-04-30',\n",
      "               '2025-05-31'],\n",
      "              dtype='datetime64[ns]', freq='ME')\n",
      "Weekly:\n",
      " DatetimeIndex(['2025-01-05', '2025-01-12', '2025-01-19', '2025-01-26',\n",
      "               '2025-02-02', '2025-02-09'],\n",
      "              dtype='datetime64[ns]', freq='W-SUN')\n"
     ]
    },
    {
     "name": "stderr",
     "output_type": "stream",
     "text": [
      "C:\\Users\\hakha\\AppData\\Local\\Temp\\ipykernel_11968\\3426818976.py:3: FutureWarning: 'M' is deprecated and will be removed in a future version, please use 'ME' instead.\n",
      "  monthly = pd.date_range('2025-01-01', '2025-06-01', freq='M')\n"
     ]
    }
   ],
   "source": [
    "# Generate date ranges\n",
    "daily = pd.date_range('2025-01-01', '2025-01-10', freq='D')\n",
    "monthly = pd.date_range('2025-01-01', '2025-06-01', freq='M')\n",
    "weekly = pd.date_range('2025-01-01', periods=6, freq='W')\n",
    "\n",
    "print(\"Daily:\\n\", daily)\n",
    "print(\"Monthly:\\n\", monthly)\n",
    "print(\"Weekly:\\n\", weekly)\n"
   ]
  },
  {
   "cell_type": "markdown",
   "id": "ed29e329",
   "metadata": {},
   "source": [
    "---\n",
    "\n"
   ]
  },
  {
   "cell_type": "markdown",
   "id": "57156ad7",
   "metadata": {},
   "source": [
    "## Step 5: Accessing Dates and Slicing\n"
   ]
  },
  {
   "cell_type": "code",
   "execution_count": 5,
   "id": "4988eec9",
   "metadata": {},
   "outputs": [
    {
     "name": "stdout",
     "output_type": "stream",
     "text": [
      "14\n",
      "2025-01-02    12\n",
      "2025-01-03    14\n",
      "2025-01-04    13\n",
      "2025-01-05    15\n",
      "Freq: D, dtype: int64\n",
      "2025-01-05    15\n",
      "2025-01-06    16\n",
      "2025-01-07    18\n",
      "Freq: D, dtype: int64\n"
     ]
    }
   ],
   "source": [
    "# Access single date\n",
    "print(ts['2025-01-03'])\n",
    "\n",
    "# Slice by range\n",
    "print(ts['2025-01-02':'2025-01-05'])\n",
    "\n",
    "# Boolean indexing\n",
    "print(ts[ts > 14])"
   ]
  },
  {
   "cell_type": "markdown",
   "id": "2fd2d6dd",
   "metadata": {},
   "source": [
    "\n",
    "---\n"
   ]
  },
  {
   "cell_type": "markdown",
   "id": "e255f56c",
   "metadata": {},
   "source": [
    "\n",
    "## Step 6: Resampling"
   ]
  },
  {
   "cell_type": "code",
   "execution_count": 6,
   "id": "8976c79e",
   "metadata": {},
   "outputs": [
    {
     "name": "stdout",
     "output_type": "stream",
     "text": [
      "Weekly Mean:\n",
      " 2025-01-05    72.000000\n",
      "2025-01-12    69.857143\n",
      "2025-01-19    73.714286\n",
      "2025-01-26    66.571429\n",
      "2025-02-02    77.000000\n",
      "Freq: W-SUN, dtype: float64\n",
      "Monthly Sum:\n",
      " 2025-01-31    2216\n",
      "Freq: ME, dtype: int32\n"
     ]
    },
    {
     "name": "stderr",
     "output_type": "stream",
     "text": [
      "C:\\Users\\hakha\\AppData\\Local\\Temp\\ipykernel_11968\\1173900952.py:11: FutureWarning: 'M' is deprecated and will be removed in a future version, please use 'ME' instead.\n",
      "  monthly_sum = ts.resample('M').sum()\n"
     ]
    }
   ],
   "source": [
    "# Create daily data for a month\n",
    "dates = pd.date_range('2025-01-01', '2025-01-31')\n",
    "data = np.random.randint(50, 100, size=len(dates))\n",
    "ts = pd.Series(data, index=dates)\n",
    "\n",
    "# Resample to weekly mean\n",
    "weekly_mean = ts.resample('W').mean()\n",
    "print(\"Weekly Mean:\\n\", weekly_mean)\n",
    "\n",
    "# Resample to monthly sum\n",
    "monthly_sum = ts.resample('M').sum()\n",
    "print(\"Monthly Sum:\\n\", monthly_sum)"
   ]
  },
  {
   "cell_type": "markdown",
   "id": "47b2c969",
   "metadata": {},
   "source": [
    "\n",
    "---\n"
   ]
  },
  {
   "cell_type": "markdown",
   "id": "76988676",
   "metadata": {},
   "source": [
    "\n",
    "## Step 7: Shifting and Lagging\n"
   ]
  },
  {
   "cell_type": "code",
   "execution_count": 7,
   "id": "496cec9a",
   "metadata": {},
   "outputs": [
    {
     "name": "stdout",
     "output_type": "stream",
     "text": [
      "Shifted:\n",
      " 2025-01-01     NaN\n",
      "2025-01-02    94.0\n",
      "2025-01-03    50.0\n",
      "2025-01-04    90.0\n",
      "2025-01-05    58.0\n",
      "Freq: D, dtype: float64\n",
      "Percentage Change:\n",
      " 2025-01-01         NaN\n",
      "2025-01-02   -0.468085\n",
      "2025-01-03    0.800000\n",
      "2025-01-04   -0.355556\n",
      "2025-01-05    0.172414\n",
      "Freq: D, dtype: float64\n"
     ]
    }
   ],
   "source": [
    "# Shift data forward by 1 day\n",
    "shifted = ts.shift(1)\n",
    "print(\"Shifted:\\n\", shifted.head())\n",
    "\n",
    "# Percentage change\n",
    "pct_change = ts.pct_change()\n",
    "print(\"Percentage Change:\\n\", pct_change.head())"
   ]
  },
  {
   "cell_type": "markdown",
   "id": "0ba9ddc3",
   "metadata": {},
   "source": [
    "\n",
    "---\n"
   ]
  },
  {
   "cell_type": "markdown",
   "id": "2b444abe",
   "metadata": {},
   "source": [
    "\n",
    "## Step 8: Rolling Windows"
   ]
  },
  {
   "cell_type": "code",
   "execution_count": 8,
   "id": "3a88fc5f",
   "metadata": {},
   "outputs": [
    {
     "name": "stdout",
     "output_type": "stream",
     "text": [
      "Rolling Mean:\n",
      " 2025-01-01          NaN\n",
      "2025-01-02          NaN\n",
      "2025-01-03    78.000000\n",
      "2025-01-04    66.000000\n",
      "2025-01-05    72.000000\n",
      "2025-01-06    62.333333\n",
      "2025-01-07    60.000000\n",
      "2025-01-08    58.000000\n",
      "2025-01-09    66.666667\n",
      "2025-01-10    77.333333\n",
      "Freq: D, dtype: float64\n",
      "Rolling Sum:\n",
      " 2025-01-01      NaN\n",
      "2025-01-02      NaN\n",
      "2025-01-03    234.0\n",
      "2025-01-04    198.0\n",
      "2025-01-05    216.0\n",
      "2025-01-06    187.0\n",
      "2025-01-07    180.0\n",
      "2025-01-08    174.0\n",
      "2025-01-09    200.0\n",
      "2025-01-10    232.0\n",
      "Freq: D, dtype: float64\n"
     ]
    }
   ],
   "source": [
    "\n",
    "# Rolling mean (window = 3 days)\n",
    "rolling_mean = ts.rolling(window=3).mean()\n",
    "print(\"Rolling Mean:\\n\", rolling_mean.head(10))\n",
    "\n",
    "# Rolling sum\n",
    "rolling_sum = ts.rolling(window=3).sum()\n",
    "print(\"Rolling Sum:\\n\", rolling_sum.head(10))"
   ]
  },
  {
   "cell_type": "markdown",
   "id": "672fe2ef",
   "metadata": {},
   "source": [
    "\n",
    "---\n"
   ]
  },
  {
   "cell_type": "markdown",
   "id": "9e45746b",
   "metadata": {},
   "source": [
    "\n",
    "## Step 9: Handling Missing Dates"
   ]
  },
  {
   "cell_type": "code",
   "execution_count": 9,
   "id": "91db2b90",
   "metadata": {},
   "outputs": [
    {
     "name": "stdout",
     "output_type": "stream",
     "text": [
      "With Missing Dates:\n",
      " 2025-01-01    94\n",
      "2025-01-02    50\n",
      "2025-01-04    58\n",
      "2025-01-05    68\n",
      "2025-01-07    51\n",
      "2025-01-08    62\n",
      "2025-01-09    87\n",
      "2025-01-10    83\n",
      "2025-01-12    88\n",
      "2025-01-13    63\n",
      "dtype: int32\n",
      "Forward Filled:\n",
      " 2025-01-01    94\n",
      "2025-01-02    50\n",
      "2025-01-03    50\n",
      "2025-01-04    58\n",
      "2025-01-05    68\n",
      "2025-01-06    68\n",
      "2025-01-07    51\n",
      "2025-01-08    62\n",
      "2025-01-09    87\n",
      "2025-01-10    83\n",
      "Freq: D, dtype: int32\n"
     ]
    }
   ],
   "source": [
    "# Introduce missing dates\n",
    "ts_missing = ts.drop(ts.index[[2, 5, 10]])\n",
    "print(\"With Missing Dates:\\n\", ts_missing.head(10))\n",
    "\n",
    "# Fill missing with forward fill\n",
    "ts_filled = ts_missing.asfreq('D', method='ffill')\n",
    "print(\"Forward Filled:\\n\", ts_filled.head(10))\n"
   ]
  },
  {
   "cell_type": "markdown",
   "id": "3d104bd9",
   "metadata": {},
   "source": [
    "\n",
    "---"
   ]
  },
  {
   "cell_type": "markdown",
   "id": "4470fbca",
   "metadata": {},
   "source": [
    "\n",
    "## Step 10: Real-World Example"
   ]
  },
  {
   "cell_type": "code",
   "execution_count": 10,
   "id": "88749910",
   "metadata": {},
   "outputs": [
    {
     "name": "stdout",
     "output_type": "stream",
     "text": [
      "Daily Returns:\n",
      " 2025-01-01         NaN\n",
      "2025-01-02    0.020000\n",
      "2025-01-03   -0.009804\n",
      "2025-01-04    0.039604\n",
      "2025-01-05    0.019048\n",
      "2025-01-06   -0.009346\n",
      "2025-01-07    0.018868\n",
      "2025-01-08    0.018519\n",
      "2025-01-09    0.009091\n",
      "2025-01-10    0.036036\n",
      "Freq: D, dtype: float64\n",
      "3-Day Moving Average:\n",
      " 2025-01-01           NaN\n",
      "2025-01-02           NaN\n",
      "2025-01-03    101.000000\n",
      "2025-01-04    102.666667\n",
      "2025-01-05    104.333333\n",
      "2025-01-06    106.000000\n",
      "2025-01-07    107.000000\n",
      "2025-01-08    108.000000\n",
      "2025-01-09    109.666667\n",
      "2025-01-10    112.000000\n",
      "Freq: D, dtype: float64\n"
     ]
    }
   ],
   "source": [
    "# Stock prices\n",
    "dates = pd.date_range('2025-01-01', periods=10)\n",
    "prices = pd.Series([100, 102, 101, 105, 107, 106, 108, 110, 111, 115], index=dates)\n",
    "\n",
    "# Calculate daily returns\n",
    "returns = prices.pct_change()\n",
    "print(\"Daily Returns:\\n\", returns)\n",
    "\n",
    "# 3-day moving average\n",
    "moving_avg = prices.rolling(3).mean()\n",
    "print(\"3-Day Moving Average:\\n\", moving_avg)\n"
   ]
  },
  {
   "cell_type": "markdown",
   "id": "f5147acb",
   "metadata": {},
   "source": [
    "\n",
    "---"
   ]
  },
  {
   "cell_type": "markdown",
   "id": "d092af68",
   "metadata": {},
   "source": [
    "## ✅ Summary\n",
    "\n",
    "* **Time Series**: sequence of data points indexed by date/time.\n",
    "* **`date_range()`**: create regular date ranges.\n",
    "* **Indexing**: slice by date strings or boolean conditions.\n",
    "* **Resampling**: convert frequency (daily → weekly/monthly).\n",
    "* **Shifting**: move data forward/backward, calculate changes.\n",
    "* **Rolling**: apply moving windows (mean, sum, etc.).\n",
    "* **Handling Missing Dates**: forward/backward fill or interpolation.\n",
    "* Time series operations are **critical for finance, weather, IoT, and many other applications**.\n",
    "\n",
    "---\n"
   ]
  }
 ],
 "metadata": {
  "kernelspec": {
   "display_name": "Python 3",
   "language": "python",
   "name": "python3"
  },
  "language_info": {
   "codemirror_mode": {
    "name": "ipython",
    "version": 3
   },
   "file_extension": ".py",
   "mimetype": "text/x-python",
   "name": "python",
   "nbconvert_exporter": "python",
   "pygments_lexer": "ipython3",
   "version": "3.10.11"
  }
 },
 "nbformat": 4,
 "nbformat_minor": 5
}
