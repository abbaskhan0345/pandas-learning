{
 "cells": [
  {
   "cell_type": "markdown",
   "id": "c4e19343",
   "metadata": {},
   "source": [
    "Got it ✅ — let’s prepare  in a clear and explanatory way.\n",
    "This will be a guided mini-project where you analyze sales data using **pandas**.\n",
    "\n",
    "---\n",
    "\n",
    "# 📒 Mini Project: Sales Analysis with Pandas\n",
    "**`mini_project_sales_analysis.ipynb`**\n",
    "\n",
    "# Mini Project: Sales Analysis with Pandas\n",
    "\n",
    "In this project, we will analyze a sample **sales dataset** using pandas.  \n",
    "The goals are to:\n",
    "1. Load and explore the dataset\n",
    "2. Perform cleaning and preprocessing\n",
    "3. Analyze sales trends (monthly, yearly, by product, by region)\n",
    "4. Identify top-performing products/customers\n",
    "5. Visualize insights\n",
    "\n",
    "---\n"
   ]
  },
  {
   "cell_type": "markdown",
   "id": "7c630698",
   "metadata": {},
   "source": [
    "## 1. Import Libraries"
   ]
  },
  {
   "cell_type": "code",
   "execution_count": 13,
   "id": "c8eb4122",
   "metadata": {},
   "outputs": [],
   "source": [
    "import pandas as pd\n",
    "import numpy as np\n",
    "import matplotlib.pyplot as plt\n",
    "import seaborn as sns\n"
   ]
  },
  {
   "cell_type": "markdown",
   "id": "dfd357d5",
   "metadata": {},
   "source": [
    "---\n"
   ]
  },
  {
   "cell_type": "markdown",
   "id": "4b7ac7c0",
   "metadata": {},
   "source": [
    "\n",
    "## 2. Load the Dataset\n",
    "\n",
    "👉 Assume we have a file `sales_data.csv` with the following columns:\n",
    "\n",
    "* `OrderID`\n",
    "* `OrderDate`\n",
    "* `CustomerName`\n",
    "* `Region`\n",
    "* `Product`\n",
    "* `Quantity`\n",
    "* `UnitPrice`\n",
    "* `Total`\n"
   ]
  },
  {
   "cell_type": "code",
   "execution_count": 14,
   "id": "ccdcdd82",
   "metadata": {},
   "outputs": [
    {
     "name": "stdout",
     "output_type": "stream",
     "text": [
      "    OrderDate     Product Region  Units_Sold  Unit_Price  Total_Sales  \\\n",
      "0  2023-02-21       Phone  South          12        1995        23940   \n",
      "1  2023-04-03      Laptop   East           5         785         3925   \n",
      "2  2023-01-15  Headphones  South          37        1915        70855   \n",
      "3  2023-03-13  Headphones   East          32         725        23200   \n",
      "4  2023-03-02  Headphones  North           9        1411        12699   \n",
      "\n",
      "   Quantity  Total  \n",
      "0        12  23940  \n",
      "1         5   3925  \n",
      "2        37  70855  \n",
      "3        32  23200  \n",
      "4         9  12699  \n",
      "Index(['OrderDate', 'Product', 'Region', 'Units_Sold', 'Unit_Price',\n",
      "       'Total_Sales', 'Quantity', 'Total'],\n",
      "      dtype='object')\n"
     ]
    }
   ],
   "source": [
    "import pandas as pd\n",
    "\n",
    "df = pd.read_csv(\"sales_data.csv\")\n",
    "print(df.head())\n",
    "print(df.columns)\n"
   ]
  },
  {
   "cell_type": "code",
   "execution_count": 15,
   "id": "fd4e2309",
   "metadata": {},
   "outputs": [
    {
     "data": {
      "text/html": [
       "<div>\n",
       "<style scoped>\n",
       "    .dataframe tbody tr th:only-of-type {\n",
       "        vertical-align: middle;\n",
       "    }\n",
       "\n",
       "    .dataframe tbody tr th {\n",
       "        vertical-align: top;\n",
       "    }\n",
       "\n",
       "    .dataframe thead th {\n",
       "        text-align: right;\n",
       "    }\n",
       "</style>\n",
       "<table border=\"1\" class=\"dataframe\">\n",
       "  <thead>\n",
       "    <tr style=\"text-align: right;\">\n",
       "      <th></th>\n",
       "      <th>OrderID</th>\n",
       "      <th>OrderDate</th>\n",
       "      <th>Product</th>\n",
       "      <th>Region</th>\n",
       "      <th>Units_Sold</th>\n",
       "      <th>UnitPrice</th>\n",
       "      <th>Total</th>\n",
       "      <th>Quantity</th>\n",
       "      <th>Total.1</th>\n",
       "      <th>CustomerName</th>\n",
       "    </tr>\n",
       "  </thead>\n",
       "  <tbody>\n",
       "    <tr>\n",
       "      <th>0</th>\n",
       "      <td>1</td>\n",
       "      <td>2023-02-21</td>\n",
       "      <td>Phone</td>\n",
       "      <td>South</td>\n",
       "      <td>12</td>\n",
       "      <td>1995</td>\n",
       "      <td>23940</td>\n",
       "      <td>12</td>\n",
       "      <td>23940</td>\n",
       "      <td>Alice</td>\n",
       "    </tr>\n",
       "    <tr>\n",
       "      <th>1</th>\n",
       "      <td>2</td>\n",
       "      <td>2023-04-03</td>\n",
       "      <td>Laptop</td>\n",
       "      <td>East</td>\n",
       "      <td>5</td>\n",
       "      <td>785</td>\n",
       "      <td>3925</td>\n",
       "      <td>5</td>\n",
       "      <td>3925</td>\n",
       "      <td>Bob</td>\n",
       "    </tr>\n",
       "    <tr>\n",
       "      <th>2</th>\n",
       "      <td>3</td>\n",
       "      <td>2023-01-15</td>\n",
       "      <td>Headphones</td>\n",
       "      <td>South</td>\n",
       "      <td>37</td>\n",
       "      <td>1915</td>\n",
       "      <td>70855</td>\n",
       "      <td>37</td>\n",
       "      <td>70855</td>\n",
       "      <td>Charlie</td>\n",
       "    </tr>\n",
       "    <tr>\n",
       "      <th>3</th>\n",
       "      <td>4</td>\n",
       "      <td>2023-03-13</td>\n",
       "      <td>Headphones</td>\n",
       "      <td>East</td>\n",
       "      <td>32</td>\n",
       "      <td>725</td>\n",
       "      <td>23200</td>\n",
       "      <td>32</td>\n",
       "      <td>23200</td>\n",
       "      <td>David</td>\n",
       "    </tr>\n",
       "    <tr>\n",
       "      <th>4</th>\n",
       "      <td>5</td>\n",
       "      <td>2023-03-02</td>\n",
       "      <td>Headphones</td>\n",
       "      <td>North</td>\n",
       "      <td>9</td>\n",
       "      <td>1411</td>\n",
       "      <td>12699</td>\n",
       "      <td>9</td>\n",
       "      <td>12699</td>\n",
       "      <td>Eva</td>\n",
       "    </tr>\n",
       "  </tbody>\n",
       "</table>\n",
       "</div>"
      ],
      "text/plain": [
       "   OrderID  OrderDate     Product Region  Units_Sold  UnitPrice  Total  \\\n",
       "0        1 2023-02-21       Phone  South          12       1995  23940   \n",
       "1        2 2023-04-03      Laptop   East           5        785   3925   \n",
       "2        3 2023-01-15  Headphones  South          37       1915  70855   \n",
       "3        4 2023-03-13  Headphones   East          32        725  23200   \n",
       "4        5 2023-03-02  Headphones  North           9       1411  12699   \n",
       "\n",
       "   Quantity  Total.1 CustomerName  \n",
       "0        12    23940        Alice  \n",
       "1         5     3925          Bob  \n",
       "2        37    70855      Charlie  \n",
       "3        32    23200        David  \n",
       "4         9    12699          Eva  "
      ]
     },
     "execution_count": 15,
     "metadata": {},
     "output_type": "execute_result"
    }
   ],
   "source": [
    "df = pd.read_csv(\"sales_data_aligned.csv\", parse_dates=[\"OrderDate\"])\n",
    "df.head()\n"
   ]
  },
  {
   "cell_type": "markdown",
   "id": "a1672792",
   "metadata": {},
   "source": [
    "---\n"
   ]
  },
  {
   "cell_type": "markdown",
   "id": "7648c5ec",
   "metadata": {},
   "source": [
    "## 3. Data Overview"
   ]
  },
  {
   "cell_type": "code",
   "execution_count": 16,
   "id": "5ea4d646",
   "metadata": {},
   "outputs": [
    {
     "name": "stdout",
     "output_type": "stream",
     "text": [
      "<class 'pandas.core.frame.DataFrame'>\n",
      "RangeIndex: 100 entries, 0 to 99\n",
      "Data columns (total 10 columns):\n",
      " #   Column        Non-Null Count  Dtype         \n",
      "---  ------        --------------  -----         \n",
      " 0   OrderID       100 non-null    int64         \n",
      " 1   OrderDate     100 non-null    datetime64[ns]\n",
      " 2   Product       100 non-null    object        \n",
      " 3   Region        100 non-null    object        \n",
      " 4   Units_Sold    100 non-null    int64         \n",
      " 5   UnitPrice     100 non-null    int64         \n",
      " 6   Total         100 non-null    int64         \n",
      " 7   Quantity      100 non-null    int64         \n",
      " 8   Total.1       100 non-null    int64         \n",
      " 9   CustomerName  100 non-null    object        \n",
      "dtypes: datetime64[ns](1), int64(6), object(3)\n",
      "memory usage: 7.9+ KB\n"
     ]
    },
    {
     "data": {
      "text/html": [
       "<div>\n",
       "<style scoped>\n",
       "    .dataframe tbody tr th:only-of-type {\n",
       "        vertical-align: middle;\n",
       "    }\n",
       "\n",
       "    .dataframe tbody tr th {\n",
       "        vertical-align: top;\n",
       "    }\n",
       "\n",
       "    .dataframe thead th {\n",
       "        text-align: right;\n",
       "    }\n",
       "</style>\n",
       "<table border=\"1\" class=\"dataframe\">\n",
       "  <thead>\n",
       "    <tr style=\"text-align: right;\">\n",
       "      <th></th>\n",
       "      <th>OrderID</th>\n",
       "      <th>OrderDate</th>\n",
       "      <th>Product</th>\n",
       "      <th>Region</th>\n",
       "      <th>Units_Sold</th>\n",
       "      <th>UnitPrice</th>\n",
       "      <th>Total</th>\n",
       "      <th>Quantity</th>\n",
       "      <th>Total.1</th>\n",
       "      <th>CustomerName</th>\n",
       "    </tr>\n",
       "  </thead>\n",
       "  <tbody>\n",
       "    <tr>\n",
       "      <th>count</th>\n",
       "      <td>100.000000</td>\n",
       "      <td>100</td>\n",
       "      <td>100</td>\n",
       "      <td>100</td>\n",
       "      <td>100.000000</td>\n",
       "      <td>100.000000</td>\n",
       "      <td>100.000000</td>\n",
       "      <td>100.000000</td>\n",
       "      <td>100.000000</td>\n",
       "      <td>100</td>\n",
       "    </tr>\n",
       "    <tr>\n",
       "      <th>unique</th>\n",
       "      <td>NaN</td>\n",
       "      <td>NaN</td>\n",
       "      <td>5</td>\n",
       "      <td>4</td>\n",
       "      <td>NaN</td>\n",
       "      <td>NaN</td>\n",
       "      <td>NaN</td>\n",
       "      <td>NaN</td>\n",
       "      <td>NaN</td>\n",
       "      <td>8</td>\n",
       "    </tr>\n",
       "    <tr>\n",
       "      <th>top</th>\n",
       "      <td>NaN</td>\n",
       "      <td>NaN</td>\n",
       "      <td>Laptop</td>\n",
       "      <td>West</td>\n",
       "      <td>NaN</td>\n",
       "      <td>NaN</td>\n",
       "      <td>NaN</td>\n",
       "      <td>NaN</td>\n",
       "      <td>NaN</td>\n",
       "      <td>Alice</td>\n",
       "    </tr>\n",
       "    <tr>\n",
       "      <th>freq</th>\n",
       "      <td>NaN</td>\n",
       "      <td>NaN</td>\n",
       "      <td>27</td>\n",
       "      <td>30</td>\n",
       "      <td>NaN</td>\n",
       "      <td>NaN</td>\n",
       "      <td>NaN</td>\n",
       "      <td>NaN</td>\n",
       "      <td>NaN</td>\n",
       "      <td>13</td>\n",
       "    </tr>\n",
       "    <tr>\n",
       "      <th>mean</th>\n",
       "      <td>50.500000</td>\n",
       "      <td>2023-02-20 12:57:36</td>\n",
       "      <td>NaN</td>\n",
       "      <td>NaN</td>\n",
       "      <td>27.500000</td>\n",
       "      <td>1083.040000</td>\n",
       "      <td>29790.990000</td>\n",
       "      <td>27.500000</td>\n",
       "      <td>29790.990000</td>\n",
       "      <td>NaN</td>\n",
       "    </tr>\n",
       "    <tr>\n",
       "      <th>min</th>\n",
       "      <td>1.000000</td>\n",
       "      <td>2023-01-02 00:00:00</td>\n",
       "      <td>NaN</td>\n",
       "      <td>NaN</td>\n",
       "      <td>2.000000</td>\n",
       "      <td>104.000000</td>\n",
       "      <td>1767.000000</td>\n",
       "      <td>2.000000</td>\n",
       "      <td>1767.000000</td>\n",
       "      <td>NaN</td>\n",
       "    </tr>\n",
       "    <tr>\n",
       "      <th>25%</th>\n",
       "      <td>25.750000</td>\n",
       "      <td>2023-01-23 12:00:00</td>\n",
       "      <td>NaN</td>\n",
       "      <td>NaN</td>\n",
       "      <td>18.000000</td>\n",
       "      <td>702.500000</td>\n",
       "      <td>12135.000000</td>\n",
       "      <td>18.000000</td>\n",
       "      <td>12135.000000</td>\n",
       "      <td>NaN</td>\n",
       "    </tr>\n",
       "    <tr>\n",
       "      <th>50%</th>\n",
       "      <td>50.500000</td>\n",
       "      <td>2023-02-23 00:00:00</td>\n",
       "      <td>NaN</td>\n",
       "      <td>NaN</td>\n",
       "      <td>29.500000</td>\n",
       "      <td>1027.500000</td>\n",
       "      <td>23672.500000</td>\n",
       "      <td>29.500000</td>\n",
       "      <td>23672.500000</td>\n",
       "      <td>NaN</td>\n",
       "    </tr>\n",
       "    <tr>\n",
       "      <th>75%</th>\n",
       "      <td>75.250000</td>\n",
       "      <td>2023-03-17 12:00:00</td>\n",
       "      <td>NaN</td>\n",
       "      <td>NaN</td>\n",
       "      <td>36.250000</td>\n",
       "      <td>1510.750000</td>\n",
       "      <td>41387.250000</td>\n",
       "      <td>36.250000</td>\n",
       "      <td>41387.250000</td>\n",
       "      <td>NaN</td>\n",
       "    </tr>\n",
       "    <tr>\n",
       "      <th>max</th>\n",
       "      <td>100.000000</td>\n",
       "      <td>2023-04-10 00:00:00</td>\n",
       "      <td>NaN</td>\n",
       "      <td>NaN</td>\n",
       "      <td>49.000000</td>\n",
       "      <td>1995.000000</td>\n",
       "      <td>95520.000000</td>\n",
       "      <td>49.000000</td>\n",
       "      <td>95520.000000</td>\n",
       "      <td>NaN</td>\n",
       "    </tr>\n",
       "    <tr>\n",
       "      <th>std</th>\n",
       "      <td>29.011492</td>\n",
       "      <td>NaN</td>\n",
       "      <td>NaN</td>\n",
       "      <td>NaN</td>\n",
       "      <td>13.467132</td>\n",
       "      <td>540.408748</td>\n",
       "      <td>22576.656691</td>\n",
       "      <td>13.467132</td>\n",
       "      <td>22576.656691</td>\n",
       "      <td>NaN</td>\n",
       "    </tr>\n",
       "  </tbody>\n",
       "</table>\n",
       "</div>"
      ],
      "text/plain": [
       "           OrderID            OrderDate Product Region  Units_Sold  \\\n",
       "count   100.000000                  100     100    100  100.000000   \n",
       "unique         NaN                  NaN       5      4         NaN   \n",
       "top            NaN                  NaN  Laptop   West         NaN   \n",
       "freq           NaN                  NaN      27     30         NaN   \n",
       "mean     50.500000  2023-02-20 12:57:36     NaN    NaN   27.500000   \n",
       "min       1.000000  2023-01-02 00:00:00     NaN    NaN    2.000000   \n",
       "25%      25.750000  2023-01-23 12:00:00     NaN    NaN   18.000000   \n",
       "50%      50.500000  2023-02-23 00:00:00     NaN    NaN   29.500000   \n",
       "75%      75.250000  2023-03-17 12:00:00     NaN    NaN   36.250000   \n",
       "max     100.000000  2023-04-10 00:00:00     NaN    NaN   49.000000   \n",
       "std      29.011492                  NaN     NaN    NaN   13.467132   \n",
       "\n",
       "          UnitPrice         Total    Quantity       Total.1 CustomerName  \n",
       "count    100.000000    100.000000  100.000000    100.000000          100  \n",
       "unique          NaN           NaN         NaN           NaN            8  \n",
       "top             NaN           NaN         NaN           NaN        Alice  \n",
       "freq            NaN           NaN         NaN           NaN           13  \n",
       "mean    1083.040000  29790.990000   27.500000  29790.990000          NaN  \n",
       "min      104.000000   1767.000000    2.000000   1767.000000          NaN  \n",
       "25%      702.500000  12135.000000   18.000000  12135.000000          NaN  \n",
       "50%     1027.500000  23672.500000   29.500000  23672.500000          NaN  \n",
       "75%     1510.750000  41387.250000   36.250000  41387.250000          NaN  \n",
       "max     1995.000000  95520.000000   49.000000  95520.000000          NaN  \n",
       "std      540.408748  22576.656691   13.467132  22576.656691          NaN  "
      ]
     },
     "execution_count": 16,
     "metadata": {},
     "output_type": "execute_result"
    }
   ],
   "source": [
    "df.info()\n",
    "df.describe(include=\"all\")\n"
   ]
  },
  {
   "cell_type": "markdown",
   "id": "8b99877b",
   "metadata": {},
   "source": [
    "\n",
    "👉 Check for missing values:\n",
    "\n"
   ]
  },
  {
   "cell_type": "code",
   "execution_count": 17,
   "id": "aa948107",
   "metadata": {},
   "outputs": [
    {
     "data": {
      "text/plain": [
       "OrderID         0\n",
       "OrderDate       0\n",
       "Product         0\n",
       "Region          0\n",
       "Units_Sold      0\n",
       "UnitPrice       0\n",
       "Total           0\n",
       "Quantity        0\n",
       "Total.1         0\n",
       "CustomerName    0\n",
       "dtype: int64"
      ]
     },
     "execution_count": 17,
     "metadata": {},
     "output_type": "execute_result"
    }
   ],
   "source": [
    "df.isnull().sum()\n"
   ]
  },
  {
   "cell_type": "markdown",
   "id": "67cd0972",
   "metadata": {},
   "source": [
    "\n",
    "---"
   ]
  },
  {
   "cell_type": "markdown",
   "id": "d8d8401d",
   "metadata": {},
   "source": [
    "## 4. Data Cleaning\n",
    "\n",
    "* Fill missing `Region` with `\"Unknown\"`\n",
    "* Drop duplicates\n",
    "* Ensure `Total = Quantity * UnitPrice`"
   ]
  },
  {
   "cell_type": "code",
   "execution_count": 18,
   "id": "527418df",
   "metadata": {},
   "outputs": [],
   "source": [
    "df[\"Region\"] = df[\"Region\"].fillna(\"Unknown\")\n",
    "df.drop_duplicates(inplace=True)\n",
    "df[\"Total\"] = df[\"Quantity\"] * df[\"UnitPrice\"]\n"
   ]
  },
  {
   "cell_type": "markdown",
   "id": "f44a3aae",
   "metadata": {},
   "source": [
    "---\n",
    "\n",
    "## 5. Exploratory Data Analysis (EDA)\n",
    "\n",
    "### 5.1 Sales Over Time\n",
    "\n"
   ]
  },
  {
   "cell_type": "code",
   "execution_count": 19,
   "id": "483c4d09",
   "metadata": {},
   "outputs": [
    {
     "name": "stderr",
     "output_type": "stream",
     "text": [
      "C:\\Users\\hakha\\AppData\\Local\\Temp\\ipykernel_9324\\2264643170.py:3: FutureWarning: 'M' is deprecated and will be removed in a future version, please use 'ME' instead.\n",
      "  monthly_sales = df[\"Total\"].resample(\"M\").sum()\n"
     ]
    },
    {
     "data": {
      "image/png": "[encoded data removed]",
      "text/plain": [
       "<Figure size 1200x600 with 1 Axes>"
      ]
     },
     "metadata": {},
     "output_type": "display_data"
    }
   ],
   "source": [
    "df.set_index(\"OrderDate\", inplace=True)\n",
    "\n",
    "monthly_sales = df[\"Total\"].resample(\"M\").sum()\n",
    "\n",
    "plt.figure(figsize=(12,6))\n",
    "monthly_sales.plot(marker=\"o\")\n",
    "plt.title(\"Monthly Sales Trend\")\n",
    "plt.ylabel(\"Sales ($)\")\n",
    "plt.show()\n"
   ]
  },
  {
   "cell_type": "markdown",
   "id": "41c75365",
   "metadata": {},
   "source": [
    "---\n",
    "\n"
   ]
  },
  {
   "cell_type": "markdown",
   "id": "ee8a4a31",
   "metadata": {},
   "source": [
    "### 5.2 Sales by Region\n",
    "\n"
   ]
  },
  {
   "cell_type": "code",
   "execution_count": 20,
   "id": "1762305c",
   "metadata": {},
   "outputs": [
    {
     "data": {
      "image/png": "[encoded data removed]",
      "text/plain": [
       "<Figure size 800x500 with 1 Axes>"
      ]
     },
     "metadata": {},
     "output_type": "display_data"
    }
   ],
   "source": [
    "region_sales = df.groupby(\"Region\")[\"Total\"].sum().sort_values(ascending=False)\n",
    "\n",
    "plt.figure(figsize=(8,5))\n",
    "sns.barplot(x=region_sales.index, y=region_sales.values)\n",
    "plt.title(\"Sales by Region\")\n",
    "plt.ylabel(\"Sales ($)\")\n",
    "plt.show()\n"
   ]
  },
  {
   "cell_type": "markdown",
   "id": "9cb98fa5",
   "metadata": {},
   "source": [
    "---\n"
   ]
  },
  {
   "cell_type": "markdown",
   "id": "4c14b231",
   "metadata": {},
   "source": [
    "### 5.3 Top 10 Products"
   ]
  },
  {
   "cell_type": "code",
   "execution_count": 21,
   "id": "48ae6ce1",
   "metadata": {},
   "outputs": [
    {
     "data": {
      "image/png": "[encoded data removed]",
      "text/plain": [
       "<Figure size 1000x600 with 1 Axes>"
      ]
     },
     "metadata": {},
     "output_type": "display_data"
    }
   ],
   "source": [
    "top_products = df.groupby(\"Product\")[\"Total\"].sum().nlargest(10)\n",
    "\n",
    "plt.figure(figsize=(10,6))\n",
    "sns.barplot(x=top_products.values, y=top_products.index)\n",
    "plt.title(\"Top 10 Products by Sales\")\n",
    "plt.xlabel(\"Sales ($)\")\n",
    "plt.show()\n"
   ]
  },
  {
   "cell_type": "markdown",
   "id": "705d4162",
   "metadata": {},
   "source": [
    "\n"
   ]
  },
  {
   "cell_type": "markdown",
   "id": "6219fb41",
   "metadata": {},
   "source": [
    "---\n"
   ]
  },
  {
   "cell_type": "markdown",
   "id": "3bd8a2a5",
   "metadata": {},
   "source": [
    "\n",
    "### 5.4 Best Customers\n"
   ]
  },
  {
   "cell_type": "code",
   "execution_count": 22,
   "id": "98af5e7a",
   "metadata": {},
   "outputs": [
    {
     "data": {
      "image/png": "[encoded data removed]",
      "text/plain": [
       "<Figure size 1000x600 with 1 Axes>"
      ]
     },
     "metadata": {},
     "output_type": "display_data"
    }
   ],
   "source": [
    "\n",
    "top_customers = df.groupby(\"CustomerName\")[\"Total\"].sum().nlargest(10)\n",
    "\n",
    "plt.figure(figsize=(10,6))\n",
    "sns.barplot(x=top_customers.values, y=top_customers.index)\n",
    "plt.title(\"Top 10 Customers by Sales\")\n",
    "plt.xlabel(\"Sales ($)\")\n",
    "plt.show()\n"
   ]
  },
  {
   "cell_type": "markdown",
   "id": "67bdd808",
   "metadata": {},
   "source": [
    "\n",
    "---\n",
    "\n"
   ]
  },
  {
   "cell_type": "markdown",
   "id": "d3d3fba1",
   "metadata": {},
   "source": [
    "## 6. Advanced Analysis\n",
    "\n",
    "### 6.1 Average Order Value (AOV)"
   ]
  },
  {
   "cell_type": "code",
   "execution_count": 23,
   "id": "a2ed2427",
   "metadata": {},
   "outputs": [
    {
     "name": "stdout",
     "output_type": "stream",
     "text": [
      "Average Order Value: $29790.99\n"
     ]
    }
   ],
   "source": [
    "aov = df.groupby(\"OrderID\")[\"Total\"].sum().mean()\n",
    "print(f\"Average Order Value: ${aov:.2f}\")\n"
   ]
  },
  {
   "cell_type": "markdown",
   "id": "2c440678",
   "metadata": {},
   "source": [
    "---\n",
    "\n"
   ]
  },
  {
   "cell_type": "markdown",
   "id": "14f3929b",
   "metadata": {},
   "source": [
    "### 6.2 Yearly Growth\n",
    "\n"
   ]
  },
  {
   "cell_type": "code",
   "execution_count": 24,
   "id": "f6ed8693",
   "metadata": {},
   "outputs": [
    {
     "name": "stderr",
     "output_type": "stream",
     "text": [
      "C:\\Users\\hakha\\AppData\\Local\\Temp\\ipykernel_9324\\1480992005.py:1: FutureWarning: 'Y' is deprecated and will be removed in a future version, please use 'YE' instead.\n",
      "  yearly_sales = df[\"Total\"].resample(\"Y\").sum()\n"
     ]
    },
    {
     "data": {
      "image/png": "[encoded data removed]",
      "text/plain": [
       "<Figure size 1000x500 with 1 Axes>"
      ]
     },
     "metadata": {},
     "output_type": "display_data"
    }
   ],
   "source": [
    "yearly_sales = df[\"Total\"].resample(\"Y\").sum()\n",
    "\n",
    "plt.figure(figsize=(10,5))\n",
    "yearly_sales.plot(kind=\"bar\", color=\"skyblue\")\n",
    "plt.title(\"Yearly Sales Growth\")\n",
    "plt.ylabel(\"Sales ($)\")\n",
    "plt.show()\n"
   ]
  },
  {
   "cell_type": "markdown",
   "id": "59ce3723",
   "metadata": {},
   "source": [
    "\n",
    "---\n",
    "\n"
   ]
  },
  {
   "cell_type": "markdown",
   "id": "4de1584e",
   "metadata": {},
   "source": [
    "### 6.3 Product Performance by Region"
   ]
  },
  {
   "cell_type": "code",
   "execution_count": 25,
   "id": "b0c9ff49",
   "metadata": {},
   "outputs": [
    {
     "data": {
      "image/png": "[encoded data removed]",
      "text/plain": [
       "<Figure size 1200x600 with 2 Axes>"
      ]
     },
     "metadata": {},
     "output_type": "display_data"
    }
   ],
   "source": [
    "pivot = df.pivot_table(values=\"Total\", index=\"Region\", columns=\"Product\", aggfunc=\"sum\", fill_value=0)\n",
    "\n",
    "plt.figure(figsize=(12,6))\n",
    "sns.heatmap(pivot, cmap=\"Blues\", linewidths=0.5)\n",
    "plt.title(\"Product Sales by Region\")\n",
    "plt.show()"
   ]
  },
  {
   "cell_type": "markdown",
   "id": "afdd0532",
   "metadata": {},
   "source": [
    "\n",
    "---"
   ]
  },
  {
   "cell_type": "markdown",
   "id": "66acc37c",
   "metadata": {},
   "source": [
    "## 7. Key Insights\n",
    "\n",
    "* Monthly sales trend helps identify seasonality.\n",
    "* Some regions contribute significantly more to total sales.\n",
    "* A small number of products and customers generate most of the revenue (Pareto principle).\n",
    "* Yearly sales growth shows overall business performance.\n",
    "\n",
    "---\n",
    "\n"
   ]
  },
  {
   "cell_type": "markdown",
   "id": "f461a959",
   "metadata": {},
   "source": [
    "## 8. Next Steps\n",
    "\n",
    "* Apply forecasting models to predict future sales.\n",
    "* Perform customer segmentation using clustering.\n",
    "* Optimize inventory based on sales trends.\n",
    "\n",
    "---\n"
   ]
  }
 ],
 "metadata": {
  "kernelspec": {
   "display_name": "Python 3",
   "language": "python",
   "name": "python3"
  },
  "language_info": {
   "codemirror_mode": {
    "name": "ipython",
    "version": 3
   },
   "file_extension": ".py",
   "mimetype": "text/x-python",
   "name": "python",
   "nbconvert_exporter": "python",
   "pygments_lexer": "ipython3",
   "version": "3.10.11"
  }
 },
 "nbformat": 4,
 "nbformat_minor": 5
}
