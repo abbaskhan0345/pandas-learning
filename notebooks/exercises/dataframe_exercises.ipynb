{
 "cells": [
  {
   "cell_type": "markdown",
   "id": "35fea330",
   "metadata": {},
   "source": [
    "Perfect 👌 let’s create  as a practice notebook for all the DataFrame concepts you’ve been covering.\n",
    "\n",
    "\n",
    "# 📝 DataFrame Exercises\n",
    "**`dataframe_exercises.ipynb`**\n",
    "\n",
    "This notebook will help you practice **pandas DataFrame operations**.  \n",
    "Try solving each exercise **before looking at the solution** 🚀\n",
    "\n",
    "---\n",
    "\n",
    "## Step 1: Import Pandas\n",
    "```python\n",
    "import pandas as pd\n",
    "```\n",
    "\n",
    "---\n"
   ]
  },
  {
   "cell_type": "markdown",
   "id": "71b69389",
   "metadata": {},
   "source": [
    "\n",
    "## Exercise 1: Create a DataFrame\n",
    "\n",
    "👉 Create a DataFrame with the following data:\n",
    "\n",
    "| Name    | Age | City      | Salary |\n",
    "| ------- | --- | --------- | ------ |\n",
    "| Alice   | 25  | New York  | 50000  |\n",
    "| Bob     | 30  | Chicago   | 60000  |\n",
    "| Charlie | 35  | San Diego | 70000  |\n",
    "| Diana   | 40  | Houston   | 80000  |\n",
    "\n",
    "✅ **Task:** Create the DataFrame and print it.\n",
    "\n",
    "```python\n",
    "data = {\n",
    "    \"Name\": [\"Alice\", \"Bob\", \"Charlie\", \"Diana\"],\n",
    "    \"Age\": [25, 30, 35, 40],\n",
    "    \"City\": [\"New York\", \"Chicago\", \"San Diego\", \"Houston\"],\n",
    "    \"Salary\": [50000, 60000, 70000, 80000]\n",
    "}\n",
    "\n",
    "df = pd.DataFrame(data)\n",
    "print(df)\n",
    "```\n",
    "\n",
    "---\n"
   ]
  },
  {
   "cell_type": "markdown",
   "id": "1601bd35",
   "metadata": {},
   "source": [
    "\n",
    "## Exercise 2: Inspect the DataFrame\n",
    "\n",
    "✅ **Tasks:**\n",
    "\n",
    "1. Show the first 2 rows\n",
    "2. Show the shape\n",
    "3. Show the column names\n",
    "\n",
    "```python\n",
    "print(df.head(2))\n",
    "print(df.shape)\n",
    "print(df.columns)\n",
    "```\n",
    "\n",
    "---\n"
   ]
  },
  {
   "cell_type": "markdown",
   "id": "7d768153",
   "metadata": {},
   "source": [
    "\n",
    "## Exercise 3: Select Columns\n",
    "\n",
    "✅ **Tasks:**\n",
    "\n",
    "1. Select the `Name` column\n",
    "2. Select both `Name` and `Salary`\n",
    "\n",
    "```python\n",
    "print(df[\"Name\"])\n",
    "print(df[[\"Name\", \"Salary\"]])\n",
    "```\n",
    "\n",
    "---\n"
   ]
  },
  {
   "cell_type": "markdown",
   "id": "bded417e",
   "metadata": {},
   "source": [
    "\n",
    "## Exercise 4: Filter Rows\n",
    "\n",
    "✅ **Tasks:**\n",
    "\n",
    "1. Show all rows where `Age > 30`\n",
    "2. Show all rows where `City == \"Chicago\"`\n",
    "\n",
    "```python\n",
    "print(df[df[\"Age\"] > 30])\n",
    "print(df[df[\"City\"] == \"Chicago\"])\n",
    "```\n",
    "\n",
    "---\n"
   ]
  },
  {
   "cell_type": "markdown",
   "id": "bb11564c",
   "metadata": {},
   "source": [
    "\n",
    "## Exercise 5: Add a New Column\n",
    "\n",
    "✅ **Task:** Add a new column `Bonus` = 10% of Salary\n",
    "\n",
    "```python\n",
    "df[\"Bonus\"] = df[\"Salary\"] * 0.10\n",
    "print(df)\n",
    "```\n",
    "\n",
    "---\n"
   ]
  },
  {
   "cell_type": "markdown",
   "id": "7f6bbccb",
   "metadata": {},
   "source": [
    "\n",
    "## Exercise 6: Modify Values\n",
    "\n",
    "✅ **Task:** Increase all `Salary` values by 5,000\n",
    "\n",
    "```python\n",
    "df[\"Salary\"] = df[\"Salary\"] + 5000\n",
    "print(df)\n",
    "```\n",
    "\n",
    "---\n"
   ]
  },
  {
   "cell_type": "markdown",
   "id": "5feb57e0",
   "metadata": {},
   "source": [
    "\n",
    "## Exercise 7: Drop a Column\n",
    "\n",
    "✅ **Task:** Remove the `Bonus` column\n",
    "\n",
    "```python\n",
    "df = df.drop(\"Bonus\", axis=1)\n",
    "print(df)\n",
    "```\n",
    "\n",
    "---\n"
   ]
  },
  {
   "cell_type": "markdown",
   "id": "08bda9b6",
   "metadata": {},
   "source": [
    "\n",
    "## Exercise 8: Sorting\n",
    "\n",
    "✅ **Tasks:**\n",
    "\n",
    "1. Sort by `Age` (ascending)\n",
    "2. Sort by `Salary` (descending)\n",
    "\n",
    "```python\n",
    "print(df.sort_values(\"Age\"))\n",
    "print(df.sort_values(\"Salary\", ascending=False))\n",
    "```\n",
    "\n",
    "---\n"
   ]
  },
  {
   "cell_type": "markdown",
   "id": "47d1c026",
   "metadata": {},
   "source": [
    "\n",
    "## Exercise 9: Grouping\n",
    "\n",
    "👉 Add a new column `Department` with values:\n",
    "`[\"IT\", \"IT\", \"HR\", \"HR\"]`\n",
    "\n",
    "✅ **Task:** Find average salary per department\n",
    "\n",
    "```python\n",
    "df[\"Department\"] = [\"IT\", \"IT\", \"HR\", \"HR\"]\n",
    "print(df.groupby(\"Department\")[\"Salary\"].mean())\n",
    "```\n",
    "\n",
    "---\n"
   ]
  },
  {
   "cell_type": "markdown",
   "id": "2c4f3af7",
   "metadata": {},
   "source": [
    "\n",
    "## Exercise 10: Handling Missing Data\n",
    "\n",
    "👉 Add a new row with missing values.\n",
    "\n",
    "✅ **Task:**\n",
    "\n",
    "1. Check for missing values\n",
    "2. Fill missing salary with `df[\"Salary\"].mean()`\n",
    "\n",
    "```python\n",
    "df.loc[4] = [\"Eve\", None, \"Boston\", None, \"Finance\"]\n",
    "print(df)\n",
    "\n",
    "print(df.isnull().sum())\n",
    "\n",
    "df[\"Salary\"].fillna(df[\"Salary\"].mean(), inplace=True)\n",
    "print(df)\n",
    "```\n",
    "\n",
    "---\n"
   ]
  },
  {
   "cell_type": "markdown",
   "id": "8b91b1c1",
   "metadata": {},
   "source": [
    "\n",
    "## Exercise 11: Save & Load\n",
    "\n",
    "✅ **Tasks:**\n",
    "\n",
    "1. Save the DataFrame to CSV\n",
    "2. Load it back\n",
    "\n",
    "```python\n",
    "df.to_csv(\"employees.csv\", index=False)\n",
    "df_loaded = pd.read_csv(\"employees.csv\")\n",
    "print(df_loaded)\n",
    "```\n",
    "\n",
    "---\n"
   ]
  },
  {
   "cell_type": "markdown",
   "id": "39b18ad9",
   "metadata": {},
   "source": [
    "\n",
    "# 🎯 Summary\n",
    "\n",
    "You practiced:\n",
    "\n",
    "* Creating DataFrames\n",
    "* Selecting & filtering data\n",
    "* Adding/modifying/dropping columns\n",
    "* Sorting & grouping\n",
    "* Handling missing data\n",
    "* Saving & loading data\n",
    "\n",
    "This gives you **solid pandas DataFrame skills** 🚀\n",
    "\n",
    "\n",
    "---\n"
   ]
  }
 ],
 "metadata": {
  "language_info": {
   "name": "python"
  }
 },
 "nbformat": 4,
 "nbformat_minor": 5
}
