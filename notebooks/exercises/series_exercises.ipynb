{
 "cells": [
  {
   "cell_type": "markdown",
   "id": "7543141b",
   "metadata": {},
   "source": [
    "\n",
    "**`series_exercises.ipynb`**\n",
    "# **Series Exercises**\n",
    "\n",
    "### 🎯 Objective\n",
    "\n",
    "These exercises will help you practice creating, manipulating, and analyzing **Pandas Series**.\n",
    "\n",
    "---\n",
    "\n"
   ]
  },
  {
   "cell_type": "markdown",
   "id": "98c85af8",
   "metadata": {},
   "source": [
    "## **1. Creating Series**\n",
    "\n",
    "Create a Pandas Series from the following list:\n",
    "\n",
    "```python\n",
    "import pandas as pd\n",
    "\n",
    "data = [10, 20, 30, 40, 50]\n",
    "\n",
    "# Your code here\n",
    "```\n",
    "\n",
    "✅ **Task:** Assign the Series to a variable called `s1` and display it.\n",
    "\n",
    "---\n",
    "\n"
   ]
  },
  {
   "cell_type": "markdown",
   "id": "338ee2fc",
   "metadata": {},
   "source": [
    "## **2. Custom Index**\n",
    "\n",
    "Create a Series with values `[100, 200, 300, 400]` and custom indices `['a', 'b', 'c', 'd']`.\n",
    "\n",
    "```python\n",
    "# Your code here\n",
    "```\n",
    "\n",
    "✅ **Task:** Print both the **values** and **indices** separately.\n",
    "\n",
    "---\n",
    "\n"
   ]
  },
  {
   "cell_type": "markdown",
   "id": "df31340d",
   "metadata": {},
   "source": [
    "## **3. Series from Dictionary**\n",
    "\n",
    "Convert the dictionary below into a Pandas Series:\n",
    "\n",
    "```python\n",
    "data = {'Math': 90, 'Science': 85, 'English': 88, 'History': 76}\n",
    "\n",
    "# Your code here\n",
    "```\n",
    "\n",
    "✅ **Task:** Access the value of `\"Science\"`.\n",
    "\n",
    "---\n",
    "\n"
   ]
  },
  {
   "cell_type": "markdown",
   "id": "620a92b9",
   "metadata": {},
   "source": [
    "## **4. Series with Missing Values**\n",
    "\n",
    "Create a Series with the values `[1, 2, None, 4, 5]`.\n",
    "\n",
    "```python\n",
    "# Your code here\n",
    "```\n",
    "\n",
    "✅ **Task:**\n",
    "\n",
    "1. Check for missing values.\n",
    "2. Fill missing values with `0`.\n",
    "\n",
    "---\n",
    "\n"
   ]
  },
  {
   "cell_type": "markdown",
   "id": "66d7134d",
   "metadata": {},
   "source": [
    "## **5. Arithmetic Operations**\n",
    "\n",
    "Create two Series and perform arithmetic:\n",
    "\n",
    "```python\n",
    "s1 = pd.Series([10, 20, 30, 40])\n",
    "s2 = pd.Series([1, 2, 3, 4])\n",
    "\n",
    "# Your code here\n",
    "```\n",
    "\n",
    "✅ **Task:** Perform `s1 + s2`, `s1 - s2`, and `s1 * s2`.\n",
    "\n",
    "---\n",
    "\n"
   ]
  },
  {
   "cell_type": "markdown",
   "id": "ea46adbc",
   "metadata": {},
   "source": [
    "## **6. Series Statistics**\n",
    "\n",
    "Given:\n",
    "\n",
    "```python\n",
    "s = pd.Series([3, 6, 9, 12, 15])\n",
    "```\n",
    "\n",
    "✅ **Task:** Find the **mean, median, min, max, and standard deviation**.\n",
    "\n",
    "---\n",
    "\n"
   ]
  },
  {
   "cell_type": "markdown",
   "id": "73bc6d48",
   "metadata": {},
   "source": [
    "## **7. Boolean Indexing**\n",
    "\n",
    "Given:\n",
    "\n",
    "```python\n",
    "s = pd.Series([5, 10, 15, 20, 25, 30])\n",
    "```\n",
    "\n",
    "✅ **Task:** Extract only the values greater than `15`.\n",
    "\n",
    "---\n",
    "\n"
   ]
  },
  {
   "cell_type": "markdown",
   "id": "5fdcdec2",
   "metadata": {},
   "source": [
    "## **8. Using `apply()`**\n",
    "\n",
    "```python\n",
    "s = pd.Series([1, 2, 3, 4, 5])\n",
    "```\n",
    "\n",
    "✅ **Task:** Use `.apply()` to square each value.\n",
    "\n",
    "---\n",
    "\n"
   ]
  },
  {
   "cell_type": "markdown",
   "id": "9e7fdbe5",
   "metadata": {},
   "source": [
    "## **9. Membership Test**\n",
    "\n",
    "```python\n",
    "s = pd.Series(['apple', 'banana', 'cherry', 'date'])\n",
    "```\n",
    "\n",
    "✅ **Task:** Check if `\"banana\"` and `\"grape\"` exist in the Series.\n",
    "\n",
    "---\n",
    "\n"
   ]
  },
  {
   "cell_type": "markdown",
   "id": "da7f5b21",
   "metadata": {},
   "source": [
    "## **10. Challenge – Monthly Sales**\n",
    "\n",
    "Create a Series for monthly sales:\n",
    "\n",
    "```python\n",
    "sales = pd.Series(\n",
    "    [250, 300, 400, 500, 600, 550],\n",
    "    index=['Jan', 'Feb', 'Mar', 'Apr', 'May', 'Jun']\n",
    ")\n",
    "```\n",
    "\n",
    "✅ **Tasks:**\n",
    "\n",
    "1. Find the month with maximum sales.\n",
    "2. Find the average sales.\n",
    "3. Select sales greater than `400`.\n",
    "\n",
    "---\n",
    "\n",
    "✨ End of Exercises ✨\n",
    "\n",
    "---\n"
   ]
  }
 ],
 "metadata": {
  "language_info": {
   "name": "python"
  }
 },
 "nbformat": 4,
 "nbformat_minor": 5
}
