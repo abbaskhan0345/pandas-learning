{
 "cells": [
  {
   "cell_type": "markdown",
   "id": "fe7e790c",
   "metadata": {},
   "source": [
    "Perfect 👍 Here’s a clean * outline in **Markdown + Code cells** (ready for Jupyter Notebook).\n",
    "\n",
    "---\n",
    "\n",
    "# **Time Series Exercises**\n",
    "*`time_series_exercises.ipynb`**\n",
    "\n",
    "### 🎯 Objective\n",
    "\n",
    "These exercises will help you practice **time series creation, indexing, resampling, and analysis** using Pandas.\n",
    "\n",
    "---\n",
    "\n"
   ]
  },
  {
   "cell_type": "markdown",
   "id": "b157ab2a",
   "metadata": {},
   "source": [
    "## **1. Creating a Date Range**\n",
    "\n",
    "Create a date range from **`2025-01-01` to `2025-01-10`** with daily frequency.\n",
    "\n",
    "```python\n",
    "import pandas as pd\n",
    "\n",
    "# Your code here\n",
    "```\n",
    "\n",
    "✅ **Task:** Store it in a variable called `dates` and display it.\n",
    "\n",
    "---\n",
    "\n"
   ]
  },
  {
   "cell_type": "markdown",
   "id": "c7d90eb5",
   "metadata": {},
   "source": [
    "## **2. Time Series with Random Data**\n",
    "\n",
    "Using the `dates` created above, create a Series of random integers between **10 and 100**.\n",
    "\n",
    "```python\n",
    "import numpy as np\n",
    "\n",
    "# Your code here\n",
    "```\n",
    "\n",
    "✅ **Task:** Display the first 5 values.\n",
    "\n",
    "---\n",
    "\n"
   ]
  },
  {
   "cell_type": "markdown",
   "id": "02599265",
   "metadata": {},
   "source": [
    "## **3. Accessing Elements by Date**\n",
    "\n",
    "Given:\n",
    "\n",
    "```python\n",
    "dates = pd.date_range('2025-01-01', periods=7, freq='D')\n",
    "ts = pd.Series([100, 200, 150, 300, 250, 400, 350], index=dates)\n",
    "```\n",
    "\n",
    "✅ **Task:**\n",
    "\n",
    "1. Get the value for `\"2025-01-04\"`.\n",
    "2. Get all values between `\"2025-01-03\"` and `\"2025-01-06\"`.\n",
    "\n",
    "---\n",
    "\n"
   ]
  },
  {
   "cell_type": "markdown",
   "id": "59fa1257",
   "metadata": {},
   "source": [
    "## **4. Resampling (Downsampling)**\n",
    "\n",
    "Given:\n",
    "\n",
    "```python\n",
    "dates = pd.date_range('2025-01-01', periods=31, freq='D')\n",
    "ts = pd.Series(np.random.randint(50, 200, size=31), index=dates)\n",
    "```\n",
    "\n",
    "✅ **Task:**\n",
    "\n",
    "1. Resample the data to **weekly mean**.\n",
    "2. Resample to **monthly sum**.\n",
    "\n",
    "---\n",
    "\n"
   ]
  },
  {
   "cell_type": "markdown",
   "id": "6c0ef809",
   "metadata": {},
   "source": [
    "## **5. Resampling (Upsampling)**\n",
    "\n",
    "Using the same `ts` above, upsample the data to **hourly frequency** (`'H'`) and **forward fill** missing values.\n",
    "\n",
    "```python\n",
    "# Your code here\n",
    "```\n",
    "\n",
    "---\n",
    "\n"
   ]
  },
  {
   "cell_type": "markdown",
   "id": "283756e4",
   "metadata": {},
   "source": [
    "## **6. Shifting Data**\n",
    "\n",
    "Given:\n",
    "\n",
    "```python\n",
    "dates = pd.date_range('2025-02-01', periods=10, freq='D')\n",
    "ts = pd.Series(np.arange(10, 20), index=dates)\n",
    "```\n",
    "\n",
    "✅ **Task:**\n",
    "\n",
    "1. Shift the series **1 day forward**.\n",
    "2. Shift the series **2 days backward**.\n",
    "\n",
    "---\n",
    "\n"
   ]
  },
  {
   "cell_type": "markdown",
   "id": "45bfc129",
   "metadata": {},
   "source": [
    "## **7. Rolling Window**\n",
    "\n",
    "Given:\n",
    "\n",
    "```python\n",
    "dates = pd.date_range('2025-03-01', periods=10, freq='D')\n",
    "ts = pd.Series([10, 20, 30, 40, 50, 60, 70, 80, 90, 100], index=dates)\n",
    "```\n",
    "\n",
    "✅ **Task:** Compute the **3-day rolling mean**.\n",
    "\n",
    "---\n",
    "\n"
   ]
  },
  {
   "cell_type": "markdown",
   "id": "ce619bd6",
   "metadata": {},
   "source": [
    "## **8. DateTime Components**\n",
    "\n",
    "Given:\n",
    "\n",
    "```python\n",
    "dates = pd.date_range('2025-04-01', periods=6, freq='D')\n",
    "ts = pd.Series([5, 10, 15, 20, 25, 30], index=dates)\n",
    "```\n",
    "\n",
    "✅ **Task:** Extract and display the **year, month, and day** from the index.\n",
    "\n",
    "---\n",
    "\n"
   ]
  },
  {
   "cell_type": "markdown",
   "id": "2f79321d",
   "metadata": {},
   "source": [
    "## **9. Filtering by Month**\n",
    "\n",
    "Given:\n",
    "\n",
    "```python\n",
    "dates = pd.date_range('2025-01-01', '2025-12-31', freq='D')\n",
    "ts = pd.Series(np.random.randint(100, 500, size=len(dates)), index=dates)\n",
    "```\n",
    "\n",
    "✅ **Task:** Select all entries for **March 2025**.\n",
    "\n",
    "---\n",
    "\n"
   ]
  },
  {
   "cell_type": "markdown",
   "id": "8061e226",
   "metadata": {},
   "source": [
    "## **10. Challenge – Stock Prices**\n",
    "\n",
    "Simulate stock prices for 60 days:\n",
    "\n",
    "```python\n",
    "dates = pd.date_range('2025-01-01', periods=60, freq='D')\n",
    "stock_prices = pd.Series(np.random.randint(90, 150, size=60), index=dates)\n",
    "```\n",
    "\n",
    "✅ **Tasks:**\n",
    "\n",
    "1. Find the **highest stock price** and its date.\n",
    "2. Compute the **7-day rolling average**.\n",
    "3. Plot the stock prices and rolling average (hint: use `.plot()`).\n",
    "\n",
    "---\n",
    "\n",
    "✨ End of Exercises ✨\n",
    "\n",
    "---\n",
    "\n",
    "\n"
   ]
  }
 ],
 "metadata": {
  "language_info": {
   "name": "python"
  }
 },
 "nbformat": 4,
 "nbformat_minor": 5
}
