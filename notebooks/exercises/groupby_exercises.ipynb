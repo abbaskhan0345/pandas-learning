{
 "cells": [
  {
   "cell_type": "markdown",
   "id": "77275b1b",
   "metadata": {},
   "source": [
    "# GroupBy Exercises 🧩\n",
    "**`groupby_exercises.ipynb`**\n",
    "\n",
    "In this notebook, you'll practice using the powerful `groupby()` functionality in **pandas**.  \n",
    "These exercises are designed to help you master aggregation, transformations, filtering, and multi-level grouping.\n",
    "\n",
    "---\n",
    "\n",
    "## Import Libraries\n",
    "```python\n",
    "import pandas as pd\n",
    "import numpy as np\n",
    "```\n",
    "\n",
    "---"
   ]
  },
  {
   "cell_type": "markdown",
   "id": "15657cbd",
   "metadata": {},
   "source": [
    "## Dataset Setup\n",
    "\n",
    "We'll create a sample dataset of sales records for a company:\n",
    "\n",
    "```python\n",
    "data = {\n",
    "    'Region': ['North', 'South', 'East', 'West', 'North', 'South', 'East', 'West',\n",
    "               'North', 'South', 'East', 'West'],\n",
    "    'Category': ['Electronics', 'Electronics', 'Electronics', 'Electronics',\n",
    "                 'Furniture', 'Furniture', 'Furniture', 'Furniture',\n",
    "                 'Clothing', 'Clothing', 'Clothing', 'Clothing'],\n",
    "    'Sales': [2000, 1500, 1800, 2200, 1200, 1100, 1600, 1400, 500, 700, 450, 650],\n",
    "    'Profit': [200, 150, 180, 250, 100, 120, 140, 160, 50, 70, 45, 65]\n",
    "}\n",
    "\n",
    "df = pd.DataFrame(data)\n",
    "df\n",
    "```\n",
    "\n",
    "---"
   ]
  },
  {
   "cell_type": "markdown",
   "id": "5ed51a51",
   "metadata": {},
   "source": [
    "## 📝 Exercises\n",
    "\n",
    "### Exercise 1: Basic Grouping\n",
    "\n",
    "Group the sales data by **Region** and calculate the total sales for each region.\n",
    "\n",
    "👉 Expected Columns: `Region`, `Total Sales`\n",
    "\n",
    "---"
   ]
  },
  {
   "cell_type": "markdown",
   "id": "ea51b0b6",
   "metadata": {},
   "source": [
    "\n",
    "### Exercise 2: Group by Multiple Columns\n",
    "\n",
    "Group the data by **Region** and **Category** and calculate the **sum of Sales**.\n",
    "\n",
    "👉 Expected Columns: `Region`, `Category`, `Sales`\n",
    "\n",
    "---\n"
   ]
  },
  {
   "cell_type": "markdown",
   "id": "42f38127",
   "metadata": {},
   "source": [
    "\n",
    "### Exercise 3: Aggregations\n",
    "\n",
    "Using `groupby()`, calculate both **sum of Sales** and **mean of Profit** grouped by **Category**.\n",
    "\n",
    "👉 Expected Columns: `Category`, `Total Sales`, `Average Profit`\n",
    "\n",
    "---\n"
   ]
  },
  {
   "cell_type": "markdown",
   "id": "ad132f4f",
   "metadata": {},
   "source": [
    "\n",
    "### Exercise 4: Custom Aggregation\n",
    "\n",
    "For each **Region**, calculate:\n",
    "\n",
    "* Total Sales\n",
    "* Maximum Profit\n",
    "* Minimum Profit\n",
    "\n",
    "(Hint: Use `.agg()` with multiple functions)\n",
    "\n",
    "---\n"
   ]
  },
  {
   "cell_type": "markdown",
   "id": "197362ab",
   "metadata": {},
   "source": [
    "\n",
    "### Exercise 5: Filtering with GroupBy\n",
    "\n",
    "Filter out the categories where the **average Sales** is **less than 1000**.\n",
    "\n",
    "👉 Only return categories that meet the condition.\n",
    "\n",
    "---\n",
    "\n"
   ]
  },
  {
   "cell_type": "markdown",
   "id": "cab9c48b",
   "metadata": {},
   "source": [
    "### Exercise 6: Transformation\n",
    "\n",
    "Use `groupby().transform()` to create a new column `Sales_Percentage` that shows each sale as a percentage of the **total sales in that region**.\n",
    "\n",
    "👉 Add column: `Sales_Percentage`\n",
    "\n",
    "---\n",
    "\n"
   ]
  },
  {
   "cell_type": "markdown",
   "id": "86da6c36",
   "metadata": {},
   "source": [
    "### Exercise 7: MultiIndex Grouping\n",
    "\n",
    "Group the data by **Region** and **Category** and calculate the **average Profit**.\n",
    "Return the result as a **MultiIndex DataFrame**.\n",
    "\n",
    "---\n",
    "\n"
   ]
  },
  {
   "cell_type": "markdown",
   "id": "3a10dc4b",
   "metadata": {},
   "source": [
    "### Exercise 8: Pivot Table Challenge 🏆\n",
    "\n",
    "Create a pivot table from the dataset where:\n",
    "\n",
    "* Rows = `Region`\n",
    "* Columns = `Category`\n",
    "* Values = `Sales`\n",
    "* Aggregation = `sum`\n",
    "\n",
    "---\n",
    "\n"
   ]
  },
  {
   "cell_type": "markdown",
   "id": "6c2d03b6",
   "metadata": {},
   "source": [
    "## 🚀 Bonus Challenge\n",
    "\n",
    "1. Find the **most profitable category per region**.\n",
    "2. Find the **percentage contribution** of each category’s sales to the total sales of its region.\n",
    "\n",
    "---\n",
    "\n",
    "✅ Once you’ve completed these exercises, you’ll be comfortable with most of the practical use cases of `groupby` in real-world scenarios!\n",
    "\n",
    "```\n",
    "\n",
    "---\n"
   ]
  }
 ],
 "metadata": {
  "language_info": {
   "name": "python"
  }
 },
 "nbformat": 4,
 "nbformat_minor": 5
}
