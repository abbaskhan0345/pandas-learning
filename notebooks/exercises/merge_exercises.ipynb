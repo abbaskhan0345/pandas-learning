{
 "cells": [
  {
   "cell_type": "markdown",
   "id": "638e129f",
   "metadata": {},
   "source": [
    "\n",
    "---\n",
    "# `pandas-learning/notebooks/exercises/`\n",
    "**`merge_exercises.ipynb`**\n",
    "\n",
    "# 🧩 Merge & Join Exercises with Pandas\n",
    "\n",
    "In this notebook, you will practice **merging and joining** datasets using `pandas`.  \n",
    "These exercises will strengthen your understanding of:\n",
    "\n",
    "- `pd.merge()`  \n",
    "- Different types of joins (`inner`, `outer`, `left`, `right`)  \n",
    "- Handling key mismatches  \n",
    "- Merging on multiple keys  \n",
    "\n",
    "---\n",
    "\n",
    "## 📌 Setup\n",
    "```python\n",
    "import pandas as pd\n",
    "```\n",
    "\n",
    "---\n",
    "\n"
   ]
  },
  {
   "cell_type": "markdown",
   "id": "6aea3491",
   "metadata": {},
   "source": [
    "## Exercise 1️⃣ – Basic Merge\n",
    "\n",
    "Create two DataFrames and merge them on a common key.\n",
    "\n",
    "```python\n",
    "df_customers = pd.DataFrame({\n",
    "    \"CustomerID\": [1, 2, 3, 4],\n",
    "    \"Name\": [\"Alice\", \"Bob\", \"Charlie\", \"David\"]\n",
    "})\n",
    "\n",
    "df_orders = pd.DataFrame({\n",
    "    \"OrderID\": [101, 102, 103, 104],\n",
    "    \"CustomerID\": [1, 2, 2, 5],\n",
    "    \"Amount\": [250, 120, 300, 150]\n",
    "})\n",
    "\n",
    "# 👉 Task: Merge `df_customers` and `df_orders` on `CustomerID`\n",
    "```\n",
    "\n",
    "---\n",
    "\n"
   ]
  },
  {
   "cell_type": "markdown",
   "id": "78108cf2",
   "metadata": {},
   "source": [
    "## Exercise 2️⃣ – Inner vs Outer Join\n",
    "\n",
    "Using the same DataFrames:\n",
    "\n",
    "```python\n",
    "# 👉 Task: Perform INNER JOIN and OUTER JOIN\n",
    "```\n",
    "\n",
    "* Compare the results.\n",
    "* Which customers appear in each join?\n",
    "\n",
    "---\n",
    "\n"
   ]
  },
  {
   "cell_type": "markdown",
   "id": "119c5bb1",
   "metadata": {},
   "source": [
    "## Exercise 3️⃣ – Left vs Right Join\n",
    "\n",
    "```python\n",
    "# 👉 Task: Perform LEFT JOIN (customers → orders) and RIGHT JOIN (orders → customers)\n",
    "```\n",
    "\n",
    "* Which join preserves all customers?\n",
    "* Which join preserves all orders?\n",
    "\n",
    "---\n",
    "\n"
   ]
  },
  {
   "cell_type": "markdown",
   "id": "04d95deb",
   "metadata": {},
   "source": [
    "## Exercise 4️⃣ – Merging on Multiple Keys\n",
    "\n",
    "Create two DataFrames with **two matching keys**:\n",
    "\n",
    "```python\n",
    "df1 = pd.DataFrame({\n",
    "    \"Employee\": [\"John\", \"Anna\", \"Mike\", \"Sara\"],\n",
    "    \"Dept\": [\"HR\", \"IT\", \"IT\", \"Finance\"],\n",
    "    \"Salary\": [5000, 6000, 6500, 7000]\n",
    "})\n",
    "\n",
    "df2 = pd.DataFrame({\n",
    "    \"Employee\": [\"John\", \"Anna\", \"Mike\", \"Tom\"],\n",
    "    \"Dept\": [\"HR\", \"IT\", \"Sales\", \"Finance\"],\n",
    "    \"Bonus\": [500, 700, 600, 800]\n",
    "})\n",
    "\n",
    "# 👉 Task: Merge these DataFrames on BOTH `Employee` and `Dept`\n",
    "```\n",
    "\n",
    "---\n",
    "\n"
   ]
  },
  {
   "cell_type": "markdown",
   "id": "2102268f",
   "metadata": {},
   "source": [
    "## Exercise 5️⃣ – Handling Suffixes\n",
    "\n",
    "```python\n",
    "# 👉 Task: Merge df1 and df2 on `Employee` only\n",
    "# What happens to the duplicate columns? Add suffixes `_left` and `_right`\n",
    "```\n",
    "\n",
    "---\n"
   ]
  },
  {
   "cell_type": "markdown",
   "id": "58b61aec",
   "metadata": {},
   "source": [
    "## 🚀 Challenge Exercise – Sales Data Merge\n",
    "\n",
    "You are given sales data split into two DataFrames:\n",
    "\n",
    "```python\n",
    "df_sales = pd.DataFrame({\n",
    "    \"OrderID\": [1, 2, 3, 4, 5],\n",
    "    \"ProductID\": [101, 102, 103, 104, 105],\n",
    "    \"Quantity\": [2, 1, 5, 3, 4]\n",
    "})\n",
    "\n",
    "df_products = pd.DataFrame({\n",
    "    \"ProductID\": [101, 102, 103, 106],\n",
    "    \"ProductName\": [\"Laptop\", \"Mouse\", \"Keyboard\", \"Monitor\"],\n",
    "    \"Price\": [1200, 25, 45, 300]\n",
    "})\n",
    "\n",
    "# 👉 Task 1: Merge sales with products on `ProductID`\n",
    "# 👉 Task 2: Compute a new column \"Total\" = Quantity * Price\n",
    "# 👉 Task 3: Which products were ordered but not found in `df_products`?\n",
    "```"
   ]
  },
  {
   "cell_type": "markdown",
   "id": "f700212b",
   "metadata": {},
   "source": [
    "\n",
    "💡 *Hint: Think about the join type you should use.*\n",
    "\n",
    "---\n",
    "\n",
    "✅ That’s it! You’ve practiced **merging & joining** in pandas.\n",
    "\n",
    "\n",
    "---"
   ]
  }
 ],
 "metadata": {
  "language_info": {
   "name": "python"
  }
 },
 "nbformat": 4,
 "nbformat_minor": 5
}
