{
 "cells": [
  {
   "cell_type": "markdown",
   "id": "16b235c4",
   "metadata": {},
   "source": [
    "# Pandas DataFrame\n",
    "**`03-dataframe.ipynb`**\n",
    "\n",
    "A **DataFrame** is a 2-dimensional labeled data structure with **rows and columns**.  \n",
    "It is the most commonly used Pandas object for working with structured data, similar to a table in Excel or SQL.\n",
    "\n",
    "---"
   ]
  },
  {
   "cell_type": "markdown",
   "id": "8a377de6",
   "metadata": {},
   "source": [
    "## Step 1: Import Libraries"
   ]
  },
  {
   "cell_type": "markdown",
   "id": "8acb3d8c",
   "metadata": {},
   "source": [
    "import pandas as pd\n",
    "import numpy as np"
   ]
  },
  {
   "cell_type": "markdown",
   "id": "63360be2",
   "metadata": {},
   "source": [
    "\n",
    "---"
   ]
  },
  {
   "cell_type": "markdown",
   "id": "f018ccf3",
   "metadata": {},
   "source": [
    "## Step 2: Creating a DataFrame\n",
    "\n",
    "### From a Python Dictionary\n"
   ]
  },
  {
   "cell_type": "markdown",
   "id": "273d4f16",
   "metadata": {},
   "source": [
    "data = {\n",
    "    \"Name\": [\"Alice\", \"Bob\", \"Charlie\", \"David\"],\n",
    "    \"Age\": [25, 30, 22, 28],\n",
    "    \"City\": [\"New York\", \"Los Angeles\", \"Chicago\", \"Houston\"]\n",
    "}\n",
    "\n",
    "df = pd.DataFrame(data)\n",
    "print(df)"
   ]
  },
  {
   "cell_type": "markdown",
   "id": "bd0d5b67",
   "metadata": {},
   "source": [
    "### From a List of Lists"
   ]
  },
  {
   "cell_type": "markdown",
   "id": "30c8b0f0",
   "metadata": {},
   "source": [
    "data = [\n",
    "    [1, \"Alice\", 25],\n",
    "    [2, \"Bob\", 30],\n",
    "    [3, \"Charlie\", 22]\n",
    "]\n",
    "\n",
    "df = pd.DataFrame(data, columns=[\"ID\", \"Name\", \"Age\"])\n",
    "print(df)"
   ]
  },
  {
   "cell_type": "markdown",
   "id": "e455fdc8",
   "metadata": {},
   "source": [
    "### From a NumPy Array\n",
    "\n",
    "arr = np.array([[1, 2], [3, 4], [5, 6]])\n",
    "df = pd.DataFrame(arr, columns=[\"Column1\", \"Column2\"])\n",
    "print(df)"
   ]
  },
  {
   "cell_type": "markdown",
   "id": "23bb2c22",
   "metadata": {},
   "source": [
    "\n",
    "---"
   ]
  },
  {
   "cell_type": "markdown",
   "id": "6ef5dba0",
   "metadata": {},
   "source": [
    "## Step 3: Inspecting a DataFrame"
   ]
  },
  {
   "cell_type": "markdown",
   "id": "9b8dae91",
   "metadata": {},
   "source": [
    "# View first few rows\n",
    "print(df.head())\n",
    "\n",
    "# View last few rows\n",
    "print(df.tail())\n",
    "\n",
    "# Basic info about data types and non-null counts\n",
    "print(df.info())\n",
    "\n",
    "# Summary statistics for numeric columns\n",
    "print(df.describe())"
   ]
  },
  {
   "cell_type": "markdown",
   "id": "7f3ff35c",
   "metadata": {},
   "source": [
    "\n",
    "---"
   ]
  },
  {
   "cell_type": "markdown",
   "id": "b4e6cec8",
   "metadata": {},
   "source": [
    "## Step 4: Accessing Columns"
   ]
  },
  {
   "cell_type": "markdown",
   "id": "6e68ce9c",
   "metadata": {},
   "source": [
    "# Access a single column\n",
    "print(df['Name'])\n",
    "\n",
    "# Access multiple columns\n",
    "print(df[['Name', 'Age']])"
   ]
  },
  {
   "cell_type": "markdown",
   "id": "067a70f0",
   "metadata": {},
   "source": [
    "\n",
    "---"
   ]
  },
  {
   "cell_type": "markdown",
   "id": "c8510de8",
   "metadata": {},
   "source": [
    "## Step 5: Accessing Rows"
   ]
  },
  {
   "cell_type": "markdown",
   "id": "a36e69ed",
   "metadata": {},
   "source": [
    "# Access rows by integer position\n",
    "print(df.iloc[0])  # first row\n",
    "\n",
    "# Access rows by index label (if index is custom)\n",
    "df_custom = df.set_index('ID')\n",
    "print(df_custom.loc[2])  # row with ID = 2"
   ]
  },
  {
   "cell_type": "markdown",
   "id": "2cee295e",
   "metadata": {},
   "source": [
    "\n",
    "---"
   ]
  },
  {
   "cell_type": "markdown",
   "id": "c1b50866",
   "metadata": {},
   "source": [
    "## Step 6: Accessing Rows and Columns Together"
   ]
  },
  {
   "cell_type": "markdown",
   "id": "8d6d887d",
   "metadata": {},
   "source": [
    "# Single value\n",
    "print(df.loc[0, 'Name'])\n",
    "\n",
    "# Multiple rows and columns\n",
    "print(df.loc[0:2, ['Name', 'Age']])\n"
   ]
  },
  {
   "cell_type": "markdown",
   "id": "f1783914",
   "metadata": {},
   "source": [
    "\n",
    "---"
   ]
  },
  {
   "cell_type": "markdown",
   "id": "9bddd7e1",
   "metadata": {},
   "source": [
    "## Step 7: Adding and Removing Columns"
   ]
  },
  {
   "cell_type": "markdown",
   "id": "d1cd113a",
   "metadata": {},
   "source": [
    "# Add a new column\n",
    "df['Score'] = [85, 90, 78, 92]\n",
    "print(df)\n",
    "\n",
    "# Remove a column\n",
    "df = df.drop('Score', axis=1)\n",
    "print(df)"
   ]
  },
  {
   "cell_type": "markdown",
   "id": "89399237",
   "metadata": {},
   "source": [
    "\n",
    "---"
   ]
  },
  {
   "cell_type": "markdown",
   "id": "3148f760",
   "metadata": {},
   "source": [
    "## Step 8: Adding and Removing Rows\n"
   ]
  },
  {
   "cell_type": "markdown",
   "id": "69e40c59",
   "metadata": {},
   "source": [
    "# Add a new row using append (note: append returns a new DataFrame)\n",
    "new_row = {\"Name\": \"Eva\", \"Age\": 26, \"City\": \"Boston\"}\n",
    "df = df.append(new_row, ignore_index=True)\n",
    "print(df)\n",
    "\n",
    "# Remove a row by index\n",
    "df = df.drop(0, axis=0)\n",
    "print(df)"
   ]
  },
  {
   "cell_type": "markdown",
   "id": "ca1ec451",
   "metadata": {},
   "source": [
    "\n",
    "---"
   ]
  },
  {
   "cell_type": "markdown",
   "id": "4a458ec0",
   "metadata": {},
   "source": [
    "## Step 9: Indexing and Selection"
   ]
  },
  {
   "cell_type": "markdown",
   "id": "c43b9ac2",
   "metadata": {},
   "source": [
    "# Set a column as index\n",
    "df = df.set_index('Name')\n",
    "print(df)\n",
    "\n",
    "# Access a row using index label\n",
    "print(df.loc['Bob'])\n",
    "\n",
    "# Access multiple rows\n",
    "print(df.loc[['Bob', 'Charlie']])"
   ]
  },
  {
   "cell_type": "markdown",
   "id": "fe71ee45",
   "metadata": {},
   "source": [
    "\n",
    "---"
   ]
  },
  {
   "cell_type": "markdown",
   "id": "64d08fa7",
   "metadata": {},
   "source": [
    "## Step 10: Conditional Selection"
   ]
  },
  {
   "cell_type": "markdown",
   "id": "f0f37802",
   "metadata": {},
   "source": [
    "# Filter rows where Age > 25\n",
    "print(df[df['Age'] > 25])\n",
    "\n",
    "# Multiple conditions\n",
    "print(df[(df['Age'] > 25) & (df['City'] == 'Houston')])"
   ]
  },
  {
   "cell_type": "markdown",
   "id": "029b3352",
   "metadata": {},
   "source": [
    "\n",
    "---\n"
   ]
  },
  {
   "cell_type": "markdown",
   "id": "f0310f0c",
   "metadata": {},
   "source": [
    "## Step 11: Renaming Columns and Index"
   ]
  },
  {
   "cell_type": "markdown",
   "id": "65333a8a",
   "metadata": {},
   "source": [
    "# Rename columns\n",
    "df = df.rename(columns={\"Age\": \"Years\"})\n",
    "print(df)\n",
    "\n",
    "# Rename index\n",
    "df = df.rename(index={\"Bob\": \"Bobby\"})\n",
    "print(df)"
   ]
  },
  {
   "cell_type": "markdown",
   "id": "a5ab040d",
   "metadata": {},
   "source": [
    "\n",
    "---"
   ]
  },
  {
   "cell_type": "markdown",
   "id": "2bb88b39",
   "metadata": {},
   "source": [
    "## Step 12: Sorting Data"
   ]
  },
  {
   "cell_type": "markdown",
   "id": "d99b8fcd",
   "metadata": {},
   "source": [
    "# Sort by column\n",
    "df_sorted = df.sort_values(by='Years', ascending=False)\n",
    "print(df_sorted)\n",
    "\n",
    "# Sort by index\n",
    "df_sorted_index = df.sort_index()\n",
    "print(df_sorted_index)"
   ]
  },
  {
   "cell_type": "markdown",
   "id": "928649c7",
   "metadata": {},
   "source": [
    "\n",
    "---"
   ]
  },
  {
   "cell_type": "markdown",
   "id": "f04978c4",
   "metadata": {},
   "source": [
    "## Step 13: Handling Missing Data"
   ]
  },
  {
   "cell_type": "markdown",
   "id": "6c26fbea",
   "metadata": {},
   "source": [
    "# Introduce missing values\n",
    "df.loc['Charlie', 'City'] = None\n",
    "print(df)\n",
    "\n",
    "# Detect missing values\n",
    "print(df.isnull())\n",
    "\n",
    "# Fill missing values\n",
    "df['City'] = df['City'].fillna(\"Unknown\")\n",
    "print(df)\n",
    "\n",
    "# Drop rows with missing values\n",
    "df_clean = df.dropna()\n",
    "print(df_clean)\n"
   ]
  },
  {
   "cell_type": "markdown",
   "id": "2f9ae7e1",
   "metadata": {},
   "source": [
    "\n",
    "---\n"
   ]
  },
  {
   "cell_type": "markdown",
   "id": "179813f9",
   "metadata": {},
   "source": [
    "## Step 14: Real-World Example"
   ]
  },
  {
   "cell_type": "markdown",
   "id": "b58f6c30",
   "metadata": {},
   "source": [
    "# Suppose we have employee data\n",
    "employees = {\n",
    "    \"EmployeeID\": [101, 102, 103, 104],\n",
    "    \"Name\": [\"Alice\", \"Bob\", \"Charlie\", \"David\"],\n",
    "    \"Department\": [\"HR\", \"IT\", \"Finance\", \"IT\"],\n",
    "    \"Salary\": [50000, 60000, 55000, 65000]\n",
    "}\n",
    "\n",
    "df_emp = pd.DataFrame(employees)\n",
    "\n",
    "# View first few rows\n",
    "print(df_emp.head())\n",
    "\n",
    "# Employees in IT department\n",
    "print(df_emp[df_emp['Department'] == 'IT'])\n",
    "\n",
    "# Average salary\n",
    "print(\"Average Salary:\", df_emp['Salary'].mean())"
   ]
  },
  {
   "cell_type": "markdown",
   "id": "1286d2a8",
   "metadata": {},
   "source": [
    "\n",
    "---"
   ]
  },
  {
   "cell_type": "markdown",
   "id": "c05e764a",
   "metadata": {},
   "source": [
    "\n",
    "## ✅ Summary\n",
    "\n",
    "* A **DataFrame** is a 2D labeled data structure with rows and columns.\n",
    "* Can be created from **lists, dictionaries, NumPy arrays, or other DataFrames**.\n",
    "* Supports **indexing, selection, adding/removing rows/columns, conditional filtering**.\n",
    "* Essential methods: `.head()`, `.tail()`, `.info()`, `.describe()`, `.isnull()`, `.fillna()`, `.drop()`.\n",
    "* Indexing and conditional selection are the backbone of **data manipulation in Pandas**.\n",
    "\n",
    "---"
   ]
  }
 ],
 "metadata": {
  "language_info": {
   "name": "python"
  }
 },
 "nbformat": 4,
 "nbformat_minor": 5
}
