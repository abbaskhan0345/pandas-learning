{
 "cells": [
  {
   "cell_type": "markdown",
   "id": "72e6fb81",
   "metadata": {},
   "source": [
    "### 📓 `02-series.ipynb`\n",
    "\n",
    "# Pandas Series\n",
    "\n",
    "A **Series** is a one-dimensional labeled array capable of holding any data type (integers, strings, floats, Python objects, etc.).  \n",
    "It is like a column in a spreadsheet or a one-dimensional NumPy array with labels (called **index**).\n",
    "\n",
    "---\n"
   ]
  },
  {
   "cell_type": "markdown",
   "id": "b2f4a2d8",
   "metadata": {},
   "source": [
    "## Step 1: Import Libraries"
   ]
  },
  {
   "cell_type": "code",
   "execution_count": 1,
   "id": "e07a4632",
   "metadata": {},
   "outputs": [],
   "source": [
    "import pandas as pd\n",
    "import numpy as np"
   ]
  },
  {
   "cell_type": "markdown",
   "id": "aa2a7cf0",
   "metadata": {},
   "source": [
    "\n",
    "---\n"
   ]
  },
  {
   "cell_type": "markdown",
   "id": "fb6bfa2d",
   "metadata": {},
   "source": [
    "## Step 2: Creating a Series\n",
    "\n",
    "There are multiple ways to create a Series:\n",
    "\n",
    "### From a Python list"
   ]
  },
  {
   "cell_type": "code",
   "execution_count": 2,
   "id": "f480c4e8",
   "metadata": {},
   "outputs": [
    {
     "name": "stdout",
     "output_type": "stream",
     "text": [
      "0    10\n",
      "1    20\n",
      "2    30\n",
      "3    40\n",
      "dtype: int64\n"
     ]
    }
   ],
   "source": [
    "data = [10, 20, 30, 40]\n",
    "s1 = pd.Series(data)\n",
    "print(s1)"
   ]
  },
  {
   "cell_type": "markdown",
   "id": "cbbf9f83",
   "metadata": {},
   "source": [
    "### From a NumPy array\n"
   ]
  },
  {
   "cell_type": "code",
   "execution_count": 3,
   "id": "1f31122c",
   "metadata": {},
   "outputs": [
    {
     "name": "stdout",
     "output_type": "stream",
     "text": [
      "0    1\n",
      "1    2\n",
      "2    3\n",
      "3    4\n",
      "4    5\n",
      "dtype: int64\n"
     ]
    }
   ],
   "source": [
    "arr = np.array([1, 2, 3, 4, 5])\n",
    "s2 = pd.Series(arr)\n",
    "print(s2)"
   ]
  },
  {
   "cell_type": "markdown",
   "id": "23d22f0a",
   "metadata": {},
   "source": [
    "### From a dictionary (keys become index)"
   ]
  },
  {
   "cell_type": "code",
   "execution_count": 4,
   "id": "fcf46403",
   "metadata": {},
   "outputs": [
    {
     "name": "stdout",
     "output_type": "stream",
     "text": [
      "a    100\n",
      "b    200\n",
      "c    300\n",
      "dtype: int64\n"
     ]
    }
   ],
   "source": [
    "data_dict = {\"a\": 100, \"b\": 200, \"c\": 300}\n",
    "s3 = pd.Series(data_dict)\n",
    "print(s3)"
   ]
  },
  {
   "cell_type": "markdown",
   "id": "26727e52",
   "metadata": {},
   "source": [
    "\n",
    "---\n"
   ]
  },
  {
   "cell_type": "markdown",
   "id": "8085201a",
   "metadata": {},
   "source": [
    "## Step 3: Custom Index"
   ]
  },
  {
   "cell_type": "code",
   "execution_count": 5,
   "id": "d67d03e2",
   "metadata": {},
   "outputs": [
    {
     "name": "stdout",
     "output_type": "stream",
     "text": [
      "x    7\n",
      "y    8\n",
      "z    9\n",
      "dtype: int64\n"
     ]
    }
   ],
   "source": [
    "data = [7, 8, 9]\n",
    "s = pd.Series(data, index=[\"x\", \"y\", \"z\"])\n",
    "print(s)"
   ]
  },
  {
   "cell_type": "markdown",
   "id": "0f331275",
   "metadata": {},
   "source": [
    "\n",
    "---\n"
   ]
  },
  {
   "cell_type": "markdown",
   "id": "bd990e24",
   "metadata": {},
   "source": [
    "## Step 4: Accessing Elements"
   ]
  },
  {
   "cell_type": "code",
   "execution_count": 6,
   "id": "0495b2fb",
   "metadata": {},
   "outputs": [
    {
     "name": "stdout",
     "output_type": "stream",
     "text": [
      "10\n",
      "20\n",
      "b    20\n",
      "c    30\n",
      "dtype: int64\n"
     ]
    },
    {
     "name": "stderr",
     "output_type": "stream",
     "text": [
      "C:\\Users\\hakha\\AppData\\Local\\Temp\\ipykernel_10816\\3404144353.py:3: FutureWarning: Series.__getitem__ treating keys as positions is deprecated. In a future version, integer keys will always be treated as labels (consistent with DataFrame behavior). To access a value by position, use `ser.iloc[pos]`\n",
      "  print(s[1])     # by position\n"
     ]
    }
   ],
   "source": [
    "s = pd.Series([10, 20, 30, 40], index=[\"a\", \"b\", \"c\", \"d\"])\n",
    "print(s[\"a\"])   # by label\n",
    "print(s[1])     # by position\n",
    "print(s[1:3])   # slicing"
   ]
  },
  {
   "cell_type": "markdown",
   "id": "f556b45c",
   "metadata": {},
   "source": [
    "\n",
    "---"
   ]
  },
  {
   "cell_type": "markdown",
   "id": "dd8ab879",
   "metadata": {},
   "source": [
    "\n",
    "## Step 5: Vectorized Operations\n",
    "\n",
    "Series are built on top of NumPy arrays → supports vectorized operations."
   ]
  },
  {
   "cell_type": "code",
   "execution_count": 7,
   "id": "d8e855c4",
   "metadata": {},
   "outputs": [
    {
     "name": "stdout",
     "output_type": "stream",
     "text": [
      "0    11\n",
      "1    12\n",
      "2    13\n",
      "3    14\n",
      "dtype: int64\n",
      "0    2\n",
      "1    4\n",
      "2    6\n",
      "3    8\n",
      "dtype: int64\n",
      "0     1\n",
      "1     4\n",
      "2     9\n",
      "3    16\n",
      "dtype: int64\n",
      "0    1.000000\n",
      "1    1.414214\n",
      "2    1.732051\n",
      "3    2.000000\n",
      "dtype: float64\n"
     ]
    }
   ],
   "source": [
    "s = pd.Series([1, 2, 3, 4])\n",
    "print(s + 10)        # Add scalar\n",
    "print(s * 2)         # Multiply\n",
    "print(s ** 2)        # Power\n",
    "print(np.sqrt(s))    # NumPy functions work directly"
   ]
  },
  {
   "cell_type": "markdown",
   "id": "c9a8a8b9",
   "metadata": {},
   "source": [
    "\n",
    "---"
   ]
  },
  {
   "cell_type": "markdown",
   "id": "650fdbf8",
   "metadata": {},
   "source": [
    "## Step 6: Useful Attributes & Methods"
   ]
  },
  {
   "cell_type": "code",
   "execution_count": 8,
   "id": "233f0c6b",
   "metadata": {},
   "outputs": [
    {
     "name": "stdout",
     "output_type": "stream",
     "text": [
      "Values: [ 1.  2.  3.  4.  5. nan]\n",
      "Index: RangeIndex(start=0, stop=6, step=1)\n",
      "Head:\n",
      " 0    1.0\n",
      "1    2.0\n",
      "2    3.0\n",
      "dtype: float64\n",
      "Tail:\n",
      " 4    5.0\n",
      "5    NaN\n",
      "dtype: float64\n",
      "Describe:\n",
      " count    5.000000\n",
      "mean     3.000000\n",
      "std      1.581139\n",
      "min      1.000000\n",
      "25%      2.000000\n",
      "50%      3.000000\n",
      "75%      4.000000\n",
      "max      5.000000\n",
      "dtype: float64\n",
      "Is Null:\n",
      " 0    False\n",
      "1    False\n",
      "2    False\n",
      "3    False\n",
      "4    False\n",
      "5     True\n",
      "dtype: bool\n",
      "Not Null:\n",
      " 0     True\n",
      "1     True\n",
      "2     True\n",
      "3     True\n",
      "4     True\n",
      "5    False\n",
      "dtype: bool\n"
     ]
    }
   ],
   "source": [
    "s = pd.Series([1, 2, 3, 4, 5, np.nan])\n",
    "\n",
    "print(\"Values:\", s.values)\n",
    "print(\"Index:\", s.index)\n",
    "print(\"Head:\\n\", s.head(3))\n",
    "print(\"Tail:\\n\", s.tail(2))\n",
    "print(\"Describe:\\n\", s.describe())\n",
    "print(\"Is Null:\\n\", s.isnull())\n",
    "print(\"Not Null:\\n\", s.notnull())"
   ]
  },
  {
   "cell_type": "markdown",
   "id": "86ad90d6",
   "metadata": {},
   "source": [
    "\n",
    "---\n"
   ]
  },
  {
   "cell_type": "markdown",
   "id": "fd83a860",
   "metadata": {},
   "source": [
    "## Step 7: Series Alignment\n",
    "\n",
    "Series automatically align based on **index**."
   ]
  },
  {
   "cell_type": "code",
   "execution_count": 9,
   "id": "57587e25",
   "metadata": {},
   "outputs": [
    {
     "name": "stdout",
     "output_type": "stream",
     "text": [
      "s1 + s2:\n",
      " a    NaN\n",
      "b    6.0\n",
      "c    8.0\n",
      "d    NaN\n",
      "dtype: float64\n"
     ]
    }
   ],
   "source": [
    "s1 = pd.Series([1, 2, 3], index=[\"a\", \"b\", \"c\"])\n",
    "s2 = pd.Series([4, 5, 6], index=[\"b\", \"c\", \"d\"])\n",
    "\n",
    "print(\"s1 + s2:\\n\", s1 + s2)"
   ]
  },
  {
   "cell_type": "markdown",
   "id": "a9353aa9",
   "metadata": {},
   "source": [
    "Notice that \"a\" and \"d\" are **NaN** because they don’t exist in both Series.\n",
    "\n",
    "---"
   ]
  },
  {
   "cell_type": "markdown",
   "id": "564b3781",
   "metadata": {},
   "source": [
    "## Step 8: Name Attribute"
   ]
  },
  {
   "cell_type": "code",
   "execution_count": 10,
   "id": "f8e503f3",
   "metadata": {},
   "outputs": [
    {
     "name": "stdout",
     "output_type": "stream",
     "text": [
      "x    100\n",
      "y    200\n",
      "z    300\n",
      "Name: MySeries, dtype: int64\n",
      "Name: MySeries\n"
     ]
    }
   ],
   "source": [
    "s = pd.Series([100, 200, 300], index=[\"x\", \"y\", \"z\"], name=\"MySeries\")\n",
    "print(s)\n",
    "print(\"Name:\", s.name)"
   ]
  },
  {
   "cell_type": "markdown",
   "id": "0963cdf9",
   "metadata": {},
   "source": [
    "\n",
    "---"
   ]
  },
  {
   "cell_type": "markdown",
   "id": "bf25b029",
   "metadata": {},
   "source": [
    "## Step 9: Converting Between Series and Other Data Types\n"
   ]
  },
  {
   "cell_type": "code",
   "execution_count": 11,
   "id": "37506d14",
   "metadata": {},
   "outputs": [
    {
     "name": "stdout",
     "output_type": "stream",
     "text": [
      "{'x': 100, 'y': 200, 'z': 300}\n",
      "a    10\n",
      "b    20\n",
      "dtype: int64\n",
      "[100, 200, 300]\n"
     ]
    }
   ],
   "source": [
    "# Series to dictionary\n",
    "print(s.to_dict())\n",
    "\n",
    "# Dictionary to Series\n",
    "s_new = pd.Series({\"a\": 10, \"b\": 20})\n",
    "print(s_new)\n",
    "\n",
    "# Series to list\n",
    "print(s.tolist())"
   ]
  },
  {
   "cell_type": "markdown",
   "id": "73154e7a",
   "metadata": {},
   "source": [
    "\n",
    "---"
   ]
  },
  {
   "cell_type": "markdown",
   "id": "cb50890d",
   "metadata": {},
   "source": [
    "## Step 10: Real-World Example"
   ]
  },
  {
   "cell_type": "code",
   "execution_count": 12,
   "id": "bbf33e4d",
   "metadata": {},
   "outputs": [
    {
     "name": "stdout",
     "output_type": "stream",
     "text": [
      "Alice      85\n",
      "Bob        90\n",
      "Charlie    78\n",
      "David      92\n",
      "Name: Exam Scores, dtype: int64\n",
      "Bob’s Score: 90\n",
      "Mean Score: 86.25\n",
      "Max Score: 92\n"
     ]
    }
   ],
   "source": [
    "students = [\"Alice\", \"Bob\", \"Charlie\", \"David\"]\n",
    "scores = [85, 90, 78, 92]\n",
    "\n",
    "grades = pd.Series(scores, index=students, name=\"Exam Scores\")\n",
    "print(grades)\n",
    "\n",
    "# Access by student name\n",
    "print(\"Bob’s Score:\", grades[\"Bob\"])\n",
    "\n",
    "# Statistics\n",
    "print(\"Mean Score:\", grades.mean())\n",
    "print(\"Max Score:\", grades.max())"
   ]
  },
  {
   "cell_type": "markdown",
   "id": "905bf0a3",
   "metadata": {},
   "source": [
    "\n",
    "---"
   ]
  },
  {
   "cell_type": "markdown",
   "id": "cdf7b70e",
   "metadata": {},
   "source": [
    "# ✅ Summary\n",
    "\n",
    "* A **Series** is a one-dimensional labeled array.\n",
    "* Can be created from lists, arrays, dictionaries, or scalars.\n",
    "* Supports **indexing**, **slicing**, and **vectorized operations**.\n",
    "* Useful methods: `.head()`, `.tail()`, `.describe()`, `.isnull()`.\n",
    "* Series automatically **align** during operations based on index.\n",
    "\n",
    "---\n"
   ]
  }
 ],
 "metadata": {
  "kernelspec": {
   "display_name": "Python 3",
   "language": "python",
   "name": "python3"
  },
  "language_info": {
   "codemirror_mode": {
    "name": "ipython",
    "version": 3
   },
   "file_extension": ".py",
   "mimetype": "text/x-python",
   "name": "python",
   "nbconvert_exporter": "python",
   "pygments_lexer": "ipython3",
   "version": "3.10.11"
  }
 },
 "nbformat": 4,
 "nbformat_minor": 5
}
