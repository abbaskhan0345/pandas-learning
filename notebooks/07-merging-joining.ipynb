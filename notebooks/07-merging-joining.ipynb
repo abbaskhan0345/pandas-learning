{
 "cells": [
  {
   "cell_type": "markdown",
   "id": "304d1d60",
   "metadata": {},
   "source": [
    "# Pandas Merging and Joining\n",
    "**`07-merging-joining.ipynb`**\n",
    "\n",
    "In this notebook, we learn how to **combine datasets** using Pandas.  \n",
    "We will cover **merging, joining, concatenation, and combining data** with examples.\n",
    "\n",
    "---"
   ]
  },
  {
   "cell_type": "markdown",
   "id": "25fc817e",
   "metadata": {},
   "source": [
    "\n",
    "## Step 1: Import Libraries"
   ]
  },
  {
   "cell_type": "code",
   "execution_count": 1,
   "id": "edc39817",
   "metadata": {},
   "outputs": [],
   "source": [
    "import pandas as pd\n",
    "import numpy as np\n"
   ]
  },
  {
   "cell_type": "markdown",
   "id": "0ea7bf13",
   "metadata": {},
   "source": [
    "---"
   ]
  },
  {
   "cell_type": "markdown",
   "id": "9354c5b5",
   "metadata": {},
   "source": [
    "## Step 2: Create Sample DataFrames"
   ]
  },
  {
   "cell_type": "code",
   "execution_count": 2,
   "id": "3848b7bc",
   "metadata": {},
   "outputs": [
    {
     "name": "stdout",
     "output_type": "stream",
     "text": [
      "Employee DataFrame:\n",
      "    EmployeeID     Name Department\n",
      "0         101    Alice         HR\n",
      "1         102      Bob         IT\n",
      "2         103  Charlie    Finance\n",
      "3         104    David         IT\n",
      "\n",
      "Salary DataFrame:\n",
      "    EmployeeID  Salary\n",
      "0         101   50000\n",
      "1         102   60000\n",
      "2         103   55000\n",
      "3         105   65000\n"
     ]
    }
   ],
   "source": [
    "# Employee Data\n",
    "df1 = pd.DataFrame({\n",
    "    \"EmployeeID\": [101, 102, 103, 104],\n",
    "    \"Name\": [\"Alice\", \"Bob\", \"Charlie\", \"David\"],\n",
    "    \"Department\": [\"HR\", \"IT\", \"Finance\", \"IT\"]\n",
    "})\n",
    "\n",
    "# Salary Data\n",
    "df2 = pd.DataFrame({\n",
    "    \"EmployeeID\": [101, 102, 103, 105],\n",
    "    \"Salary\": [50000, 60000, 55000, 65000]\n",
    "})\n",
    "\n",
    "print(\"Employee DataFrame:\\n\", df1)\n",
    "print(\"\\nSalary DataFrame:\\n\", df2)\n"
   ]
  },
  {
   "cell_type": "markdown",
   "id": "d593e49f",
   "metadata": {},
   "source": [
    "---"
   ]
  },
  {
   "cell_type": "markdown",
   "id": "40b0853a",
   "metadata": {},
   "source": [
    "## Step 3: Merge DataFrames\n",
    "\n",
    "### Merge on a Key"
   ]
  },
  {
   "cell_type": "code",
   "execution_count": 3,
   "id": "e1346d38",
   "metadata": {},
   "outputs": [
    {
     "name": "stdout",
     "output_type": "stream",
     "text": [
      "   EmployeeID     Name Department  Salary\n",
      "0         101    Alice         HR   50000\n",
      "1         102      Bob         IT   60000\n",
      "2         103  Charlie    Finance   55000\n"
     ]
    }
   ],
   "source": [
    "merged_df = pd.merge(df1, df2, on='EmployeeID')\n",
    "print(merged_df)\n"
   ]
  },
  {
   "cell_type": "markdown",
   "id": "4b792653",
   "metadata": {},
   "source": [
    "### Merge with Different Types of Joins\n"
   ]
  },
  {
   "cell_type": "code",
   "execution_count": 4,
   "id": "508221ea",
   "metadata": {},
   "outputs": [
    {
     "name": "stdout",
     "output_type": "stream",
     "text": [
      "Left Join:\n",
      "    EmployeeID     Name Department   Salary\n",
      "0         101    Alice         HR  50000.0\n",
      "1         102      Bob         IT  60000.0\n",
      "2         103  Charlie    Finance  55000.0\n",
      "3         104    David         IT      NaN\n",
      "Right Join:\n",
      "    EmployeeID     Name Department  Salary\n",
      "0         101    Alice         HR   50000\n",
      "1         102      Bob         IT   60000\n",
      "2         103  Charlie    Finance   55000\n",
      "3         105      NaN        NaN   65000\n",
      "Outer Join:\n",
      "    EmployeeID     Name Department   Salary\n",
      "0         101    Alice         HR  50000.0\n",
      "1         102      Bob         IT  60000.0\n",
      "2         103  Charlie    Finance  55000.0\n",
      "3         104    David         IT      NaN\n",
      "4         105      NaN        NaN  65000.0\n",
      "Inner Join:\n",
      "    EmployeeID     Name Department  Salary\n",
      "0         101    Alice         HR   50000\n",
      "1         102      Bob         IT   60000\n",
      "2         103  Charlie    Finance   55000\n"
     ]
    }
   ],
   "source": [
    "# Left Join\n",
    "left_join = pd.merge(df1, df2, on='EmployeeID', how='left')\n",
    "print(\"Left Join:\\n\", left_join)\n",
    "\n",
    "# Right Join\n",
    "right_join = pd.merge(df1, df2, on='EmployeeID', how='right')\n",
    "print(\"Right Join:\\n\", right_join)\n",
    "\n",
    "# Outer Join\n",
    "outer_join = pd.merge(df1, df2, on='EmployeeID', how='outer')\n",
    "print(\"Outer Join:\\n\", outer_join)\n",
    "\n",
    "# Inner Join (default)\n",
    "inner_join = pd.merge(df1, df2, on='EmployeeID', how='inner')\n",
    "print(\"Inner Join:\\n\", inner_join)\n"
   ]
  },
  {
   "cell_type": "markdown",
   "id": "761462c1",
   "metadata": {},
   "source": [
    "---\n"
   ]
  },
  {
   "cell_type": "markdown",
   "id": "d0a8d58c",
   "metadata": {},
   "source": [
    "## Step 4: Merge on Multiple Keys"
   ]
  },
  {
   "cell_type": "code",
   "execution_count": 5,
   "id": "893b25d2",
   "metadata": {},
   "outputs": [
    {
     "name": "stdout",
     "output_type": "stream",
     "text": [
      "   EmployeeID     Name Department  Bonus\n",
      "0         101    Alice         HR   1000\n",
      "1         102      Bob         IT   1500\n",
      "2         103  Charlie    Finance   1200\n",
      "3         104    David         IT   1300\n"
     ]
    }
   ],
   "source": [
    "df3 = pd.DataFrame({\n",
    "    \"EmployeeID\": [101, 102, 103, 104],\n",
    "    \"Department\": [\"HR\", \"IT\", \"Finance\", \"IT\"],\n",
    "    \"Bonus\": [1000, 1500, 1200, 1300]\n",
    "})\n",
    "\n",
    "# Merge on EmployeeID and Department\n",
    "multi_key_merge = pd.merge(df1, df3, on=['EmployeeID','Department'], how='left')\n",
    "print(multi_key_merge)"
   ]
  },
  {
   "cell_type": "markdown",
   "id": "bf03a0dc",
   "metadata": {},
   "source": [
    "\n",
    "---\n"
   ]
  },
  {
   "cell_type": "markdown",
   "id": "31f958a0",
   "metadata": {},
   "source": [
    "## Step 5: Concatenation"
   ]
  },
  {
   "cell_type": "code",
   "execution_count": 6,
   "id": "b4bdcfd2",
   "metadata": {},
   "outputs": [
    {
     "name": "stdout",
     "output_type": "stream",
     "text": [
      "      Name  Age\n",
      "0    Alice   25\n",
      "1      Bob   30\n",
      "0  Charlie   28\n",
      "1    David   35\n",
      "    Name  Age  Salary\n",
      "0  Alice   25   50000\n",
      "1    Bob   30   60000\n"
     ]
    }
   ],
   "source": [
    "# Create two DataFrames with same columns\n",
    "df_a = pd.DataFrame({\n",
    "    \"Name\": [\"Alice\", \"Bob\"],\n",
    "    \"Age\": [25, 30]\n",
    "})\n",
    "\n",
    "df_b = pd.DataFrame({\n",
    "    \"Name\": [\"Charlie\", \"David\"],\n",
    "    \"Age\": [28, 35]\n",
    "})\n",
    "\n",
    "# Concatenate vertically (stack rows)\n",
    "concat_df = pd.concat([df_a, df_b])\n",
    "print(concat_df)\n",
    "\n",
    "# Concatenate horizontally (add columns)\n",
    "df_c = pd.DataFrame({\n",
    "    \"Salary\": [50000, 60000]\n",
    "})\n",
    "\n",
    "concat_horizontal = pd.concat([df_a, df_c], axis=1)\n",
    "print(concat_horizontal)"
   ]
  },
  {
   "cell_type": "markdown",
   "id": "3b5223bf",
   "metadata": {},
   "source": [
    "\n",
    "---"
   ]
  },
  {
   "cell_type": "markdown",
   "id": "79be35ff",
   "metadata": {},
   "source": [
    "## Step 6: Join DataFrames Using Index"
   ]
  },
  {
   "cell_type": "code",
   "execution_count": 7,
   "id": "0191241b",
   "metadata": {},
   "outputs": [
    {
     "name": "stdout",
     "output_type": "stream",
     "text": [
      "      Name   Age   Salary\n",
      "1    Alice  25.0  50000.0\n",
      "2      Bob  30.0  60000.0\n",
      "3  Charlie  28.0      NaN\n",
      "4      NaN   NaN  55000.0\n"
     ]
    }
   ],
   "source": [
    "df_left = pd.DataFrame({\n",
    "    \"Name\": [\"Alice\", \"Bob\", \"Charlie\"],\n",
    "    \"Age\": [25, 30, 28]\n",
    "}, index=[1,2,3])\n",
    "\n",
    "df_right = pd.DataFrame({\n",
    "    \"Salary\": [50000, 60000, 55000]\n",
    "}, index=[1,2,4])\n",
    "\n",
    "# Join using index\n",
    "joined_df = df_left.join(df_right, how='outer')\n",
    "print(joined_df)\n"
   ]
  },
  {
   "cell_type": "markdown",
   "id": "8501e155",
   "metadata": {},
   "source": [
    "---\n",
    "\n",
    "## Step 7: Handling Conflicting Column Names"
   ]
  },
  {
   "cell_type": "code",
   "execution_count": 8,
   "id": "62137add",
   "metadata": {},
   "outputs": [
    {
     "name": "stdout",
     "output_type": "stream",
     "text": [
      "   EmployeeID Name_Left Name_Right  Salary\n",
      "0         101     Alice   A. Smith   50000\n",
      "1         102       Bob   B. Jones   60000\n",
      "2         103   Charlie   C. Brown   55000\n"
     ]
    }
   ],
   "source": [
    "df1 = pd.DataFrame({\n",
    "    \"EmployeeID\": [101, 102, 103],\n",
    "    \"Name\": [\"Alice\", \"Bob\", \"Charlie\"]\n",
    "})\n",
    "\n",
    "df2 = pd.DataFrame({\n",
    "    \"EmployeeID\": [101, 102, 103],\n",
    "    \"Name\": [\"A. Smith\", \"B. Jones\", \"C. Brown\"],\n",
    "    \"Salary\": [50000, 60000, 55000]\n",
    "})\n",
    "\n",
    "merged_df = pd.merge(df1, df2, on='EmployeeID', suffixes=('_Left', '_Right'))\n",
    "print(merged_df)\n"
   ]
  },
  {
   "cell_type": "markdown",
   "id": "696e2e75",
   "metadata": {},
   "source": [
    "---\n",
    "\n",
    "## Step 8: Real-World Example"
   ]
  },
  {
   "cell_type": "code",
   "execution_count": 9,
   "id": "5d062577",
   "metadata": {},
   "outputs": [
    {
     "name": "stdout",
     "output_type": "stream",
     "text": [
      "   OrderID  CustomerID  Amount     Name     City\n",
      "0        1         101     250    Alice       NY\n",
      "1        2         102     150      Bob       LA\n",
      "2        3         101     300    Alice       NY\n",
      "3        4         103     200  Charlie  Chicago\n"
     ]
    }
   ],
   "source": [
    "# Customer Orders\n",
    "orders = pd.DataFrame({\n",
    "    \"OrderID\": [1,2,3,4],\n",
    "    \"CustomerID\": [101,102,101,103],\n",
    "    \"Amount\": [250, 150, 300, 200]\n",
    "})\n",
    "\n",
    "# Customer Info\n",
    "customers = pd.DataFrame({\n",
    "    \"CustomerID\": [101,102,103],\n",
    "    \"Name\": [\"Alice\", \"Bob\", \"Charlie\"],\n",
    "    \"City\": [\"NY\", \"LA\", \"Chicago\"]\n",
    "})\n",
    "\n",
    "# Merge orders with customer info\n",
    "orders_with_customers = pd.merge(orders, customers, on='CustomerID', how='left')\n",
    "print(orders_with_customers)\n"
   ]
  },
  {
   "cell_type": "markdown",
   "id": "357106dc",
   "metadata": {},
   "source": [
    "---\n",
    "\n",
    "## ✅ Summary\n",
    "\n",
    "* **`merge()`**: Combines DataFrames based on one or more keys.\n",
    "* Join types: **left, right, inner, outer**.\n",
    "* **`concat()`**: Concatenate DataFrames vertically or horizontally.\n",
    "* **`join()`**: Join DataFrames using their index.\n",
    "* Use **suffixes** to handle overlapping column names.\n",
    "* Essential for **combining multiple datasets** for analysis.\n",
    "\n",
    "---\n"
   ]
  }
 ],
 "metadata": {
  "kernelspec": {
   "display_name": "Python 3",
   "language": "python",
   "name": "python3"
  },
  "language_info": {
   "codemirror_mode": {
    "name": "ipython",
    "version": 3
   },
   "file_extension": ".py",
   "mimetype": "text/x-python",
   "name": "python",
   "nbconvert_exporter": "python",
   "pygments_lexer": "ipython3",
   "version": "3.10.11"
  }
 },
 "nbformat": 4,
 "nbformat_minor": 5
}
