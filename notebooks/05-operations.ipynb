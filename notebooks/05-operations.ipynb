{
 "cells": [
  {
   "cell_type": "markdown",
   "id": "6991e400",
   "metadata": {},
   "source": [
    "# Pandas Operations\n",
    "**`05-operations.ipynb`**\n",
    "\n",
    "In this notebook, we learn how to perform **basic operations** on Pandas Series and DataFrames.  \n",
    "Operations include **arithmetic**, **aggregations**, **element-wise operations**, and working with **rows and columns**.\n",
    "\n",
    "---"
   ]
  },
  {
   "cell_type": "markdown",
   "id": "6ff4d07d",
   "metadata": {},
   "source": [
    "## Step 1: Import Libraries"
   ]
  },
  {
   "cell_type": "code",
   "execution_count": 1,
   "id": "35b7996b",
   "metadata": {},
   "outputs": [],
   "source": [
    "import pandas as pd\n",
    "import numpy as np\n"
   ]
  },
  {
   "cell_type": "markdown",
   "id": "f8f858dd",
   "metadata": {},
   "source": [
    "\n",
    "---"
   ]
  },
  {
   "cell_type": "markdown",
   "id": "1b2cd31d",
   "metadata": {},
   "source": [
    "## Step 2: Creating a Sample DataFrame"
   ]
  },
  {
   "cell_type": "code",
   "execution_count": 2,
   "id": "3ff8d7ef",
   "metadata": {},
   "outputs": [
    {
     "name": "stdout",
     "output_type": "stream",
     "text": [
      "      Name  Math  Physics  Chemistry\n",
      "0    Alice    85       80         82\n",
      "1      Bob    90       95         88\n",
      "2  Charlie    78       75         79\n",
      "3    David    92       88         85\n"
     ]
    }
   ],
   "source": [
    "data = {\n",
    "    \"Name\": [\"Alice\", \"Bob\", \"Charlie\", \"David\"],\n",
    "    \"Math\": [85, 90, 78, 92],\n",
    "    \"Physics\": [80, 95, 75, 88],\n",
    "    \"Chemistry\": [82, 88, 79, 85]\n",
    "}\n",
    "\n",
    "df = pd.DataFrame(data)\n",
    "print(df)"
   ]
  },
  {
   "cell_type": "markdown",
   "id": "1e6713cb",
   "metadata": {},
   "source": [
    "\n",
    "---"
   ]
  },
  {
   "cell_type": "markdown",
   "id": "f3d5396d",
   "metadata": {},
   "source": [
    "## Step 3: Operations on Columns\n",
    "\n",
    "### Arithmetic Operations"
   ]
  },
  {
   "cell_type": "code",
   "execution_count": 3,
   "id": "195f92ec",
   "metadata": {},
   "outputs": [
    {
     "name": "stdout",
     "output_type": "stream",
     "text": [
      "      Name  Math  Physics  Chemistry  Math_plus_5\n",
      "0    Alice    85       80         82           90\n",
      "1      Bob    90       95         88           95\n",
      "2  Charlie    78       75         79           83\n",
      "3    David    92       88         85           97\n",
      "      Name  Math  Physics  Chemistry  Math_plus_5    Average\n",
      "0    Alice    85       80         82           90  82.333333\n",
      "1      Bob    90       95         88           95  91.000000\n",
      "2  Charlie    78       75         79           83  77.333333\n",
      "3    David    92       88         85           97  88.333333\n"
     ]
    }
   ],
   "source": [
    "# Add 5 marks to all students in Math\n",
    "df['Math_plus_5'] = df['Math'] + 5\n",
    "print(df)\n",
    "\n",
    "# Average marks across subjects for each student\n",
    "df['Average'] = (df['Math'] + df['Physics'] + df['Chemistry']) / 3\n",
    "print(df)"
   ]
  },
  {
   "cell_type": "markdown",
   "id": "3c0e862e",
   "metadata": {},
   "source": [
    "### Using Vectorized Operations"
   ]
  },
  {
   "cell_type": "code",
   "execution_count": 4,
   "id": "7a590af4",
   "metadata": {},
   "outputs": [
    {
     "name": "stdout",
     "output_type": "stream",
     "text": [
      "      Name   Math  Physics  Chemistry  Math_plus_5    Average\n",
      "0    Alice   93.5     88.0       90.2           90  82.333333\n",
      "1      Bob   99.0    104.5       96.8           95  91.000000\n",
      "2  Charlie   85.8     82.5       86.9           83  77.333333\n",
      "3    David  101.2     96.8       93.5           97  88.333333\n"
     ]
    }
   ],
   "source": [
    "# Multiply marks by 1.1 (10% bonus)\n",
    "df[['Math', 'Physics', 'Chemistry']] = df[['Math', 'Physics', 'Chemistry']] * 1.1\n",
    "print(df)"
   ]
  },
  {
   "cell_type": "markdown",
   "id": "fac6fb13",
   "metadata": {},
   "source": [
    "\n",
    "---"
   ]
  },
  {
   "cell_type": "markdown",
   "id": "c26e1eab",
   "metadata": {},
   "source": [
    "## Step 4: Operations on Series"
   ]
  },
  {
   "cell_type": "code",
   "execution_count": 5,
   "id": "b82af842",
   "metadata": {},
   "outputs": [
    {
     "name": "stdout",
     "output_type": "stream",
     "text": [
      "Original Series:\n",
      " 0    10\n",
      "1    20\n",
      "2    30\n",
      "3    40\n",
      "dtype: int64\n",
      "Add 5:\n",
      " 0    15\n",
      "1    25\n",
      "2    35\n",
      "3    45\n",
      "dtype: int64\n",
      "Multiply by 2:\n",
      " 0    20\n",
      "1    40\n",
      "2    60\n",
      "3    80\n",
      "dtype: int64\n",
      "Square:\n",
      " 0     100\n",
      "1     400\n",
      "2     900\n",
      "3    1600\n",
      "dtype: int64\n",
      "Square root (NumPy):\n",
      " 0    3.162278\n",
      "1    4.472136\n",
      "2    5.477226\n",
      "3    6.324555\n",
      "dtype: float64\n"
     ]
    }
   ],
   "source": [
    "# Create a Series\n",
    "s = pd.Series([10, 20, 30, 40])\n",
    "\n",
    "print(\"Original Series:\\n\", s)\n",
    "print(\"Add 5:\\n\", s + 5)\n",
    "print(\"Multiply by 2:\\n\", s * 2)\n",
    "print(\"Square:\\n\", s ** 2)\n",
    "print(\"Square root (NumPy):\\n\", np.sqrt(s))"
   ]
  },
  {
   "cell_type": "markdown",
   "id": "55fee181",
   "metadata": {},
   "source": [
    "---"
   ]
  },
  {
   "cell_type": "markdown",
   "id": "ba4e21d4",
   "metadata": {},
   "source": [
    "## Step 5: Row-wise and Column-wise Operations"
   ]
  },
  {
   "cell_type": "code",
   "execution_count": 6,
   "id": "627e003b",
   "metadata": {},
   "outputs": [
    {
     "name": "stdout",
     "output_type": "stream",
     "text": [
      "      Name   Math  Physics  Chemistry  Math_plus_5    Average  Total\n",
      "0    Alice   93.5     88.0       90.2           90  82.333333  271.7\n",
      "1      Bob   99.0    104.5       96.8           95  91.000000  300.3\n",
      "2  Charlie   85.8     82.5       86.9           83  77.333333  255.2\n",
      "3    David  101.2     96.8       93.5           97  88.333333  291.5\n",
      "Sum of each column:\n",
      " Math         379.5\n",
      "Physics      371.8\n",
      "Chemistry    367.4\n",
      "dtype: float64\n"
     ]
    }
   ],
   "source": [
    "# Sum across rows\n",
    "df['Total'] = df[['Math', 'Physics', 'Chemistry']].sum(axis=1)\n",
    "print(df)\n",
    "\n",
    "# Sum across columns\n",
    "column_sums = df[['Math', 'Physics', 'Chemistry']].sum(axis=0)\n",
    "print(\"Sum of each column:\\n\", column_sums)\n"
   ]
  },
  {
   "cell_type": "markdown",
   "id": "e87a48e2",
   "metadata": {},
   "source": [
    "\n",
    "---\n"
   ]
  },
  {
   "cell_type": "markdown",
   "id": "e60c7c6c",
   "metadata": {},
   "source": [
    "## Step 6: Applying Functions"
   ]
  },
  {
   "cell_type": "code",
   "execution_count": 7,
   "id": "5b952bcb",
   "metadata": {},
   "outputs": [
    {
     "name": "stdout",
     "output_type": "stream",
     "text": [
      "      Name   Math  Physics  Chemistry  Math_plus_5    Average  Total  \\\n",
      "0    Alice   93.5     88.0       90.2           90  82.333333  271.7   \n",
      "1      Bob   99.0    104.5       96.8           95  91.000000  300.3   \n",
      "2  Charlie   85.8     82.5       86.9           83  77.333333  255.2   \n",
      "3    David  101.2     96.8       93.5           97  88.333333  291.5   \n",
      "\n",
      "  Math_Grade  \n",
      "0          A  \n",
      "1          A  \n",
      "2          B  \n",
      "3          A  \n",
      "      Name   Math  Physics  Chemistry  Math_plus_5    Average  Total  \\\n",
      "0    Alice   93.5     88.0       90.2           90  82.333333  271.7   \n",
      "1      Bob   99.0    104.5       96.8           95  91.000000  300.3   \n",
      "2  Charlie   85.8     82.5       86.9           83  77.333333  255.2   \n",
      "3    David  101.2     96.8       93.5           97  88.333333  291.5   \n",
      "\n",
      "  Math_Grade Physics_Grade  \n",
      "0          A          Pass  \n",
      "1          A          Pass  \n",
      "2          B          Pass  \n",
      "3          A          Pass  \n"
     ]
    }
   ],
   "source": [
    "# Apply a custom function to a column\n",
    "def grade(marks):\n",
    "    if marks >= 90:\n",
    "        return \"A\"\n",
    "    elif marks >= 80:\n",
    "        return \"B\"\n",
    "    elif marks >= 70:\n",
    "        return \"C\"\n",
    "    else:\n",
    "        return \"D\"\n",
    "\n",
    "df['Math_Grade'] = df['Math'].apply(grade)\n",
    "print(df)\n",
    "\n",
    "# Apply lambda function\n",
    "df['Physics_Grade'] = df['Physics'].apply(lambda x: 'Pass' if x >= 80 else 'Fail')\n",
    "print(df)\n"
   ]
  },
  {
   "cell_type": "markdown",
   "id": "2ef152bf",
   "metadata": {},
   "source": [
    "\n",
    "---"
   ]
  },
  {
   "cell_type": "markdown",
   "id": "a2772529",
   "metadata": {},
   "source": [
    "\n",
    "## Step 7: Aggregation Functions"
   ]
  },
  {
   "cell_type": "code",
   "execution_count": 8,
   "id": "98529321",
   "metadata": {},
   "outputs": [
    {
     "name": "stdout",
     "output_type": "stream",
     "text": [
      "Maximum marks:\n",
      " Math         101.2\n",
      "Physics      104.5\n",
      "Chemistry     96.8\n",
      "dtype: float64\n",
      "Minimum marks:\n",
      " Math         85.8\n",
      "Physics      82.5\n",
      "Chemistry    86.9\n",
      "dtype: float64\n",
      "Mean marks:\n",
      " Math         94.875\n",
      "Physics      92.950\n",
      "Chemistry    91.850\n",
      "dtype: float64\n",
      "Row-wise mean:\n",
      " 0     90.566667\n",
      "1    100.100000\n",
      "2     85.066667\n",
      "3     97.166667\n",
      "dtype: float64\n"
     ]
    }
   ],
   "source": [
    "# Max, min, mean for each subject\n",
    "print(\"Maximum marks:\\n\", df[['Math','Physics','Chemistry']].max())\n",
    "print(\"Minimum marks:\\n\", df[['Math','Physics','Chemistry']].min())\n",
    "print(\"Mean marks:\\n\", df[['Math','Physics','Chemistry']].mean())\n",
    "\n",
    "# Row-wise aggregation\n",
    "print(\"Row-wise mean:\\n\", df[['Math','Physics','Chemistry']].mean(axis=1))"
   ]
  },
  {
   "cell_type": "markdown",
   "id": "f522a599",
   "metadata": {},
   "source": [
    "\n",
    "---"
   ]
  },
  {
   "cell_type": "markdown",
   "id": "778b1260",
   "metadata": {},
   "source": [
    "## Step 8: Operations Between Series and DataFrames"
   ]
  },
  {
   "cell_type": "code",
   "execution_count": 9,
   "id": "24fcf8a6",
   "metadata": {},
   "outputs": [
    {
     "data": {
      "text/html": [
       "<div>\n",
       "<style scoped>\n",
       "    .dataframe tbody tr th:only-of-type {\n",
       "        vertical-align: middle;\n",
       "    }\n",
       "\n",
       "    .dataframe tbody tr th {\n",
       "        vertical-align: top;\n",
       "    }\n",
       "\n",
       "    .dataframe thead th {\n",
       "        text-align: right;\n",
       "    }\n",
       "</style>\n",
       "<table border=\"1\" class=\"dataframe\">\n",
       "  <thead>\n",
       "    <tr style=\"text-align: right;\">\n",
       "      <th></th>\n",
       "      <th>Math</th>\n",
       "      <th>Physics</th>\n",
       "      <th>Chemistry</th>\n",
       "    </tr>\n",
       "  </thead>\n",
       "  <tbody>\n",
       "    <tr>\n",
       "      <th>0</th>\n",
       "      <td>98.5</td>\n",
       "      <td>91.0</td>\n",
       "      <td>92.2</td>\n",
       "    </tr>\n",
       "    <tr>\n",
       "      <th>1</th>\n",
       "      <td>104.0</td>\n",
       "      <td>106.5</td>\n",
       "      <td>99.8</td>\n",
       "    </tr>\n",
       "    <tr>\n",
       "      <th>2</th>\n",
       "      <td>90.8</td>\n",
       "      <td>86.5</td>\n",
       "      <td>87.9</td>\n",
       "    </tr>\n",
       "    <tr>\n",
       "      <th>3</th>\n",
       "      <td>106.2</td>\n",
       "      <td>97.8</td>\n",
       "      <td>95.5</td>\n",
       "    </tr>\n",
       "  </tbody>\n",
       "</table>\n",
       "</div>"
      ],
      "text/plain": [
       "    Math  Physics  Chemistry\n",
       "0   98.5     91.0       92.2\n",
       "1  104.0    106.5       99.8\n",
       "2   90.8     86.5       87.9\n",
       "3  106.2     97.8       95.5"
      ]
     },
     "execution_count": 9,
     "metadata": {},
     "output_type": "execute_result"
    }
   ],
   "source": [
    "# Create another DataFrame\n",
    "df_bonus = pd.DataFrame({\n",
    "    \"Math\": [5, 5, 5, 5],\n",
    "    \"Physics\": [3, 2, 4, 1],\n",
    "    \"Chemistry\": [2, 3, 1, 2]\n",
    "})\n",
    "\n",
    "# Add bonus marks\n",
    "df[['Math','Physics','Chemistry']] + df_bonus"
   ]
  },
  {
   "cell_type": "markdown",
   "id": "3fbb4c37",
   "metadata": {},
   "source": [
    "---"
   ]
  },
  {
   "cell_type": "markdown",
   "id": "3245c786",
   "metadata": {},
   "source": [
    "\n",
    "## Step 9: Operations with Alignment"
   ]
  },
  {
   "cell_type": "code",
   "execution_count": 10,
   "id": "2bed58bb",
   "metadata": {},
   "outputs": [
    {
     "name": "stdout",
     "output_type": "stream",
     "text": [
      "a    NaN\n",
      "b    6.0\n",
      "c    8.0\n",
      "d    NaN\n",
      "dtype: float64\n"
     ]
    }
   ],
   "source": [
    "s1 = pd.Series([1, 2, 3], index=['a', 'b', 'c'])\n",
    "s2 = pd.Series([4, 5, 6], index=['b', 'c', 'd'])\n",
    "\n",
    "# Adding aligned by index\n",
    "print(s1 + s2)\n",
    "# Note: index 'a' and 'd' become NaN because they don't exist in both Series\n"
   ]
  },
  {
   "cell_type": "markdown",
   "id": "ecbc399b",
   "metadata": {},
   "source": [
    "\n",
    "---\n"
   ]
  },
  {
   "cell_type": "markdown",
   "id": "897cd63c",
   "metadata": {},
   "source": [
    "## Step 10: Real-World Example"
   ]
  },
  {
   "cell_type": "code",
   "execution_count": 11,
   "id": "9cac67c4",
   "metadata": {},
   "outputs": [
    {
     "name": "stdout",
     "output_type": "stream",
     "text": [
      "  Product   Jan   Feb   Mar  Total\n",
      "0       A  1000  1100  1050   3150\n",
      "1       B  1200  1300  1250   3750\n",
      "2       C   900   950   970   2820\n",
      "Monthly Average:\n",
      " Jan    1033.333333\n",
      "Feb    1116.666667\n",
      "Mar    1090.000000\n",
      "dtype: float64\n"
     ]
    }
   ],
   "source": [
    "# Sales DataFrame\n",
    "sales = pd.DataFrame({\n",
    "    \"Product\": [\"A\", \"B\", \"C\"],\n",
    "    \"Jan\": [1000, 1200, 900],\n",
    "    \"Feb\": [1100, 1300, 950],\n",
    "    \"Mar\": [1050, 1250, 970]\n",
    "})\n",
    "\n",
    "# Total sales per product\n",
    "sales['Total'] = sales[['Jan','Feb','Mar']].sum(axis=1)\n",
    "print(sales)\n",
    "\n",
    "# Average sales per month\n",
    "monthly_avg = sales[['Jan','Feb','Mar']].mean(axis=0)\n",
    "print(\"Monthly Average:\\n\", monthly_avg)"
   ]
  },
  {
   "cell_type": "markdown",
   "id": "8c19c7e1",
   "metadata": {},
   "source": [
    "\n",
    "---\n",
    "\n",
    "## ✅ Summary\n",
    "\n",
    "* Pandas supports **element-wise operations** on Series and DataFrames.\n",
    "* Arithmetic can be applied to **columns, rows, or entire DataFrames**.\n",
    "* Aggregation functions: `.sum()`, `.mean()`, `.max()`, `.min()`, `.apply()`.\n",
    "* DataFrames align automatically during operations **based on index and columns**.\n",
    "* Lambda functions and custom functions can be applied with `.apply()` for flexible operations.\n",
    "\n",
    "\n",
    "---\n"
   ]
  }
 ],
 "metadata": {
  "kernelspec": {
   "display_name": "Python 3",
   "language": "python",
   "name": "python3"
  },
  "language_info": {
   "codemirror_mode": {
    "name": "ipython",
    "version": 3
   },
   "file_extension": ".py",
   "mimetype": "text/x-python",
   "name": "python",
   "nbconvert_exporter": "python",
   "pygments_lexer": "ipython3",
   "version": "3.10.11"
  }
 },
 "nbformat": 4,
 "nbformat_minor": 5
}
