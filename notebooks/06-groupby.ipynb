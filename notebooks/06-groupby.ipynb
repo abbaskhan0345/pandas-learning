{
 "cells": [
  {
   "cell_type": "markdown",
   "id": "f520704a",
   "metadata": {},
   "source": [
    "# Pandas GroupBy\n",
    "**`06-groupby.ipynb`**\n",
    "\n",
    "The **`groupby`** function in Pandas is used to **split data into groups based on some criteria**, perform **aggregations**, and combine results.  \n",
    "It is very useful for **summarizing and analyzing data**.\n",
    "\n",
    "---"
   ]
  },
  {
   "cell_type": "markdown",
   "id": "b2fbf20f",
   "metadata": {},
   "source": [
    "## Step 1: Import Libraries"
   ]
  },
  {
   "cell_type": "code",
   "execution_count": 1,
   "id": "bbe0c9d3",
   "metadata": {},
   "outputs": [],
   "source": [
    "import pandas as pd\n",
    "import numpy as np\n"
   ]
  },
  {
   "cell_type": "markdown",
   "id": "12753ada",
   "metadata": {},
   "source": [
    "---"
   ]
  },
  {
   "cell_type": "markdown",
   "id": "bda739e6",
   "metadata": {},
   "source": [
    "## Step 2: Create Sample DataFrame"
   ]
  },
  {
   "cell_type": "code",
   "execution_count": 2,
   "id": "9403042a",
   "metadata": {},
   "outputs": [
    {
     "name": "stdout",
     "output_type": "stream",
     "text": [
      "  Employee Department  Salary  Age\n",
      "0    Alice         HR   50000   25\n",
      "1      Bob         IT   60000   30\n",
      "2  Charlie    Finance   55000   28\n",
      "3    David         IT   65000   35\n",
      "4      Eva         HR   52000   27\n",
      "5    Frank    Finance   58000   32\n"
     ]
    }
   ],
   "source": [
    "data = {\n",
    "    \"Employee\": [\"Alice\", \"Bob\", \"Charlie\", \"David\", \"Eva\", \"Frank\"],\n",
    "    \"Department\": [\"HR\", \"IT\", \"Finance\", \"IT\", \"HR\", \"Finance\"],\n",
    "    \"Salary\": [50000, 60000, 55000, 65000, 52000, 58000],\n",
    "    \"Age\": [25, 30, 28, 35, 27, 32]\n",
    "}\n",
    "\n",
    "df = pd.DataFrame(data)\n",
    "print(df)"
   ]
  },
  {
   "cell_type": "markdown",
   "id": "10d54fd0",
   "metadata": {},
   "source": [
    "\n",
    "---\n"
   ]
  },
  {
   "cell_type": "markdown",
   "id": "58caf555",
   "metadata": {},
   "source": [
    "\n",
    "## Step 3: Basic GroupBy\n",
    "\n",
    "### Group by a Single Column"
   ]
  },
  {
   "cell_type": "code",
   "execution_count": 3,
   "id": "7e0cd4d2",
   "metadata": {},
   "outputs": [
    {
     "name": "stdout",
     "output_type": "stream",
     "text": [
      "<pandas.core.groupby.generic.DataFrameGroupBy object at 0x000001F2BFBC7520>\n"
     ]
    }
   ],
   "source": [
    "grouped = df.groupby('Department')\n",
    "print(grouped)\n",
    "# This creates a GroupBy object. To see results, we need to aggregate."
   ]
  },
  {
   "cell_type": "markdown",
   "id": "9b1d9c17",
   "metadata": {},
   "source": [
    "### Aggregation"
   ]
  },
  {
   "cell_type": "code",
   "execution_count": 4,
   "id": "5023f953",
   "metadata": {},
   "outputs": [
    {
     "name": "stdout",
     "output_type": "stream",
     "text": [
      "Department\n",
      "Finance    56500.0\n",
      "HR         51000.0\n",
      "IT         62500.0\n",
      "Name: Salary, dtype: float64\n",
      "Department\n",
      "Finance    32\n",
      "HR         27\n",
      "IT         35\n",
      "Name: Age, dtype: int64\n"
     ]
    }
   ],
   "source": [
    "# Average salary by department\n",
    "print(grouped['Salary'].mean())\n",
    "\n",
    "# Maximum age in each department\n",
    "print(grouped['Age'].max())"
   ]
  },
  {
   "cell_type": "markdown",
   "id": "8a7e1d75",
   "metadata": {},
   "source": [
    "\n",
    "---"
   ]
  },
  {
   "cell_type": "markdown",
   "id": "74ad741c",
   "metadata": {},
   "source": [
    "## Step 4: Multiple Aggregations"
   ]
  },
  {
   "cell_type": "code",
   "execution_count": 5,
   "id": "9c79d3c5",
   "metadata": {},
   "outputs": [
    {
     "name": "stdout",
     "output_type": "stream",
     "text": [
      "               mean     sum    max    min\n",
      "Department                               \n",
      "Finance     56500.0  113000  58000  55000\n",
      "HR          51000.0  102000  52000  50000\n",
      "IT          62500.0  125000  65000  60000\n"
     ]
    }
   ],
   "source": [
    "# Multiple aggregation functions\n",
    "agg_result = grouped['Salary'].agg(['mean', 'sum', 'max', 'min'])\n",
    "print(agg_result)"
   ]
  },
  {
   "cell_type": "markdown",
   "id": "a6bb8841",
   "metadata": {},
   "source": [
    "---\n",
    "\n",
    "## Step 5: Grouping by Multiple Columns"
   ]
  },
  {
   "cell_type": "code",
   "execution_count": 6,
   "id": "ee51092d",
   "metadata": {},
   "outputs": [
    {
     "name": "stdout",
     "output_type": "stream",
     "text": [
      "Department  Team\n",
      "Finance     A       55000.0\n",
      "            B       58000.0\n",
      "HR          A       51000.0\n",
      "IT          B       62500.0\n",
      "Name: Salary, dtype: float64\n"
     ]
    }
   ],
   "source": [
    "# Create another column\n",
    "df['Team'] = ['A','B','A','B','A','B']\n",
    "\n",
    "grouped_multi = df.groupby(['Department', 'Team'])['Salary'].mean()\n",
    "print(grouped_multi)\n"
   ]
  },
  {
   "cell_type": "markdown",
   "id": "e7dd0cd4",
   "metadata": {},
   "source": [
    "---"
   ]
  },
  {
   "cell_type": "markdown",
   "id": "f62ec6d1",
   "metadata": {},
   "source": [
    "## Step 6: Iterating Over Group"
   ]
  },
  {
   "cell_type": "code",
   "execution_count": 7,
   "id": "8c0795ed",
   "metadata": {},
   "outputs": [
    {
     "name": "stdout",
     "output_type": "stream",
     "text": [
      "Department: Finance\n",
      "  Employee Department  Salary  Age Team\n",
      "2  Charlie    Finance   55000   28    A\n",
      "5    Frank    Finance   58000   32    B\n",
      "------------------------------\n",
      "Department: HR\n",
      "  Employee Department  Salary  Age Team\n",
      "0    Alice         HR   50000   25    A\n",
      "4      Eva         HR   52000   27    A\n",
      "------------------------------\n",
      "Department: IT\n",
      "  Employee Department  Salary  Age Team\n",
      "1      Bob         IT   60000   30    B\n",
      "3    David         IT   65000   35    B\n",
      "------------------------------\n"
     ]
    }
   ],
   "source": [
    "for name, group in grouped:\n",
    "    print(f\"Department: {name}\")\n",
    "    print(group)\n",
    "    print(\"-\"*30)"
   ]
  },
  {
   "cell_type": "markdown",
   "id": "5ae719a6",
   "metadata": {},
   "source": [
    "\n",
    "---\n"
   ]
  },
  {
   "cell_type": "code",
   "execution_count": 8,
   "id": "035882b1",
   "metadata": {},
   "outputs": [],
   "source": [
    "## Step 7: Accessing a Single Group"
   ]
  },
  {
   "cell_type": "markdown",
   "id": "ae0858d1",
   "metadata": {},
   "source": [
    "it_group = grouped.get_group('IT')\n",
    "print(it_group)"
   ]
  },
  {
   "cell_type": "markdown",
   "id": "ae364c78",
   "metadata": {},
   "source": [
    "\n",
    "---"
   ]
  },
  {
   "cell_type": "markdown",
   "id": "5ceb7198",
   "metadata": {},
   "source": [
    "## Step 8: Transforming Data"
   ]
  },
  {
   "cell_type": "code",
   "execution_count": 9,
   "id": "3bafa4da",
   "metadata": {},
   "outputs": [
    {
     "name": "stdout",
     "output_type": "stream",
     "text": [
      "  Employee Department  Salary  Age Team  Salary_Normalized\n",
      "0    Alice         HR   50000   25    A            -1000.0\n",
      "1      Bob         IT   60000   30    B            -2500.0\n",
      "2  Charlie    Finance   55000   28    A            -1500.0\n",
      "3    David         IT   65000   35    B             2500.0\n",
      "4      Eva         HR   52000   27    A             1000.0\n",
      "5    Frank    Finance   58000   32    B             1500.0\n"
     ]
    }
   ],
   "source": [
    "# Normalize salaries by subtracting department mean\n",
    "df['Salary_Normalized'] = grouped['Salary'].transform(lambda x: x - x.mean())\n",
    "print(df)\n"
   ]
  },
  {
   "cell_type": "markdown",
   "id": "c86ec434",
   "metadata": {},
   "source": [
    "---\n",
    "\n"
   ]
  },
  {
   "cell_type": "markdown",
   "id": "92901ac9",
   "metadata": {},
   "source": [
    "## Step 9: Applying Custom Functions"
   ]
  },
  {
   "cell_type": "code",
   "execution_count": 10,
   "id": "9b0e4f86",
   "metadata": {},
   "outputs": [
    {
     "name": "stdout",
     "output_type": "stream",
     "text": [
      "Department\n",
      "Finance    3000\n",
      "HR         2000\n",
      "IT         5000\n",
      "Name: Salary, dtype: int64\n"
     ]
    }
   ],
   "source": [
    "# Function to calculate salary range\n",
    "def salary_range(x):\n",
    "    return x.max() - x.min()\n",
    "\n",
    "range_by_department = grouped['Salary'].apply(salary_range)\n",
    "print(range_by_department)\n"
   ]
  },
  {
   "cell_type": "markdown",
   "id": "ac9bf73f",
   "metadata": {},
   "source": [
    "---\n"
   ]
  },
  {
   "cell_type": "markdown",
   "id": "050cfc29",
   "metadata": {},
   "source": [
    "## Step 10: Combining Aggregation with Other Columns\n"
   ]
  },
  {
   "cell_type": "code",
   "execution_count": 11,
   "id": "eb9a9067",
   "metadata": {},
   "outputs": [
    {
     "name": "stdout",
     "output_type": "stream",
     "text": [
      "             Age  Salary\n",
      "Department              \n",
      "Finance     30.0   58000\n",
      "HR          26.0   52000\n",
      "IT          32.5   65000\n"
     ]
    }
   ],
   "source": [
    "# Average age and max salary per department\n",
    "agg_df = grouped.agg({'Age':'mean', 'Salary':'max'})\n",
    "print(agg_df)\n"
   ]
  },
  {
   "cell_type": "markdown",
   "id": "3406692a",
   "metadata": {},
   "source": [
    "---\n"
   ]
  },
  {
   "cell_type": "markdown",
   "id": "a5a403a0",
   "metadata": {},
   "source": [
    "\n",
    "## Step 11: Real-World Example"
   ]
  },
  {
   "cell_type": "code",
   "execution_count": 12,
   "id": "effbd023",
   "metadata": {},
   "outputs": [
    {
     "name": "stdout",
     "output_type": "stream",
     "text": [
      "Salesperson\n",
      "Alice      2200\n",
      "Bob        3100\n",
      "Charlie    4100\n",
      "Name: Revenue, dtype: int64\n",
      "Region\n",
      "North    1366.666667\n",
      "South    1766.666667\n",
      "Name: Revenue, dtype: float64\n"
     ]
    }
   ],
   "source": [
    "# Sales Data\n",
    "sales = pd.DataFrame({\n",
    "    \"Salesperson\": [\"Alice\", \"Bob\", \"Charlie\", \"Alice\", \"Bob\", \"Charlie\"],\n",
    "    \"Region\": [\"North\", \"North\", \"South\", \"South\", \"North\", \"South\"],\n",
    "    \"Revenue\": [1000, 1500, 2000, 1200, 1600, 2100]\n",
    "})\n",
    "\n",
    "# Total revenue per salesperson\n",
    "total_revenue = sales.groupby('Salesperson')['Revenue'].sum()\n",
    "print(total_revenue)\n",
    "\n",
    "# Average revenue per region\n",
    "avg_region = sales.groupby('Region')['Revenue'].mean()\n",
    "print(avg_region)"
   ]
  },
  {
   "cell_type": "markdown",
   "id": "02f8c8ef",
   "metadata": {},
   "source": [
    "\n",
    "---"
   ]
  },
  {
   "cell_type": "markdown",
   "id": "a0a8ccdb",
   "metadata": {},
   "source": [
    "\n",
    "## ✅ Summary\n",
    "\n",
    "* **`groupby`** splits data into groups based on values.\n",
    "* Aggregation functions: `.mean()`, `.sum()`, `.max()`, `.min()`, `.agg()`.\n",
    "* Can **group by single or multiple columns**.\n",
    "* `.transform()` allows returning a **full-sized DataFrame aligned with original**.\n",
    "* `.apply()` allows applying **custom functions** to groups.\n",
    "* Essential for **summarizing, analyzing, and comparing categorical data**.\n",
    "\n",
    "---"
   ]
  }
 ],
 "metadata": {
  "kernelspec": {
   "display_name": "Python 3",
   "language": "python",
   "name": "python3"
  },
  "language_info": {
   "codemirror_mode": {
    "name": "ipython",
    "version": 3
   },
   "file_extension": ".py",
   "mimetype": "text/x-python",
   "name": "python",
   "nbconvert_exporter": "python",
   "pygments_lexer": "ipython3",
   "version": "3.10.11"
  }
 },
 "nbformat": 4,
 "nbformat_minor": 5
}
