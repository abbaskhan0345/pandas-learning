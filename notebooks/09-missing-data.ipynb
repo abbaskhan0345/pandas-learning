{
 "cells": [
  {
   "cell_type": "markdown",
   "id": "2c3a14bc",
   "metadata": {},
   "source": [
    "# Handling Missing Data in Pandas\n",
    "**`09-missing-data.ipynb`**\n",
    "\n",
    "Missing data is very common in real-world datasets. Pandas provides **powerful tools** to detect, remove, and fill missing values efficiently.\n",
    "\n",
    "---\n"
   ]
  },
  {
   "cell_type": "markdown",
   "id": "afc319f8",
   "metadata": {},
   "source": [
    "\n",
    "## Step 1: Import Libraries\n"
   ]
  },
  {
   "cell_type": "code",
   "execution_count": 1,
   "id": "da46ab63",
   "metadata": {},
   "outputs": [],
   "source": [
    "\n",
    "import pandas as pd\n",
    "import numpy as np"
   ]
  },
  {
   "cell_type": "markdown",
   "id": "35f1e22f",
   "metadata": {},
   "source": [
    "\n",
    "---\n"
   ]
  },
  {
   "cell_type": "markdown",
   "id": "fd299876",
   "metadata": {},
   "source": [
    "\n",
    "## Step 2: Create Sample DataFrame with Missing Values"
   ]
  },
  {
   "cell_type": "code",
   "execution_count": 2,
   "id": "55e05af1",
   "metadata": {},
   "outputs": [
    {
     "name": "stdout",
     "output_type": "stream",
     "text": [
      "      Name   Age   Salary Department\n",
      "0    Alice  25.0  50000.0         HR\n",
      "1      Bob   NaN  60000.0         IT\n",
      "2  Charlie  28.0      NaN    Finance\n",
      "3    David  35.0  65000.0        NaN\n",
      "4      Eva   NaN  52000.0         HR\n"
     ]
    }
   ],
   "source": [
    "data = {\n",
    "    \"Name\": [\"Alice\", \"Bob\", \"Charlie\", \"David\", \"Eva\"],\n",
    "    \"Age\": [25, np.nan, 28, 35, np.nan],\n",
    "    \"Salary\": [50000, 60000, np.nan, 65000, 52000],\n",
    "    \"Department\": [\"HR\", \"IT\", \"Finance\", np.nan, \"HR\"]\n",
    "}\n",
    "\n",
    "df = pd.DataFrame(data)\n",
    "print(df)\n"
   ]
  },
  {
   "cell_type": "markdown",
   "id": "55e0e299",
   "metadata": {},
   "source": [
    "\n",
    "---\n"
   ]
  },
  {
   "cell_type": "markdown",
   "id": "aeeb717e",
   "metadata": {},
   "source": [
    "\n",
    "## Step 3: Detect Missing Values"
   ]
  },
  {
   "cell_type": "code",
   "execution_count": 3,
   "id": "cc205775",
   "metadata": {},
   "outputs": [
    {
     "name": "stdout",
     "output_type": "stream",
     "text": [
      "    Name    Age  Salary  Department\n",
      "0  False  False   False       False\n",
      "1  False   True   False       False\n",
      "2  False  False    True       False\n",
      "3  False  False   False        True\n",
      "4  False   True   False       False\n",
      "Name          0\n",
      "Age           2\n",
      "Salary        1\n",
      "Department    1\n",
      "dtype: int64\n",
      "Name          5\n",
      "Age           3\n",
      "Salary        4\n",
      "Department    4\n",
      "dtype: int64\n"
     ]
    }
   ],
   "source": [
    "# Boolean mask for missing values\n",
    "print(df.isnull())\n",
    "\n",
    "# Count missing values per column\n",
    "print(df.isnull().sum())\n",
    "\n",
    "# Count non-missing values\n",
    "print(df.notnull().sum())\n"
   ]
  },
  {
   "cell_type": "markdown",
   "id": "a0d4ef2e",
   "metadata": {},
   "source": [
    "\n",
    "---\n"
   ]
  },
  {
   "cell_type": "markdown",
   "id": "8306bbb6",
   "metadata": {},
   "source": [
    "\n",
    "## Step 4: Drop Missing Values"
   ]
  },
  {
   "cell_type": "code",
   "execution_count": 4,
   "id": "9257d5ec",
   "metadata": {},
   "outputs": [
    {
     "name": "stdout",
     "output_type": "stream",
     "text": [
      "Rows after dropping any missing value:\n",
      "     Name   Age   Salary Department\n",
      "0  Alice  25.0  50000.0         HR\n",
      "Rows after dropping missing Age:\n",
      "       Name   Age   Salary Department\n",
      "0    Alice  25.0  50000.0         HR\n",
      "2  Charlie  28.0      NaN    Finance\n",
      "3    David  35.0  65000.0        NaN\n",
      "Columns after dropping missing values:\n",
      "       Name\n",
      "0    Alice\n",
      "1      Bob\n",
      "2  Charlie\n",
      "3    David\n",
      "4      Eva\n"
     ]
    }
   ],
   "source": [
    "# Drop rows with any missing value\n",
    "df_dropped = df.dropna()\n",
    "print(\"Rows after dropping any missing value:\\n\", df_dropped)\n",
    "\n",
    "# Drop rows where specific column is missing\n",
    "df_drop_age = df.dropna(subset=['Age'])\n",
    "print(\"Rows after dropping missing Age:\\n\", df_drop_age)\n",
    "\n",
    "# Drop columns with missing values\n",
    "df_drop_col = df.dropna(axis=1)\n",
    "print(\"Columns after dropping missing values:\\n\", df_drop_col)"
   ]
  },
  {
   "cell_type": "markdown",
   "id": "cc253e24",
   "metadata": {},
   "source": [
    "\n",
    "---\n"
   ]
  },
  {
   "cell_type": "markdown",
   "id": "6e5b2709",
   "metadata": {},
   "source": [
    "\n",
    "## Step 5: Fill Missing Values\n",
    "\n"
   ]
  },
  {
   "cell_type": "code",
   "execution_count": 5,
   "id": "92bb035e",
   "metadata": {},
   "outputs": [
    {
     "name": "stdout",
     "output_type": "stream",
     "text": [
      "      Name   Age   Salary Department\n",
      "0    Alice  25.0  50000.0         HR\n",
      "1      Bob   0.0  60000.0         IT\n",
      "2  Charlie  28.0      0.0    Finance\n",
      "3    David  35.0  65000.0          0\n",
      "4      Eva   0.0  52000.0         HR\n",
      "      Name        Age   Salary Department\n",
      "0    Alice  25.000000  50000.0         HR\n",
      "1      Bob  29.333333  60000.0         IT\n",
      "2  Charlie  28.000000  56750.0    Finance\n",
      "3    David  35.000000  65000.0        NaN\n",
      "4      Eva  29.333333  52000.0         HR\n",
      "      Name        Age   Salary Department\n",
      "0    Alice  25.000000  50000.0         HR\n",
      "1      Bob  29.333333  60000.0         IT\n",
      "2  Charlie  28.000000  56750.0    Finance\n",
      "3    David  35.000000  65000.0    Finance\n",
      "4      Eva  29.333333  52000.0         HR\n"
     ]
    },
    {
     "name": "stderr",
     "output_type": "stream",
     "text": [
      "C:\\Users\\hakha\\AppData\\Local\\Temp\\ipykernel_10000\\2787250137.py:6: FutureWarning: A value is trying to be set on a copy of a DataFrame or Series through chained assignment using an inplace method.\n",
      "The behavior will change in pandas 3.0. This inplace method will never work because the intermediate object on which we are setting values always behaves as a copy.\n",
      "\n",
      "For example, when doing 'df[col].method(value, inplace=True)', try using 'df.method({col: value}, inplace=True)' or df[col] = df[col].method(value) instead, to perform the operation inplace on the original object.\n",
      "\n",
      "\n",
      "  df['Age'].fillna(df['Age'].mean(), inplace=True)\n",
      "C:\\Users\\hakha\\AppData\\Local\\Temp\\ipykernel_10000\\2787250137.py:7: FutureWarning: A value is trying to be set on a copy of a DataFrame or Series through chained assignment using an inplace method.\n",
      "The behavior will change in pandas 3.0. This inplace method will never work because the intermediate object on which we are setting values always behaves as a copy.\n",
      "\n",
      "For example, when doing 'df[col].method(value, inplace=True)', try using 'df.method({col: value}, inplace=True)' or df[col] = df[col].method(value) instead, to perform the operation inplace on the original object.\n",
      "\n",
      "\n",
      "  df['Salary'].fillna(df['Salary'].mean(), inplace=True)\n",
      "C:\\Users\\hakha\\AppData\\Local\\Temp\\ipykernel_10000\\2787250137.py:11: FutureWarning: A value is trying to be set on a copy of a DataFrame or Series through chained assignment using an inplace method.\n",
      "The behavior will change in pandas 3.0. This inplace method will never work because the intermediate object on which we are setting values always behaves as a copy.\n",
      "\n",
      "For example, when doing 'df[col].method(value, inplace=True)', try using 'df.method({col: value}, inplace=True)' or df[col] = df[col].method(value) instead, to perform the operation inplace on the original object.\n",
      "\n",
      "\n",
      "  df['Department'].fillna(method='ffill', inplace=True)\n",
      "C:\\Users\\hakha\\AppData\\Local\\Temp\\ipykernel_10000\\2787250137.py:11: FutureWarning: Series.fillna with 'method' is deprecated and will raise in a future version. Use obj.ffill() or obj.bfill() instead.\n",
      "  df['Department'].fillna(method='ffill', inplace=True)\n"
     ]
    }
   ],
   "source": [
    "# Fill with constant value\n",
    "df_filled = df.fillna(0)\n",
    "print(df_filled)\n",
    "\n",
    "# Fill with mean (numerical columns)\n",
    "df['Age'].fillna(df['Age'].mean(), inplace=True)\n",
    "df['Salary'].fillna(df['Salary'].mean(), inplace=True)\n",
    "print(df)\n",
    "\n",
    "# Fill with forward-fill method\n",
    "df['Department'].fillna(method='ffill', inplace=True)\n",
    "print(df)"
   ]
  },
  {
   "cell_type": "markdown",
   "id": "4ed1322e",
   "metadata": {},
   "source": [
    "\n",
    "---\n",
    "\n"
   ]
  },
  {
   "cell_type": "markdown",
   "id": "9b8ae423",
   "metadata": {},
   "source": [
    "## Step 6: Interpolation\n",
    "\n"
   ]
  },
  {
   "cell_type": "code",
   "execution_count": 6,
   "id": "6c314bb4",
   "metadata": {},
   "outputs": [
    {
     "name": "stdout",
     "output_type": "stream",
     "text": [
      "Before Interpolation:\n",
      "    Time  Value\n",
      "0     1   10.0\n",
      "1     2    NaN\n",
      "2     3   30.0\n",
      "3     4    NaN\n",
      "4     5   50.0\n",
      "After Interpolation:\n",
      "    Time  Value\n",
      "0     1   10.0\n",
      "1     2   20.0\n",
      "2     3   30.0\n",
      "3     4   40.0\n",
      "4     5   50.0\n"
     ]
    }
   ],
   "source": [
    "\n",
    "# Linear interpolation for numerical columns\n",
    "data = {\n",
    "    \"Time\": [1, 2, 3, 4, 5],\n",
    "    \"Value\": [10, np.nan, 30, np.nan, 50]\n",
    "}\n",
    "df_interp = pd.DataFrame(data)\n",
    "print(\"Before Interpolation:\\n\", df_interp)\n",
    "\n",
    "df_interp['Value'] = df_interp['Value'].interpolate()\n",
    "print(\"After Interpolation:\\n\", df_interp)"
   ]
  },
  {
   "cell_type": "markdown",
   "id": "4cdb601b",
   "metadata": {},
   "source": [
    "\n",
    "---\n"
   ]
  },
  {
   "cell_type": "markdown",
   "id": "d35e8288",
   "metadata": {},
   "source": [
    "\n",
    "## Step 7: Replace Specific Values"
   ]
  },
  {
   "cell_type": "code",
   "execution_count": 7,
   "id": "2961c8b2",
   "metadata": {},
   "outputs": [
    {
     "name": "stdout",
     "output_type": "stream",
     "text": [
      "      Name        Age   Salary Department\n",
      "0    Alice  25.000000  50000.0         HR\n",
      "1      Bob  29.333333  60000.0         IT\n",
      "2  Charlie  28.000000  56750.0    Finance\n",
      "3    David  35.000000  65000.0    Finance\n",
      "4      Eva  29.333333  52000.0         HR\n"
     ]
    }
   ],
   "source": [
    "# Replace all NaN with a string\n",
    "df.replace(np.nan, \"Missing\", inplace=True)\n",
    "print(df)\n"
   ]
  },
  {
   "cell_type": "markdown",
   "id": "b6bd6059",
   "metadata": {},
   "source": [
    "\n",
    "---"
   ]
  },
  {
   "cell_type": "markdown",
   "id": "0e721d54",
   "metadata": {},
   "source": [
    "\n",
    "## Step 8: Summary\n",
    "\n",
    "* **Detect missing values** using `isnull()` and `notnull()`.\n",
    "* **Remove missing values** using `dropna()` (rows or columns).\n",
    "* **Fill missing values** using `fillna()` with constants, mean, median, forward/backward fill.\n",
    "* **Interpolate** numerical data for smooth filling.\n",
    "* **Replace** specific values with `replace()`.\n",
    "* Handling missing data is **critical** for data cleaning and preprocessing before analysis or modeling.\n",
    "\n",
    "---"
   ]
  }
 ],
 "metadata": {
  "kernelspec": {
   "display_name": "Python 3",
   "language": "python",
   "name": "python3"
  },
  "language_info": {
   "codemirror_mode": {
    "name": "ipython",
    "version": 3
   },
   "file_extension": ".py",
   "mimetype": "text/x-python",
   "name": "python",
   "nbconvert_exporter": "python",
   "pygments_lexer": "ipython3",
   "version": "3.10.11"
  }
 },
 "nbformat": 4,
 "nbformat_minor": 5
}
