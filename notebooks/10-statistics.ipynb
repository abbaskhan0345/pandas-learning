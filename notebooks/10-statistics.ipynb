{
 "cells": [
  {
   "cell_type": "markdown",
   "id": "897184c9",
   "metadata": {},
   "source": [
    "# Descriptive Statistics in Pandas\n",
    "**`10-statistics.ipynb`**\n",
    "\n",
    "Pandas makes it easy to calculate **statistical measures** for data analysis.  \n",
    "We’ll explore methods like mean, median, mode, variance, standard deviation, correlation, and more.\n",
    "\n",
    "---\n"
   ]
  },
  {
   "cell_type": "markdown",
   "id": "3ce359ad",
   "metadata": {},
   "source": [
    "\n",
    "## Step 1: Import Libraries"
   ]
  },
  {
   "cell_type": "code",
   "execution_count": 1,
   "id": "617aaf05",
   "metadata": {},
   "outputs": [],
   "source": [
    "import pandas as pd\n",
    "import numpy as np\n",
    "\n"
   ]
  },
  {
   "cell_type": "markdown",
   "id": "f2d1ee96",
   "metadata": {},
   "source": [
    "---\n"
   ]
  },
  {
   "cell_type": "markdown",
   "id": "c715b164",
   "metadata": {},
   "source": [
    "## Step 2: Create a Sample DataFrame"
   ]
  },
  {
   "cell_type": "code",
   "execution_count": 2,
   "id": "14fa5a75",
   "metadata": {},
   "outputs": [
    {
     "name": "stdout",
     "output_type": "stream",
     "text": [
      "      Name  Age  Salary  Experience\n",
      "0    Alice   25   50000           1\n",
      "1      Bob   30   60000           3\n",
      "2  Charlie   28   55000           4\n",
      "3    David   35   65000           6\n",
      "4      Eva   40   70000           8\n"
     ]
    }
   ],
   "source": [
    "data = {\n",
    "    \"Name\": [\"Alice\", \"Bob\", \"Charlie\", \"David\", \"Eva\"],\n",
    "    \"Age\": [25, 30, 28, 35, 40],\n",
    "    \"Salary\": [50000, 60000, 55000, 65000, 70000],\n",
    "    \"Experience\": [1, 3, 4, 6, 8]\n",
    "}\n",
    "\n",
    "df = pd.DataFrame(data)\n",
    "print(df)\n"
   ]
  },
  {
   "cell_type": "markdown",
   "id": "38d3da6c",
   "metadata": {},
   "source": [
    "\n",
    "\n",
    "---"
   ]
  },
  {
   "cell_type": "markdown",
   "id": "76466f3e",
   "metadata": {},
   "source": [
    "\n",
    "## Step 3: Quick Overview"
   ]
  },
  {
   "cell_type": "code",
   "execution_count": 3,
   "id": "9e20478f",
   "metadata": {},
   "outputs": [
    {
     "name": "stdout",
     "output_type": "stream",
     "text": [
      "            Age       Salary  Experience\n",
      "count   5.00000      5.00000    5.000000\n",
      "mean   31.60000  60000.00000    4.400000\n",
      "std     5.94138   7905.69415    2.701851\n",
      "min    25.00000  50000.00000    1.000000\n",
      "25%    28.00000  55000.00000    3.000000\n",
      "50%    30.00000  60000.00000    4.000000\n",
      "75%    35.00000  65000.00000    6.000000\n",
      "max    40.00000  70000.00000    8.000000\n",
      "         Name       Age       Salary  Experience\n",
      "count       5   5.00000      5.00000    5.000000\n",
      "unique      5       NaN          NaN         NaN\n",
      "top     Alice       NaN          NaN         NaN\n",
      "freq        1       NaN          NaN         NaN\n",
      "mean      NaN  31.60000  60000.00000    4.400000\n",
      "std       NaN   5.94138   7905.69415    2.701851\n",
      "min       NaN  25.00000  50000.00000    1.000000\n",
      "25%       NaN  28.00000  55000.00000    3.000000\n",
      "50%       NaN  30.00000  60000.00000    4.000000\n",
      "75%       NaN  35.00000  65000.00000    6.000000\n",
      "max       NaN  40.00000  70000.00000    8.000000\n"
     ]
    }
   ],
   "source": [
    "\n",
    "# Summary statistics for numerical columns\n",
    "print(df.describe())\n",
    "\n",
    "# Include categorical columns too\n",
    "print(df.describe(include='all'))\n",
    "\n"
   ]
  },
  {
   "cell_type": "markdown",
   "id": "f7f92927",
   "metadata": {},
   "source": [
    "---\n",
    "\n"
   ]
  },
  {
   "cell_type": "markdown",
   "id": "61835534",
   "metadata": {},
   "source": [
    "## Step 4: Measures of Central Tendency\n",
    "\n"
   ]
  },
  {
   "cell_type": "code",
   "execution_count": 4,
   "id": "0a5bf322",
   "metadata": {},
   "outputs": [
    {
     "name": "stdout",
     "output_type": "stream",
     "text": [
      "Average Age: 31.6\n",
      "Average Salary: 60000.0\n",
      "Median Age: 30.0\n",
      "Most common Experience: 1\n"
     ]
    }
   ],
   "source": [
    "# Mean\n",
    "print(\"Average Age:\", df['Age'].mean())\n",
    "print(\"Average Salary:\", df['Salary'].mean())\n",
    "\n",
    "# Median\n",
    "print(\"Median Age:\", df['Age'].median())\n",
    "\n",
    "# Mode\n",
    "print(\"Most common Experience:\", df['Experience'].mode()[0])\n"
   ]
  },
  {
   "cell_type": "markdown",
   "id": "83a5480c",
   "metadata": {},
   "source": [
    "\n",
    "---"
   ]
  },
  {
   "cell_type": "markdown",
   "id": "a4bd4d94",
   "metadata": {},
   "source": [
    "\n",
    "## Step 5: Measures of Dispersion\n"
   ]
  },
  {
   "cell_type": "code",
   "execution_count": 5,
   "id": "c6e94708",
   "metadata": {},
   "outputs": [
    {
     "name": "stdout",
     "output_type": "stream",
     "text": [
      "Variance in Salary: 62500000.0\n",
      "Standard Deviation in Salary: 7905.694150420948\n",
      "Range of Salary: 20000\n"
     ]
    }
   ],
   "source": [
    "# Variance\n",
    "print(\"Variance in Salary:\", df['Salary'].var())\n",
    "\n",
    "# Standard Deviation\n",
    "print(\"Standard Deviation in Salary:\", df['Salary'].std())\n",
    "\n",
    "# Range (max - min)\n",
    "salary_range = df['Salary'].max() - df['Salary'].min()\n",
    "print(\"Range of Salary:\", salary_range)"
   ]
  },
  {
   "cell_type": "markdown",
   "id": "67a7e840",
   "metadata": {},
   "source": [
    "\n",
    "---\n"
   ]
  },
  {
   "cell_type": "markdown",
   "id": "ea52adfe",
   "metadata": {},
   "source": [
    "\n",
    "## Step 6: Correlation and Covariance\n",
    "\n"
   ]
  },
  {
   "cell_type": "code",
   "execution_count": 6,
   "id": "5bbad1f0",
   "metadata": {},
   "outputs": [
    {
     "name": "stdout",
     "output_type": "stream",
     "text": [
      "                 Age    Salary  Experience\n",
      "Age         1.000000  0.984656    0.962453\n",
      "Salary      0.984656  1.000000    0.936329\n",
      "Experience  0.962453  0.936329    1.000000\n",
      "                 Age      Salary  Experience\n",
      "Age            35.30     46250.0       15.45\n",
      "Salary      46250.00  62500000.0    20000.00\n",
      "Experience     15.45     20000.0        7.30\n"
     ]
    }
   ],
   "source": [
    "\n",
    "# Correlation (relationship between variables)\n",
    "print(df.corr(numeric_only=True))\n",
    "\n",
    "# Covariance\n",
    "print(df.cov(numeric_only=True))"
   ]
  },
  {
   "cell_type": "markdown",
   "id": "54dba7b7",
   "metadata": {},
   "source": [
    "\n",
    "---\n"
   ]
  },
  {
   "cell_type": "markdown",
   "id": "71c667c7",
   "metadata": {},
   "source": [
    "## Step 7: Value Counts & Unique Values"
   ]
  },
  {
   "cell_type": "code",
   "execution_count": 7,
   "id": "93c71b3d",
   "metadata": {},
   "outputs": [
    {
     "name": "stdout",
     "output_type": "stream",
     "text": [
      "Name\n",
      "Alice      1\n",
      "Bob        1\n",
      "Charlie    1\n",
      "David      1\n",
      "Eva        1\n",
      "Name: count, dtype: int64\n",
      "Unique Ages: [25 30 28 35 40]\n"
     ]
    }
   ],
   "source": [
    "# Frequency of values in categorical data\n",
    "print(df['Name'].value_counts())\n",
    "\n",
    "# Unique values\n",
    "print(\"Unique Ages:\", df['Age'].unique())\n"
   ]
  },
  {
   "cell_type": "markdown",
   "id": "79ef3541",
   "metadata": {},
   "source": [
    "\n",
    "---\n"
   ]
  },
  {
   "cell_type": "markdown",
   "id": "1df45eb8",
   "metadata": {},
   "source": [
    "\n",
    "## Step 8: Apply Statistical Functions Across Rows/Columns"
   ]
  },
  {
   "cell_type": "code",
   "execution_count": 8,
   "id": "6dde486a",
   "metadata": {},
   "outputs": [
    {
     "name": "stdout",
     "output_type": "stream",
     "text": [
      "Age              31.6\n",
      "Salary        60000.0\n",
      "Experience        4.4\n",
      "dtype: float64\n",
      "0    50026\n",
      "1    60033\n",
      "2    55032\n",
      "3    65041\n",
      "4    70048\n",
      "dtype: int64\n"
     ]
    }
   ],
   "source": [
    "# Column-wise mean\n",
    "print(df.mean(numeric_only=True))\n",
    "\n",
    "# Row-wise sum\n",
    "print(df.sum(axis=1, numeric_only=True))\n"
   ]
  },
  {
   "cell_type": "markdown",
   "id": "90ced003",
   "metadata": {},
   "source": [
    "\n",
    "---\n"
   ]
  },
  {
   "cell_type": "markdown",
   "id": "50f66229",
   "metadata": {},
   "source": [
    "\n",
    "## Step 9: Custom Aggregations"
   ]
  },
  {
   "cell_type": "code",
   "execution_count": 9,
   "id": "07ae0578",
   "metadata": {},
   "outputs": [
    {
     "name": "stdout",
     "output_type": "stream",
     "text": [
      "         Age   Salary\n",
      "min     25.0  50000.0\n",
      "max     40.0  70000.0\n",
      "mean    31.6      NaN\n",
      "median   NaN  60000.0\n"
     ]
    }
   ],
   "source": [
    "# Aggregate multiple functions\n",
    "print(df.agg({\n",
    "    \"Age\": [\"min\", \"max\", \"mean\"],\n",
    "    \"Salary\": [\"min\", \"max\", \"median\"]\n",
    "}))\n"
   ]
  },
  {
   "cell_type": "markdown",
   "id": "d4b4d56a",
   "metadata": {},
   "source": [
    "\n",
    "---"
   ]
  },
  {
   "cell_type": "markdown",
   "id": "1fa59299",
   "metadata": {},
   "source": [
    "## Step 10: Summary\n",
    "\n",
    "* `describe()` → quick summary\n",
    "* Central tendency: **mean, median, mode**\n",
    "* Dispersion: **variance, std, range**\n",
    "* Relationships: **correlation, covariance**\n",
    "* Frequency analysis: **value\\_counts, unique**\n",
    "* Custom aggregations with **agg()**\n",
    "\n",
    "These tools are essential for **exploratory data analysis (EDA)**.\n",
    "\n",
    "---"
   ]
  }
 ],
 "metadata": {
  "kernelspec": {
   "display_name": "Python 3",
   "language": "python",
   "name": "python3"
  },
  "language_info": {
   "codemirror_mode": {
    "name": "ipython",
    "version": 3
   },
   "file_extension": ".py",
   "mimetype": "text/x-python",
   "name": "python",
   "nbconvert_exporter": "python",
   "pygments_lexer": "ipython3",
   "version": "3.10.11"
  }
 },
 "nbformat": 4,
 "nbformat_minor": 5
}
