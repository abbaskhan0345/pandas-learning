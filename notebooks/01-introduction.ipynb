{
 "cells": [
  {
   "cell_type": "markdown",
   "id": "d4a3b695",
   "metadata": {},
   "source": [
    "# Introduction to Pandas\n",
    "**`01-introduction.ipynb`**\n",
    "\n",
    "Pandas is a **powerful Python library** for data manipulation and analysis.  \n",
    "It is built on top of **NumPy** and provides **easy-to-use data structures** and functions for handling structured data like tables (CSV, Excel, SQL, etc.).\n",
    "\n",
    "---\n"
   ]
  },
  {
   "cell_type": "markdown",
   "id": "065e54f2",
   "metadata": {},
   "source": [
    "\n",
    "## Why Pandas?\n",
    "\n",
    "- Handle **tabular data** with rows and columns efficiently.\n",
    "- Easy **data cleaning, manipulation, and transformation**.\n",
    "- Supports **time series data**, merging, joining, and aggregation.\n",
    "- Well-integrated with other libraries like **NumPy, Matplotlib, and Scikit-learn**.\n",
    "- Used widely in **Data Science, Machine Learning, and Analytics**.\n",
    "\n",
    "---\n"
   ]
  },
  {
   "cell_type": "markdown",
   "id": "a1537761",
   "metadata": {},
   "source": [
    "## Key Features\n",
    "\n",
    "- **Series:** 1D labeled array (like a column in Excel or SQL)\n",
    "- **DataFrame:** 2D labeled data structure with rows and columns\n",
    "- **Reading/Writing:** CSV, Excel, JSON, SQL, etc.\n",
    "- **Data operations:** Filtering, grouping, merging, aggregation\n",
    "- **Time Series support:** DateTime indexing, resampling, rolling windows\n",
    "\n",
    "---\n"
   ]
  },
  {
   "cell_type": "markdown",
   "id": "d0a9b0f8",
   "metadata": {},
   "source": [
    "## Installation\n",
    "\n",
    "If Pandas is not installed, run:\n",
    "\n",
    "```python\n",
    "!pip install pandas\n",
    "````\n",
    "\n",
    "---"
   ]
  },
  {
   "cell_type": "markdown",
   "id": "c8d3cb41",
   "metadata": {},
   "source": [
    "## Importing Pandas"
   ]
  },
  {
   "cell_type": "code",
   "execution_count": 3,
   "id": "0eb6eb6d",
   "metadata": {},
   "outputs": [],
   "source": [
    "import pandas as pd\n",
    "import numpy as np  # NumPy is often used alongside Pandas"
   ]
  },
  {
   "cell_type": "markdown",
   "id": "05ebe683",
   "metadata": {},
   "source": [
    "\n",
    "---\n"
   ]
  },
  {
   "cell_type": "markdown",
   "id": "f3e7d0ad",
   "metadata": {},
   "source": [
    "## Creating a Pandas Series\n",
    "\n",
    "A **Series** is a 1-dimensional labeled array capable of holding data of any type."
   ]
  },
  {
   "cell_type": "code",
   "execution_count": 4,
   "id": "0a6aef97",
   "metadata": {},
   "outputs": [
    {
     "name": "stdout",
     "output_type": "stream",
     "text": [
      "0    10\n",
      "1    20\n",
      "2    30\n",
      "3    40\n",
      "dtype: int64\n",
      "a    10\n",
      "b    20\n",
      "c    30\n",
      "d    40\n",
      "dtype: int64\n"
     ]
    }
   ],
   "source": [
    "# Create a Series from a list\n",
    "data = [10, 20, 30, 40]\n",
    "series = pd.Series(data)\n",
    "print(series)\n",
    "\n",
    "# Series with custom index\n",
    "series_custom_index = pd.Series(data, index=['a', 'b', 'c', 'd'])\n",
    "print(series_custom_index)\n"
   ]
  },
  {
   "cell_type": "markdown",
   "id": "4a6c1aa6",
   "metadata": {},
   "source": [
    "\n",
    "---"
   ]
  },
  {
   "cell_type": "markdown",
   "id": "1cd6151b",
   "metadata": {},
   "source": [
    "## Creating a Pandas DataFrame\n",
    "\n",
    "A **DataFrame** is a 2-dimensional labeled data structure with columns of potentially different types.\n"
   ]
  },
  {
   "cell_type": "code",
   "execution_count": 5,
   "id": "cb29f468",
   "metadata": {},
   "outputs": [
    {
     "name": "stdout",
     "output_type": "stream",
     "text": [
      "      Name  Age         City\n",
      "0    Alice   25     New York\n",
      "1      Bob   30  Los Angeles\n",
      "2  Charlie   22      Chicago\n"
     ]
    }
   ],
   "source": [
    "# Create a DataFrame from a dictionary\n",
    "data_dict = {\n",
    "    'Name': ['Alice', 'Bob', 'Charlie'],\n",
    "    'Age': [25, 30, 22],\n",
    "    'City': ['New York', 'Los Angeles', 'Chicago']\n",
    "}\n",
    "\n",
    "df = pd.DataFrame(data_dict)\n",
    "print(df)\n"
   ]
  },
  {
   "cell_type": "markdown",
   "id": "8134e65f",
   "metadata": {},
   "source": [
    "\n",
    "---"
   ]
  },
  {
   "cell_type": "markdown",
   "id": "9f87c670",
   "metadata": {},
   "source": [
    "## Inspecting DataFrames"
   ]
  },
  {
   "cell_type": "code",
   "execution_count": 6,
   "id": "4e533c01",
   "metadata": {},
   "outputs": [
    {
     "name": "stdout",
     "output_type": "stream",
     "text": [
      "      Name  Age         City\n",
      "0    Alice   25     New York\n",
      "1      Bob   30  Los Angeles\n",
      "2  Charlie   22      Chicago\n",
      "      Name  Age         City\n",
      "0    Alice   25     New York\n",
      "1      Bob   30  Los Angeles\n",
      "2  Charlie   22      Chicago\n",
      "<class 'pandas.core.frame.DataFrame'>\n",
      "RangeIndex: 3 entries, 0 to 2\n",
      "Data columns (total 3 columns):\n",
      " #   Column  Non-Null Count  Dtype \n",
      "---  ------  --------------  ----- \n",
      " 0   Name    3 non-null      object\n",
      " 1   Age     3 non-null      int64 \n",
      " 2   City    3 non-null      object\n",
      "dtypes: int64(1), object(2)\n",
      "memory usage: 200.0+ bytes\n",
      "None\n",
      "             Age\n",
      "count   3.000000\n",
      "mean   25.666667\n",
      "std     4.041452\n",
      "min    22.000000\n",
      "25%    23.500000\n",
      "50%    25.000000\n",
      "75%    27.500000\n",
      "max    30.000000\n"
     ]
    }
   ],
   "source": [
    "# View first few rows\n",
    "print(df.head())\n",
    "\n",
    "# View last few rows\n",
    "print(df.tail())\n",
    "\n",
    "# Basic information\n",
    "print(df.info())\n",
    "\n",
    "# Summary statistics (numeric columns)\n",
    "print(df.describe())"
   ]
  },
  {
   "cell_type": "markdown",
   "id": "74e14e5e",
   "metadata": {},
   "source": [
    "---\n",
    "\n"
   ]
  },
  {
   "cell_type": "markdown",
   "id": "e7b0b3bf",
   "metadata": {},
   "source": [
    "## Accessing Columns and Rows\n"
   ]
  },
  {
   "cell_type": "code",
   "execution_count": 7,
   "id": "6be2a5c8",
   "metadata": {},
   "outputs": [
    {
     "name": "stdout",
     "output_type": "stream",
     "text": [
      "0      Alice\n",
      "1        Bob\n",
      "2    Charlie\n",
      "Name: Name, dtype: object\n",
      "      Name         City\n",
      "0    Alice     New York\n",
      "1      Bob  Los Angeles\n",
      "2  Charlie      Chicago\n",
      "Name       Alice\n",
      "Age           25\n",
      "City    New York\n",
      "Name: 0, dtype: object\n",
      "Name            Bob\n",
      "Age              30\n",
      "City    Los Angeles\n",
      "Name: 1, dtype: object\n"
     ]
    }
   ],
   "source": [
    "\n",
    "# Access a single column\n",
    "print(df['Name'])\n",
    "\n",
    "# Access multiple columns\n",
    "print(df[['Name', 'City']])\n",
    "\n",
    "# Access rows by index\n",
    "print(df.iloc[0])  # First row\n",
    "print(df.loc[1])   # Row with index 1\n"
   ]
  },
  {
   "cell_type": "markdown",
   "id": "0be16a30",
   "metadata": {},
   "source": [
    "\n",
    "---\n"
   ]
  },
  {
   "cell_type": "markdown",
   "id": "8aed050b",
   "metadata": {},
   "source": [
    "## Checking Missing Values"
   ]
  },
  {
   "cell_type": "code",
   "execution_count": 8,
   "id": "714da113",
   "metadata": {},
   "outputs": [
    {
     "name": "stdout",
     "output_type": "stream",
     "text": [
      "      Name  Age      City\n",
      "0    Alice   25  New York\n",
      "1      Bob   30      None\n",
      "2  Charlie   22   Chicago\n",
      "    Name    Age   City\n",
      "0  False  False  False\n",
      "1  False  False   True\n",
      "2  False  False  False\n",
      "Name    0\n",
      "Age     0\n",
      "City    1\n",
      "dtype: int64\n"
     ]
    }
   ],
   "source": [
    "# Introduce missing value\n",
    "df.loc[1, 'City'] = None\n",
    "print(df)\n",
    "\n",
    "# Check for missing values\n",
    "print(df.isnull())\n",
    "print(df.isnull().sum())"
   ]
  },
  {
   "cell_type": "markdown",
   "id": "6f1d2dcd",
   "metadata": {},
   "source": [
    "\n",
    "---\n"
   ]
  },
  {
   "cell_type": "markdown",
   "id": "0232ebb1",
   "metadata": {},
   "source": [
    "## Summary\n",
    "\n",
    "* Pandas is essential for **data analysis and manipulation**.\n",
    "* **Series** = 1D labeled data; **DataFrame** = 2D labeled data.\n",
    "* Pandas provides **easy ways to inspect, access, and clean data**.\n",
    "* Mastering Pandas is a prerequisite for **Data Science and Machine Learning workflows**.\n",
    "\n",
    "---"
   ]
  }
 ],
 "metadata": {
  "kernelspec": {
   "display_name": "Python 3",
   "language": "python",
   "name": "python3"
  },
  "language_info": {
   "codemirror_mode": {
    "name": "ipython",
    "version": 3
   },
   "file_extension": ".py",
   "mimetype": "text/x-python",
   "name": "python",
   "nbconvert_exporter": "python",
   "pygments_lexer": "ipython3",
   "version": "3.10.11"
  }
 },
 "nbformat": 4,
 "nbformat_minor": 5
}
